{
  "cells": [
    {
      "cell_type": "markdown",
      "metadata": {
        "id": "_WVl6AW1WB8Q"
      },
      "source": [
        "# Importação das Bibliotecas Necessárias"
      ]
    },
    {
      "cell_type": "code",
      "execution_count": 37,
      "metadata": {
        "id": "PynhQCSEVnNa"
      },
      "outputs": [],
      "source": [
        "import pandas as pd\n",
        "import numpy as np\n",
        "import matplotlib.pyplot as plt\n",
        "import seaborn as sns\n",
        "\n",
        "from sklearn.model_selection import train_test_split\n",
        "from sklearn.linear_model import LinearRegression\n",
        "from sklearn.metrics import mean_squared_error, root_mean_squared_error\n",
        "\n",
        "from scipy import stats as st"
      ]
    },
    {
      "cell_type": "markdown",
      "metadata": {
        "id": "Dlr0j7JVVqBv"
      },
      "source": [
        "# 1. Ler os arquivos\n"
      ]
    },
    {
      "cell_type": "code",
      "execution_count": 3,
      "metadata": {
        "id": "z-GuRclnbB8A"
      },
      "outputs": [],
      "source": [
        "data0 = pd.read_csv('geo_data_0.csv')\n",
        "data1 = pd.read_csv('geo_data_1.csv')\n",
        "data2 = pd.read_csv('geo_data_2.csv')"
      ]
    },
    {
      "cell_type": "code",
      "execution_count": 4,
      "metadata": {
        "colab": {
          "base_uri": "https://localhost:8080/"
        },
        "id": "96YJhS1zugpS",
        "outputId": "3093f5b3-1d72-44c7-d5aa-4d3f83a9efb6"
      },
      "outputs": [
        {
          "output_type": "stream",
          "name": "stdout",
          "text": [
            "Info:\n",
            "<class 'pandas.core.frame.DataFrame'>\n",
            "RangeIndex: 100000 entries, 0 to 99999\n",
            "Data columns (total 5 columns):\n",
            " #   Column   Non-Null Count   Dtype  \n",
            "---  ------   --------------   -----  \n",
            " 0   id       100000 non-null  object \n",
            " 1   f0       100000 non-null  float64\n",
            " 2   f1       100000 non-null  float64\n",
            " 3   f2       100000 non-null  float64\n",
            " 4   product  100000 non-null  float64\n",
            "dtypes: float64(4), object(1)\n",
            "memory usage: 3.8+ MB\n",
            "\n",
            "\n",
            "Shape:\n",
            "(100000, 5)\n",
            "\n",
            "\n",
            "Valores nulos:\n",
            "id         0\n",
            "f0         0\n",
            "f1         0\n",
            "f2         0\n",
            "product    0\n",
            "dtype: int64\n",
            "\n",
            "\n",
            "Linhas duplicadas:\n",
            "0\n",
            "\n",
            "\n"
          ]
        }
      ],
      "source": [
        "def analise_inicial(df):\n",
        "    print(\"Info:\")\n",
        "    df.info()\n",
        "    print(\"\\n\")\n",
        "\n",
        "    print(\"Shape:\")\n",
        "    print(df.shape)\n",
        "    print(\"\\n\")\n",
        "\n",
        "    print(\"Valores nulos:\")\n",
        "    print(df.isna().sum())\n",
        "    print(\"\\n\")\n",
        "\n",
        "    print(\"Linhas duplicadas:\")\n",
        "    print(df.duplicated().sum())\n",
        "    print(\"\\n\")\n",
        "\n",
        "# Data0\n",
        "analise_inicial(data0)"
      ]
    },
    {
      "cell_type": "code",
      "execution_count": 5,
      "metadata": {
        "colab": {
          "base_uri": "https://localhost:8080/"
        },
        "id": "IND4RbJlugpT",
        "outputId": "6dd99536-e990-4faa-9737-bdf2bf23d4e9"
      },
      "outputs": [
        {
          "output_type": "stream",
          "name": "stdout",
          "text": [
            "Info:\n",
            "<class 'pandas.core.frame.DataFrame'>\n",
            "RangeIndex: 100000 entries, 0 to 99999\n",
            "Data columns (total 5 columns):\n",
            " #   Column   Non-Null Count   Dtype  \n",
            "---  ------   --------------   -----  \n",
            " 0   id       100000 non-null  object \n",
            " 1   f0       100000 non-null  float64\n",
            " 2   f1       100000 non-null  float64\n",
            " 3   f2       100000 non-null  float64\n",
            " 4   product  100000 non-null  float64\n",
            "dtypes: float64(4), object(1)\n",
            "memory usage: 3.8+ MB\n",
            "\n",
            "\n",
            "Shape:\n",
            "(100000, 5)\n",
            "\n",
            "\n",
            "Valores nulos:\n",
            "id         0\n",
            "f0         0\n",
            "f1         0\n",
            "f2         0\n",
            "product    0\n",
            "dtype: int64\n",
            "\n",
            "\n",
            "Linhas duplicadas:\n",
            "0\n",
            "\n",
            "\n"
          ]
        }
      ],
      "source": [
        "# Data1\n",
        "analise_inicial(data1)"
      ]
    },
    {
      "cell_type": "code",
      "execution_count": 6,
      "metadata": {
        "colab": {
          "base_uri": "https://localhost:8080/"
        },
        "id": "Fw40-lElugpT",
        "outputId": "abdbf158-fc6b-4b75-f4c8-5c7dd443588a"
      },
      "outputs": [
        {
          "output_type": "stream",
          "name": "stdout",
          "text": [
            "Info:\n",
            "<class 'pandas.core.frame.DataFrame'>\n",
            "RangeIndex: 100000 entries, 0 to 99999\n",
            "Data columns (total 5 columns):\n",
            " #   Column   Non-Null Count   Dtype  \n",
            "---  ------   --------------   -----  \n",
            " 0   id       100000 non-null  object \n",
            " 1   f0       100000 non-null  float64\n",
            " 2   f1       100000 non-null  float64\n",
            " 3   f2       100000 non-null  float64\n",
            " 4   product  100000 non-null  float64\n",
            "dtypes: float64(4), object(1)\n",
            "memory usage: 3.8+ MB\n",
            "\n",
            "\n",
            "Shape:\n",
            "(100000, 5)\n",
            "\n",
            "\n",
            "Valores nulos:\n",
            "id         0\n",
            "f0         0\n",
            "f1         0\n",
            "f2         0\n",
            "product    0\n",
            "dtype: int64\n",
            "\n",
            "\n",
            "Linhas duplicadas:\n",
            "0\n",
            "\n",
            "\n"
          ]
        }
      ],
      "source": [
        "# Data2\n",
        "analise_inicial(data2)"
      ]
    },
    {
      "cell_type": "markdown",
      "metadata": {
        "id": "Zb2936kkugpT"
      },
      "source": [
        "Em nenhum dos dataframes há linhas duplicadas ou valores nulos. Todos eles são íntegros."
      ]
    },
    {
      "cell_type": "markdown",
      "metadata": {
        "id": "aIBofL2tVut4"
      },
      "source": [
        "# 2. Construir modelo para predizer o volume de reservas nos poços"
      ]
    },
    {
      "cell_type": "markdown",
      "metadata": {
        "id": "j8FgiEDIfKnD"
      },
      "source": [
        "## 2.1 Conjunto de dados data0"
      ]
    },
    {
      "cell_type": "code",
      "execution_count": 7,
      "metadata": {
        "id": "l6rdsEDTb-hY"
      },
      "outputs": [],
      "source": [
        "X = data0.drop(columns=['id', 'product'])\n",
        "y = data0['product']"
      ]
    },
    {
      "cell_type": "code",
      "execution_count": 8,
      "metadata": {
        "id": "blnzCKbNX3x7"
      },
      "outputs": [],
      "source": [
        "model = LinearRegression()\n",
        "\n",
        "X_train, X_test, y_train, y_test = train_test_split(X, y, test_size=0.25, random_state=42)\n",
        "\n",
        "model.fit(X_train, y_train)\n",
        "\n",
        "y_pred = model.predict(X_test)\n",
        "mse = mean_squared_error(y_test, y_pred)\n",
        "rmse = np.sqrt(mse)\n",
        "y_pred_mean = y_pred.mean()"
      ]
    },
    {
      "cell_type": "code",
      "execution_count": 9,
      "metadata": {
        "colab": {
          "base_uri": "https://localhost:8080/",
          "height": 423
        },
        "id": "7uv9pe7_X3uf",
        "outputId": "75e7c943-cd6e-4717-ae2a-e66f28138b86"
      },
      "outputs": [
        {
          "output_type": "execute_result",
          "data": {
            "text/plain": [
              "        product_x   predicted     id\n",
              "0      122.073350  101.901017  7C6bA\n",
              "1       48.738540   78.217774  dVxsn\n",
              "2      131.338088  115.266901  1Gm3l\n",
              "3       88.327757  105.618618  Nzg1t\n",
              "4       36.959266   97.980185  Z7b4F\n",
              "...           ...         ...    ...\n",
              "24995  148.821520  105.076959  pXFCs\n",
              "24996  123.454003   74.768176  tf6nq\n",
              "24997   91.945213   82.544397  pv8T0\n",
              "24998  149.295563   81.826689  nol4A\n",
              "24999   57.244039   93.121062  MUye1\n",
              "\n",
              "[25000 rows x 3 columns]"
            ],
            "text/html": [
              "\n",
              "  <div id=\"df-aaf74074-2dde-4329-afe5-9d681832d146\" class=\"colab-df-container\">\n",
              "    <div>\n",
              "<style scoped>\n",
              "    .dataframe tbody tr th:only-of-type {\n",
              "        vertical-align: middle;\n",
              "    }\n",
              "\n",
              "    .dataframe tbody tr th {\n",
              "        vertical-align: top;\n",
              "    }\n",
              "\n",
              "    .dataframe thead th {\n",
              "        text-align: right;\n",
              "    }\n",
              "</style>\n",
              "<table border=\"1\" class=\"dataframe\">\n",
              "  <thead>\n",
              "    <tr style=\"text-align: right;\">\n",
              "      <th></th>\n",
              "      <th>product_x</th>\n",
              "      <th>predicted</th>\n",
              "      <th>id</th>\n",
              "    </tr>\n",
              "  </thead>\n",
              "  <tbody>\n",
              "    <tr>\n",
              "      <th>0</th>\n",
              "      <td>122.073350</td>\n",
              "      <td>101.901017</td>\n",
              "      <td>7C6bA</td>\n",
              "    </tr>\n",
              "    <tr>\n",
              "      <th>1</th>\n",
              "      <td>48.738540</td>\n",
              "      <td>78.217774</td>\n",
              "      <td>dVxsn</td>\n",
              "    </tr>\n",
              "    <tr>\n",
              "      <th>2</th>\n",
              "      <td>131.338088</td>\n",
              "      <td>115.266901</td>\n",
              "      <td>1Gm3l</td>\n",
              "    </tr>\n",
              "    <tr>\n",
              "      <th>3</th>\n",
              "      <td>88.327757</td>\n",
              "      <td>105.618618</td>\n",
              "      <td>Nzg1t</td>\n",
              "    </tr>\n",
              "    <tr>\n",
              "      <th>4</th>\n",
              "      <td>36.959266</td>\n",
              "      <td>97.980185</td>\n",
              "      <td>Z7b4F</td>\n",
              "    </tr>\n",
              "    <tr>\n",
              "      <th>...</th>\n",
              "      <td>...</td>\n",
              "      <td>...</td>\n",
              "      <td>...</td>\n",
              "    </tr>\n",
              "    <tr>\n",
              "      <th>24995</th>\n",
              "      <td>148.821520</td>\n",
              "      <td>105.076959</td>\n",
              "      <td>pXFCs</td>\n",
              "    </tr>\n",
              "    <tr>\n",
              "      <th>24996</th>\n",
              "      <td>123.454003</td>\n",
              "      <td>74.768176</td>\n",
              "      <td>tf6nq</td>\n",
              "    </tr>\n",
              "    <tr>\n",
              "      <th>24997</th>\n",
              "      <td>91.945213</td>\n",
              "      <td>82.544397</td>\n",
              "      <td>pv8T0</td>\n",
              "    </tr>\n",
              "    <tr>\n",
              "      <th>24998</th>\n",
              "      <td>149.295563</td>\n",
              "      <td>81.826689</td>\n",
              "      <td>nol4A</td>\n",
              "    </tr>\n",
              "    <tr>\n",
              "      <th>24999</th>\n",
              "      <td>57.244039</td>\n",
              "      <td>93.121062</td>\n",
              "      <td>MUye1</td>\n",
              "    </tr>\n",
              "  </tbody>\n",
              "</table>\n",
              "<p>25000 rows × 3 columns</p>\n",
              "</div>\n",
              "    <div class=\"colab-df-buttons\">\n",
              "\n",
              "  <div class=\"colab-df-container\">\n",
              "    <button class=\"colab-df-convert\" onclick=\"convertToInteractive('df-aaf74074-2dde-4329-afe5-9d681832d146')\"\n",
              "            title=\"Convert this dataframe to an interactive table.\"\n",
              "            style=\"display:none;\">\n",
              "\n",
              "  <svg xmlns=\"http://www.w3.org/2000/svg\" height=\"24px\" viewBox=\"0 -960 960 960\">\n",
              "    <path d=\"M120-120v-720h720v720H120Zm60-500h600v-160H180v160Zm220 220h160v-160H400v160Zm0 220h160v-160H400v160ZM180-400h160v-160H180v160Zm440 0h160v-160H620v160ZM180-180h160v-160H180v160Zm440 0h160v-160H620v160Z\"/>\n",
              "  </svg>\n",
              "    </button>\n",
              "\n",
              "  <style>\n",
              "    .colab-df-container {\n",
              "      display:flex;\n",
              "      gap: 12px;\n",
              "    }\n",
              "\n",
              "    .colab-df-convert {\n",
              "      background-color: #E8F0FE;\n",
              "      border: none;\n",
              "      border-radius: 50%;\n",
              "      cursor: pointer;\n",
              "      display: none;\n",
              "      fill: #1967D2;\n",
              "      height: 32px;\n",
              "      padding: 0 0 0 0;\n",
              "      width: 32px;\n",
              "    }\n",
              "\n",
              "    .colab-df-convert:hover {\n",
              "      background-color: #E2EBFA;\n",
              "      box-shadow: 0px 1px 2px rgba(60, 64, 67, 0.3), 0px 1px 3px 1px rgba(60, 64, 67, 0.15);\n",
              "      fill: #174EA6;\n",
              "    }\n",
              "\n",
              "    .colab-df-buttons div {\n",
              "      margin-bottom: 4px;\n",
              "    }\n",
              "\n",
              "    [theme=dark] .colab-df-convert {\n",
              "      background-color: #3B4455;\n",
              "      fill: #D2E3FC;\n",
              "    }\n",
              "\n",
              "    [theme=dark] .colab-df-convert:hover {\n",
              "      background-color: #434B5C;\n",
              "      box-shadow: 0px 1px 3px 1px rgba(0, 0, 0, 0.15);\n",
              "      filter: drop-shadow(0px 1px 2px rgba(0, 0, 0, 0.3));\n",
              "      fill: #FFFFFF;\n",
              "    }\n",
              "  </style>\n",
              "\n",
              "    <script>\n",
              "      const buttonEl =\n",
              "        document.querySelector('#df-aaf74074-2dde-4329-afe5-9d681832d146 button.colab-df-convert');\n",
              "      buttonEl.style.display =\n",
              "        google.colab.kernel.accessAllowed ? 'block' : 'none';\n",
              "\n",
              "      async function convertToInteractive(key) {\n",
              "        const element = document.querySelector('#df-aaf74074-2dde-4329-afe5-9d681832d146');\n",
              "        const dataTable =\n",
              "          await google.colab.kernel.invokeFunction('convertToInteractive',\n",
              "                                                    [key], {});\n",
              "        if (!dataTable) return;\n",
              "\n",
              "        const docLinkHtml = 'Like what you see? Visit the ' +\n",
              "          '<a target=\"_blank\" href=https://colab.research.google.com/notebooks/data_table.ipynb>data table notebook</a>'\n",
              "          + ' to learn more about interactive tables.';\n",
              "        element.innerHTML = '';\n",
              "        dataTable['output_type'] = 'display_data';\n",
              "        await google.colab.output.renderOutput(dataTable, element);\n",
              "        const docLink = document.createElement('div');\n",
              "        docLink.innerHTML = docLinkHtml;\n",
              "        element.appendChild(docLink);\n",
              "      }\n",
              "    </script>\n",
              "  </div>\n",
              "\n",
              "\n",
              "<div id=\"df-009468b0-e631-4b06-941c-5da90e44d92d\">\n",
              "  <button class=\"colab-df-quickchart\" onclick=\"quickchart('df-009468b0-e631-4b06-941c-5da90e44d92d')\"\n",
              "            title=\"Suggest charts\"\n",
              "            style=\"display:none;\">\n",
              "\n",
              "<svg xmlns=\"http://www.w3.org/2000/svg\" height=\"24px\"viewBox=\"0 0 24 24\"\n",
              "     width=\"24px\">\n",
              "    <g>\n",
              "        <path d=\"M19 3H5c-1.1 0-2 .9-2 2v14c0 1.1.9 2 2 2h14c1.1 0 2-.9 2-2V5c0-1.1-.9-2-2-2zM9 17H7v-7h2v7zm4 0h-2V7h2v10zm4 0h-2v-4h2v4z\"/>\n",
              "    </g>\n",
              "</svg>\n",
              "  </button>\n",
              "\n",
              "<style>\n",
              "  .colab-df-quickchart {\n",
              "      --bg-color: #E8F0FE;\n",
              "      --fill-color: #1967D2;\n",
              "      --hover-bg-color: #E2EBFA;\n",
              "      --hover-fill-color: #174EA6;\n",
              "      --disabled-fill-color: #AAA;\n",
              "      --disabled-bg-color: #DDD;\n",
              "  }\n",
              "\n",
              "  [theme=dark] .colab-df-quickchart {\n",
              "      --bg-color: #3B4455;\n",
              "      --fill-color: #D2E3FC;\n",
              "      --hover-bg-color: #434B5C;\n",
              "      --hover-fill-color: #FFFFFF;\n",
              "      --disabled-bg-color: #3B4455;\n",
              "      --disabled-fill-color: #666;\n",
              "  }\n",
              "\n",
              "  .colab-df-quickchart {\n",
              "    background-color: var(--bg-color);\n",
              "    border: none;\n",
              "    border-radius: 50%;\n",
              "    cursor: pointer;\n",
              "    display: none;\n",
              "    fill: var(--fill-color);\n",
              "    height: 32px;\n",
              "    padding: 0;\n",
              "    width: 32px;\n",
              "  }\n",
              "\n",
              "  .colab-df-quickchart:hover {\n",
              "    background-color: var(--hover-bg-color);\n",
              "    box-shadow: 0 1px 2px rgba(60, 64, 67, 0.3), 0 1px 3px 1px rgba(60, 64, 67, 0.15);\n",
              "    fill: var(--button-hover-fill-color);\n",
              "  }\n",
              "\n",
              "  .colab-df-quickchart-complete:disabled,\n",
              "  .colab-df-quickchart-complete:disabled:hover {\n",
              "    background-color: var(--disabled-bg-color);\n",
              "    fill: var(--disabled-fill-color);\n",
              "    box-shadow: none;\n",
              "  }\n",
              "\n",
              "  .colab-df-spinner {\n",
              "    border: 2px solid var(--fill-color);\n",
              "    border-color: transparent;\n",
              "    border-bottom-color: var(--fill-color);\n",
              "    animation:\n",
              "      spin 1s steps(1) infinite;\n",
              "  }\n",
              "\n",
              "  @keyframes spin {\n",
              "    0% {\n",
              "      border-color: transparent;\n",
              "      border-bottom-color: var(--fill-color);\n",
              "      border-left-color: var(--fill-color);\n",
              "    }\n",
              "    20% {\n",
              "      border-color: transparent;\n",
              "      border-left-color: var(--fill-color);\n",
              "      border-top-color: var(--fill-color);\n",
              "    }\n",
              "    30% {\n",
              "      border-color: transparent;\n",
              "      border-left-color: var(--fill-color);\n",
              "      border-top-color: var(--fill-color);\n",
              "      border-right-color: var(--fill-color);\n",
              "    }\n",
              "    40% {\n",
              "      border-color: transparent;\n",
              "      border-right-color: var(--fill-color);\n",
              "      border-top-color: var(--fill-color);\n",
              "    }\n",
              "    60% {\n",
              "      border-color: transparent;\n",
              "      border-right-color: var(--fill-color);\n",
              "    }\n",
              "    80% {\n",
              "      border-color: transparent;\n",
              "      border-right-color: var(--fill-color);\n",
              "      border-bottom-color: var(--fill-color);\n",
              "    }\n",
              "    90% {\n",
              "      border-color: transparent;\n",
              "      border-bottom-color: var(--fill-color);\n",
              "    }\n",
              "  }\n",
              "</style>\n",
              "\n",
              "  <script>\n",
              "    async function quickchart(key) {\n",
              "      const quickchartButtonEl =\n",
              "        document.querySelector('#' + key + ' button');\n",
              "      quickchartButtonEl.disabled = true;  // To prevent multiple clicks.\n",
              "      quickchartButtonEl.classList.add('colab-df-spinner');\n",
              "      try {\n",
              "        const charts = await google.colab.kernel.invokeFunction(\n",
              "            'suggestCharts', [key], {});\n",
              "      } catch (error) {\n",
              "        console.error('Error during call to suggestCharts:', error);\n",
              "      }\n",
              "      quickchartButtonEl.classList.remove('colab-df-spinner');\n",
              "      quickchartButtonEl.classList.add('colab-df-quickchart-complete');\n",
              "    }\n",
              "    (() => {\n",
              "      let quickchartButtonEl =\n",
              "        document.querySelector('#df-009468b0-e631-4b06-941c-5da90e44d92d button');\n",
              "      quickchartButtonEl.style.display =\n",
              "        google.colab.kernel.accessAllowed ? 'block' : 'none';\n",
              "    })();\n",
              "  </script>\n",
              "</div>\n",
              "\n",
              "  <div id=\"id_bdd3c097-f43c-4a9b-8ac1-33e76d150e83\">\n",
              "    <style>\n",
              "      .colab-df-generate {\n",
              "        background-color: #E8F0FE;\n",
              "        border: none;\n",
              "        border-radius: 50%;\n",
              "        cursor: pointer;\n",
              "        display: none;\n",
              "        fill: #1967D2;\n",
              "        height: 32px;\n",
              "        padding: 0 0 0 0;\n",
              "        width: 32px;\n",
              "      }\n",
              "\n",
              "      .colab-df-generate:hover {\n",
              "        background-color: #E2EBFA;\n",
              "        box-shadow: 0px 1px 2px rgba(60, 64, 67, 0.3), 0px 1px 3px 1px rgba(60, 64, 67, 0.15);\n",
              "        fill: #174EA6;\n",
              "      }\n",
              "\n",
              "      [theme=dark] .colab-df-generate {\n",
              "        background-color: #3B4455;\n",
              "        fill: #D2E3FC;\n",
              "      }\n",
              "\n",
              "      [theme=dark] .colab-df-generate:hover {\n",
              "        background-color: #434B5C;\n",
              "        box-shadow: 0px 1px 3px 1px rgba(0, 0, 0, 0.15);\n",
              "        filter: drop-shadow(0px 1px 2px rgba(0, 0, 0, 0.3));\n",
              "        fill: #FFFFFF;\n",
              "      }\n",
              "    </style>\n",
              "    <button class=\"colab-df-generate\" onclick=\"generateWithVariable('data0_final')\"\n",
              "            title=\"Generate code using this dataframe.\"\n",
              "            style=\"display:none;\">\n",
              "\n",
              "  <svg xmlns=\"http://www.w3.org/2000/svg\" height=\"24px\"viewBox=\"0 0 24 24\"\n",
              "       width=\"24px\">\n",
              "    <path d=\"M7,19H8.4L18.45,9,17,7.55,7,17.6ZM5,21V16.75L18.45,3.32a2,2,0,0,1,2.83,0l1.4,1.43a1.91,1.91,0,0,1,.58,1.4,1.91,1.91,0,0,1-.58,1.4L9.25,21ZM18.45,9,17,7.55Zm-12,3A5.31,5.31,0,0,0,4.9,8.1,5.31,5.31,0,0,0,1,6.5,5.31,5.31,0,0,0,4.9,4.9,5.31,5.31,0,0,0,6.5,1,5.31,5.31,0,0,0,8.1,4.9,5.31,5.31,0,0,0,12,6.5,5.46,5.46,0,0,0,6.5,12Z\"/>\n",
              "  </svg>\n",
              "    </button>\n",
              "    <script>\n",
              "      (() => {\n",
              "      const buttonEl =\n",
              "        document.querySelector('#id_bdd3c097-f43c-4a9b-8ac1-33e76d150e83 button.colab-df-generate');\n",
              "      buttonEl.style.display =\n",
              "        google.colab.kernel.accessAllowed ? 'block' : 'none';\n",
              "\n",
              "      buttonEl.onclick = () => {\n",
              "        google.colab.notebook.generateWithVariable('data0_final');\n",
              "      }\n",
              "      })();\n",
              "    </script>\n",
              "  </div>\n",
              "\n",
              "    </div>\n",
              "  </div>\n"
            ],
            "application/vnd.google.colaboratory.intrinsic+json": {
              "type": "dataframe",
              "variable_name": "data0_final",
              "summary": "{\n  \"name\": \"data0_final\",\n  \"rows\": 25000,\n  \"fields\": [\n    {\n      \"column\": \"product_x\",\n      \"properties\": {\n        \"dtype\": \"number\",\n        \"std\": 44.27751246038952,\n        \"min\": 0.021781041742107,\n        \"max\": 185.35561503190544,\n        \"num_unique_values\": 25000,\n        \"samples\": [\n          99.46287995013834,\n          63.02070676464229,\n          59.57158112302696\n        ],\n        \"semantic_type\": \"\",\n        \"description\": \"\"\n      }\n    },\n    {\n      \"column\": \"predicted\",\n      \"properties\": {\n        \"dtype\": \"number\",\n        \"std\": 23.21756258602775,\n        \"min\": -9.836371484431083,\n        \"max\": 176.53610380574958,\n        \"num_unique_values\": 25000,\n        \"samples\": [\n          85.97096910465565,\n          71.59236649981268,\n          56.83731892898848\n        ],\n        \"semantic_type\": \"\",\n        \"description\": \"\"\n      }\n    },\n    {\n      \"column\": \"id\",\n      \"properties\": {\n        \"dtype\": \"string\",\n        \"num_unique_values\": 25000,\n        \"samples\": [\n          \"8wwDj\",\n          \"70Xav\",\n          \"7lBth\"\n        ],\n        \"semantic_type\": \"\",\n        \"description\": \"\"\n      }\n    }\n  ]\n}"
            }
          },
          "metadata": {},
          "execution_count": 9
        }
      ],
      "source": [
        "data0_inter = pd.DataFrame({'product': y_test, 'predicted': y_pred})\n",
        "data0_final = data0_inter.merge(data0, left_index=True, right_index=True).drop(columns=['f0','f1','f2','product_y']).reset_index(drop=True)\n",
        "data0_final"
      ]
    },
    {
      "cell_type": "code",
      "execution_count": 10,
      "metadata": {
        "colab": {
          "base_uri": "https://localhost:8080/"
        },
        "id": "IAPs9BX2hABM",
        "outputId": "d2f32696-cad4-4634-89ad-95ed85d23d67"
      },
      "outputs": [
        {
          "output_type": "stream",
          "name": "stdout",
          "text": [
            "A predição de volume médio é de 92.3987999065777. \n",
            "O REQM é de 37.756600350261685.\n"
          ]
        }
      ],
      "source": [
        "print(f'A predição de volume médio é de {y_pred_mean}. \\nO REQM é de {rmse}.')"
      ]
    },
    {
      "cell_type": "markdown",
      "metadata": {
        "id": "ds_Y8lnGfQph"
      },
      "source": [
        "## Criação da função"
      ]
    },
    {
      "cell_type": "code",
      "execution_count": 11,
      "metadata": {
        "id": "j7oG5uXhX3sJ"
      },
      "outputs": [],
      "source": [
        "def oil_prediction(data):\n",
        "    X = data.drop(columns=['id','product'])\n",
        "    y = data['product']\n",
        "\n",
        "    X_train, X_test, y_train, y_test = train_test_split(X, y, test_size=0.25, random_state=42)\n",
        "\n",
        "    model = LinearRegression()\n",
        "    model.fit(X_train, y_train)\n",
        "\n",
        "    y_pred = model.predict(X_test)\n",
        "\n",
        "    mse = mean_squared_error(y_test, y_pred)\n",
        "    rmse = np.sqrt(mse)\n",
        "\n",
        "    df_data = pd.DataFrame({'product': y_test, 'predicted': y_pred})\n",
        "\n",
        "    data_final = df_data.merge(data, left_index=True, right_index=True).drop(columns=['f0','f1','f2','product_y']).reset_index(drop=True)\n",
        "\n",
        "    vol_med = df_data['predicted'].mean()\n",
        "\n",
        "    return y_pred, rmse, data_final, vol_med"
      ]
    },
    {
      "cell_type": "code",
      "execution_count": 12,
      "metadata": {
        "id": "RN-K8YyOgBLU"
      },
      "outputs": [],
      "source": [
        "results_1 = oil_prediction(data1)"
      ]
    },
    {
      "cell_type": "code",
      "execution_count": 13,
      "metadata": {
        "colab": {
          "base_uri": "https://localhost:8080/",
          "height": 423
        },
        "id": "SsJwK5lLgOij",
        "outputId": "534acf38-8aa9-404a-c212-e3221bc1a250"
      },
      "outputs": [
        {
          "output_type": "execute_result",
          "data": {
            "text/plain": [
              "        product_x   predicted     id\n",
              "0        0.000000    0.844738  fYVDK\n",
              "1       53.906522   52.921612  3SQcq\n",
              "2      134.766305  135.110385  hQ1gJ\n",
              "3      107.813044  109.494863  Y4vux\n",
              "4        0.000000   -0.047292  H1NUw\n",
              "...           ...         ...    ...\n",
              "24995  107.813044  108.351600  Vn3pL\n",
              "24996   53.906522   53.604049  zZe7H\n",
              "24997   26.953261   26.708734  iefIy\n",
              "24998  110.992147  109.823087  CFT5B\n",
              "24999  134.766305  135.448780  cQudG\n",
              "\n",
              "[25000 rows x 3 columns]"
            ],
            "text/html": [
              "\n",
              "  <div id=\"df-95185f48-3660-4f52-add5-8a0d6836d58b\" class=\"colab-df-container\">\n",
              "    <div>\n",
              "<style scoped>\n",
              "    .dataframe tbody tr th:only-of-type {\n",
              "        vertical-align: middle;\n",
              "    }\n",
              "\n",
              "    .dataframe tbody tr th {\n",
              "        vertical-align: top;\n",
              "    }\n",
              "\n",
              "    .dataframe thead th {\n",
              "        text-align: right;\n",
              "    }\n",
              "</style>\n",
              "<table border=\"1\" class=\"dataframe\">\n",
              "  <thead>\n",
              "    <tr style=\"text-align: right;\">\n",
              "      <th></th>\n",
              "      <th>product_x</th>\n",
              "      <th>predicted</th>\n",
              "      <th>id</th>\n",
              "    </tr>\n",
              "  </thead>\n",
              "  <tbody>\n",
              "    <tr>\n",
              "      <th>0</th>\n",
              "      <td>0.000000</td>\n",
              "      <td>0.844738</td>\n",
              "      <td>fYVDK</td>\n",
              "    </tr>\n",
              "    <tr>\n",
              "      <th>1</th>\n",
              "      <td>53.906522</td>\n",
              "      <td>52.921612</td>\n",
              "      <td>3SQcq</td>\n",
              "    </tr>\n",
              "    <tr>\n",
              "      <th>2</th>\n",
              "      <td>134.766305</td>\n",
              "      <td>135.110385</td>\n",
              "      <td>hQ1gJ</td>\n",
              "    </tr>\n",
              "    <tr>\n",
              "      <th>3</th>\n",
              "      <td>107.813044</td>\n",
              "      <td>109.494863</td>\n",
              "      <td>Y4vux</td>\n",
              "    </tr>\n",
              "    <tr>\n",
              "      <th>4</th>\n",
              "      <td>0.000000</td>\n",
              "      <td>-0.047292</td>\n",
              "      <td>H1NUw</td>\n",
              "    </tr>\n",
              "    <tr>\n",
              "      <th>...</th>\n",
              "      <td>...</td>\n",
              "      <td>...</td>\n",
              "      <td>...</td>\n",
              "    </tr>\n",
              "    <tr>\n",
              "      <th>24995</th>\n",
              "      <td>107.813044</td>\n",
              "      <td>108.351600</td>\n",
              "      <td>Vn3pL</td>\n",
              "    </tr>\n",
              "    <tr>\n",
              "      <th>24996</th>\n",
              "      <td>53.906522</td>\n",
              "      <td>53.604049</td>\n",
              "      <td>zZe7H</td>\n",
              "    </tr>\n",
              "    <tr>\n",
              "      <th>24997</th>\n",
              "      <td>26.953261</td>\n",
              "      <td>26.708734</td>\n",
              "      <td>iefIy</td>\n",
              "    </tr>\n",
              "    <tr>\n",
              "      <th>24998</th>\n",
              "      <td>110.992147</td>\n",
              "      <td>109.823087</td>\n",
              "      <td>CFT5B</td>\n",
              "    </tr>\n",
              "    <tr>\n",
              "      <th>24999</th>\n",
              "      <td>134.766305</td>\n",
              "      <td>135.448780</td>\n",
              "      <td>cQudG</td>\n",
              "    </tr>\n",
              "  </tbody>\n",
              "</table>\n",
              "<p>25000 rows × 3 columns</p>\n",
              "</div>\n",
              "    <div class=\"colab-df-buttons\">\n",
              "\n",
              "  <div class=\"colab-df-container\">\n",
              "    <button class=\"colab-df-convert\" onclick=\"convertToInteractive('df-95185f48-3660-4f52-add5-8a0d6836d58b')\"\n",
              "            title=\"Convert this dataframe to an interactive table.\"\n",
              "            style=\"display:none;\">\n",
              "\n",
              "  <svg xmlns=\"http://www.w3.org/2000/svg\" height=\"24px\" viewBox=\"0 -960 960 960\">\n",
              "    <path d=\"M120-120v-720h720v720H120Zm60-500h600v-160H180v160Zm220 220h160v-160H400v160Zm0 220h160v-160H400v160ZM180-400h160v-160H180v160Zm440 0h160v-160H620v160ZM180-180h160v-160H180v160Zm440 0h160v-160H620v160Z\"/>\n",
              "  </svg>\n",
              "    </button>\n",
              "\n",
              "  <style>\n",
              "    .colab-df-container {\n",
              "      display:flex;\n",
              "      gap: 12px;\n",
              "    }\n",
              "\n",
              "    .colab-df-convert {\n",
              "      background-color: #E8F0FE;\n",
              "      border: none;\n",
              "      border-radius: 50%;\n",
              "      cursor: pointer;\n",
              "      display: none;\n",
              "      fill: #1967D2;\n",
              "      height: 32px;\n",
              "      padding: 0 0 0 0;\n",
              "      width: 32px;\n",
              "    }\n",
              "\n",
              "    .colab-df-convert:hover {\n",
              "      background-color: #E2EBFA;\n",
              "      box-shadow: 0px 1px 2px rgba(60, 64, 67, 0.3), 0px 1px 3px 1px rgba(60, 64, 67, 0.15);\n",
              "      fill: #174EA6;\n",
              "    }\n",
              "\n",
              "    .colab-df-buttons div {\n",
              "      margin-bottom: 4px;\n",
              "    }\n",
              "\n",
              "    [theme=dark] .colab-df-convert {\n",
              "      background-color: #3B4455;\n",
              "      fill: #D2E3FC;\n",
              "    }\n",
              "\n",
              "    [theme=dark] .colab-df-convert:hover {\n",
              "      background-color: #434B5C;\n",
              "      box-shadow: 0px 1px 3px 1px rgba(0, 0, 0, 0.15);\n",
              "      filter: drop-shadow(0px 1px 2px rgba(0, 0, 0, 0.3));\n",
              "      fill: #FFFFFF;\n",
              "    }\n",
              "  </style>\n",
              "\n",
              "    <script>\n",
              "      const buttonEl =\n",
              "        document.querySelector('#df-95185f48-3660-4f52-add5-8a0d6836d58b button.colab-df-convert');\n",
              "      buttonEl.style.display =\n",
              "        google.colab.kernel.accessAllowed ? 'block' : 'none';\n",
              "\n",
              "      async function convertToInteractive(key) {\n",
              "        const element = document.querySelector('#df-95185f48-3660-4f52-add5-8a0d6836d58b');\n",
              "        const dataTable =\n",
              "          await google.colab.kernel.invokeFunction('convertToInteractive',\n",
              "                                                    [key], {});\n",
              "        if (!dataTable) return;\n",
              "\n",
              "        const docLinkHtml = 'Like what you see? Visit the ' +\n",
              "          '<a target=\"_blank\" href=https://colab.research.google.com/notebooks/data_table.ipynb>data table notebook</a>'\n",
              "          + ' to learn more about interactive tables.';\n",
              "        element.innerHTML = '';\n",
              "        dataTable['output_type'] = 'display_data';\n",
              "        await google.colab.output.renderOutput(dataTable, element);\n",
              "        const docLink = document.createElement('div');\n",
              "        docLink.innerHTML = docLinkHtml;\n",
              "        element.appendChild(docLink);\n",
              "      }\n",
              "    </script>\n",
              "  </div>\n",
              "\n",
              "\n",
              "<div id=\"df-a5db2936-6e97-46ba-87c1-e55bbfc4aaef\">\n",
              "  <button class=\"colab-df-quickchart\" onclick=\"quickchart('df-a5db2936-6e97-46ba-87c1-e55bbfc4aaef')\"\n",
              "            title=\"Suggest charts\"\n",
              "            style=\"display:none;\">\n",
              "\n",
              "<svg xmlns=\"http://www.w3.org/2000/svg\" height=\"24px\"viewBox=\"0 0 24 24\"\n",
              "     width=\"24px\">\n",
              "    <g>\n",
              "        <path d=\"M19 3H5c-1.1 0-2 .9-2 2v14c0 1.1.9 2 2 2h14c1.1 0 2-.9 2-2V5c0-1.1-.9-2-2-2zM9 17H7v-7h2v7zm4 0h-2V7h2v10zm4 0h-2v-4h2v4z\"/>\n",
              "    </g>\n",
              "</svg>\n",
              "  </button>\n",
              "\n",
              "<style>\n",
              "  .colab-df-quickchart {\n",
              "      --bg-color: #E8F0FE;\n",
              "      --fill-color: #1967D2;\n",
              "      --hover-bg-color: #E2EBFA;\n",
              "      --hover-fill-color: #174EA6;\n",
              "      --disabled-fill-color: #AAA;\n",
              "      --disabled-bg-color: #DDD;\n",
              "  }\n",
              "\n",
              "  [theme=dark] .colab-df-quickchart {\n",
              "      --bg-color: #3B4455;\n",
              "      --fill-color: #D2E3FC;\n",
              "      --hover-bg-color: #434B5C;\n",
              "      --hover-fill-color: #FFFFFF;\n",
              "      --disabled-bg-color: #3B4455;\n",
              "      --disabled-fill-color: #666;\n",
              "  }\n",
              "\n",
              "  .colab-df-quickchart {\n",
              "    background-color: var(--bg-color);\n",
              "    border: none;\n",
              "    border-radius: 50%;\n",
              "    cursor: pointer;\n",
              "    display: none;\n",
              "    fill: var(--fill-color);\n",
              "    height: 32px;\n",
              "    padding: 0;\n",
              "    width: 32px;\n",
              "  }\n",
              "\n",
              "  .colab-df-quickchart:hover {\n",
              "    background-color: var(--hover-bg-color);\n",
              "    box-shadow: 0 1px 2px rgba(60, 64, 67, 0.3), 0 1px 3px 1px rgba(60, 64, 67, 0.15);\n",
              "    fill: var(--button-hover-fill-color);\n",
              "  }\n",
              "\n",
              "  .colab-df-quickchart-complete:disabled,\n",
              "  .colab-df-quickchart-complete:disabled:hover {\n",
              "    background-color: var(--disabled-bg-color);\n",
              "    fill: var(--disabled-fill-color);\n",
              "    box-shadow: none;\n",
              "  }\n",
              "\n",
              "  .colab-df-spinner {\n",
              "    border: 2px solid var(--fill-color);\n",
              "    border-color: transparent;\n",
              "    border-bottom-color: var(--fill-color);\n",
              "    animation:\n",
              "      spin 1s steps(1) infinite;\n",
              "  }\n",
              "\n",
              "  @keyframes spin {\n",
              "    0% {\n",
              "      border-color: transparent;\n",
              "      border-bottom-color: var(--fill-color);\n",
              "      border-left-color: var(--fill-color);\n",
              "    }\n",
              "    20% {\n",
              "      border-color: transparent;\n",
              "      border-left-color: var(--fill-color);\n",
              "      border-top-color: var(--fill-color);\n",
              "    }\n",
              "    30% {\n",
              "      border-color: transparent;\n",
              "      border-left-color: var(--fill-color);\n",
              "      border-top-color: var(--fill-color);\n",
              "      border-right-color: var(--fill-color);\n",
              "    }\n",
              "    40% {\n",
              "      border-color: transparent;\n",
              "      border-right-color: var(--fill-color);\n",
              "      border-top-color: var(--fill-color);\n",
              "    }\n",
              "    60% {\n",
              "      border-color: transparent;\n",
              "      border-right-color: var(--fill-color);\n",
              "    }\n",
              "    80% {\n",
              "      border-color: transparent;\n",
              "      border-right-color: var(--fill-color);\n",
              "      border-bottom-color: var(--fill-color);\n",
              "    }\n",
              "    90% {\n",
              "      border-color: transparent;\n",
              "      border-bottom-color: var(--fill-color);\n",
              "    }\n",
              "  }\n",
              "</style>\n",
              "\n",
              "  <script>\n",
              "    async function quickchart(key) {\n",
              "      const quickchartButtonEl =\n",
              "        document.querySelector('#' + key + ' button');\n",
              "      quickchartButtonEl.disabled = true;  // To prevent multiple clicks.\n",
              "      quickchartButtonEl.classList.add('colab-df-spinner');\n",
              "      try {\n",
              "        const charts = await google.colab.kernel.invokeFunction(\n",
              "            'suggestCharts', [key], {});\n",
              "      } catch (error) {\n",
              "        console.error('Error during call to suggestCharts:', error);\n",
              "      }\n",
              "      quickchartButtonEl.classList.remove('colab-df-spinner');\n",
              "      quickchartButtonEl.classList.add('colab-df-quickchart-complete');\n",
              "    }\n",
              "    (() => {\n",
              "      let quickchartButtonEl =\n",
              "        document.querySelector('#df-a5db2936-6e97-46ba-87c1-e55bbfc4aaef button');\n",
              "      quickchartButtonEl.style.display =\n",
              "        google.colab.kernel.accessAllowed ? 'block' : 'none';\n",
              "    })();\n",
              "  </script>\n",
              "</div>\n",
              "\n",
              "  <div id=\"id_8feeb6e7-f33e-4610-9c65-868be0cd590e\">\n",
              "    <style>\n",
              "      .colab-df-generate {\n",
              "        background-color: #E8F0FE;\n",
              "        border: none;\n",
              "        border-radius: 50%;\n",
              "        cursor: pointer;\n",
              "        display: none;\n",
              "        fill: #1967D2;\n",
              "        height: 32px;\n",
              "        padding: 0 0 0 0;\n",
              "        width: 32px;\n",
              "      }\n",
              "\n",
              "      .colab-df-generate:hover {\n",
              "        background-color: #E2EBFA;\n",
              "        box-shadow: 0px 1px 2px rgba(60, 64, 67, 0.3), 0px 1px 3px 1px rgba(60, 64, 67, 0.15);\n",
              "        fill: #174EA6;\n",
              "      }\n",
              "\n",
              "      [theme=dark] .colab-df-generate {\n",
              "        background-color: #3B4455;\n",
              "        fill: #D2E3FC;\n",
              "      }\n",
              "\n",
              "      [theme=dark] .colab-df-generate:hover {\n",
              "        background-color: #434B5C;\n",
              "        box-shadow: 0px 1px 3px 1px rgba(0, 0, 0, 0.15);\n",
              "        filter: drop-shadow(0px 1px 2px rgba(0, 0, 0, 0.3));\n",
              "        fill: #FFFFFF;\n",
              "      }\n",
              "    </style>\n",
              "    <button class=\"colab-df-generate\" onclick=\"generateWithVariable('data1_final')\"\n",
              "            title=\"Generate code using this dataframe.\"\n",
              "            style=\"display:none;\">\n",
              "\n",
              "  <svg xmlns=\"http://www.w3.org/2000/svg\" height=\"24px\"viewBox=\"0 0 24 24\"\n",
              "       width=\"24px\">\n",
              "    <path d=\"M7,19H8.4L18.45,9,17,7.55,7,17.6ZM5,21V16.75L18.45,3.32a2,2,0,0,1,2.83,0l1.4,1.43a1.91,1.91,0,0,1,.58,1.4,1.91,1.91,0,0,1-.58,1.4L9.25,21ZM18.45,9,17,7.55Zm-12,3A5.31,5.31,0,0,0,4.9,8.1,5.31,5.31,0,0,0,1,6.5,5.31,5.31,0,0,0,4.9,4.9,5.31,5.31,0,0,0,6.5,1,5.31,5.31,0,0,0,8.1,4.9,5.31,5.31,0,0,0,12,6.5,5.46,5.46,0,0,0,6.5,12Z\"/>\n",
              "  </svg>\n",
              "    </button>\n",
              "    <script>\n",
              "      (() => {\n",
              "      const buttonEl =\n",
              "        document.querySelector('#id_8feeb6e7-f33e-4610-9c65-868be0cd590e button.colab-df-generate');\n",
              "      buttonEl.style.display =\n",
              "        google.colab.kernel.accessAllowed ? 'block' : 'none';\n",
              "\n",
              "      buttonEl.onclick = () => {\n",
              "        google.colab.notebook.generateWithVariable('data1_final');\n",
              "      }\n",
              "      })();\n",
              "    </script>\n",
              "  </div>\n",
              "\n",
              "    </div>\n",
              "  </div>\n"
            ],
            "application/vnd.google.colaboratory.intrinsic+json": {
              "type": "dataframe",
              "variable_name": "data1_final",
              "summary": "{\n  \"name\": \"data1_final\",\n  \"rows\": 25000,\n  \"fields\": [\n    {\n      \"column\": \"product_x\",\n      \"properties\": {\n        \"dtype\": \"number\",\n        \"std\": 45.945586339973374,\n        \"min\": 0.0,\n        \"max\": 137.94540774090564,\n        \"num_unique_values\": 12,\n        \"samples\": [\n          137.94540774090564,\n          57.08562464628662,\n          0.0\n        ],\n        \"semantic_type\": \"\",\n        \"description\": \"\"\n      }\n    },\n    {\n      \"column\": \"predicted\",\n      \"properties\": {\n        \"dtype\": \"number\",\n        \"std\": 45.94667233023883,\n        \"min\": -2.0706205275549157,\n        \"max\": 139.9832769362447,\n        \"num_unique_values\": 25000,\n        \"samples\": [\n          53.966414624927445,\n          0.46251811114761154,\n          81.94484893022185\n        ],\n        \"semantic_type\": \"\",\n        \"description\": \"\"\n      }\n    },\n    {\n      \"column\": \"id\",\n      \"properties\": {\n        \"dtype\": \"string\",\n        \"num_unique_values\": 25000,\n        \"samples\": [\n          \"7q4zb\",\n          \"w4L7E\",\n          \"H0peK\"\n        ],\n        \"semantic_type\": \"\",\n        \"description\": \"\"\n      }\n    }\n  ]\n}"
            }
          },
          "metadata": {},
          "execution_count": 13
        }
      ],
      "source": [
        "data1_final = results_1[2]\n",
        "data1_final"
      ]
    },
    {
      "cell_type": "code",
      "execution_count": 14,
      "metadata": {
        "colab": {
          "base_uri": "https://localhost:8080/"
        },
        "id": "LY4e52_Cgsas",
        "outputId": "ac8d1f8f-5770-404a-88b2-5b72008fb68b"
      },
      "outputs": [
        {
          "output_type": "stream",
          "name": "stdout",
          "text": [
            "O volume médio de reservas é de 68.71287803913762\n",
            "O REQM é de 0.890280100102884\n"
          ]
        }
      ],
      "source": [
        "print(f'O volume médio de reservas é de {results_1[3]}')\n",
        "print(f'O REQM é de {results_1[1]}')"
      ]
    },
    {
      "cell_type": "markdown",
      "metadata": {
        "id": "LIRixdKLhGRJ"
      },
      "source": [
        "## Conjunto de dados data2"
      ]
    },
    {
      "cell_type": "code",
      "execution_count": 15,
      "metadata": {
        "id": "KoEzX4WMhF2s"
      },
      "outputs": [],
      "source": [
        "results_2 = oil_prediction(data2)"
      ]
    },
    {
      "cell_type": "code",
      "execution_count": 16,
      "metadata": {
        "colab": {
          "base_uri": "https://localhost:8080/",
          "height": 423
        },
        "id": "-r8Wn2qvj81u",
        "outputId": "a2227c4b-0657-411e-dc0c-d4fa57f10d19"
      },
      "outputs": [
        {
          "output_type": "execute_result",
          "data": {
            "text/plain": [
              "        product_x   predicted     id\n",
              "0      117.441301   98.301916  sPjbT\n",
              "1       47.841249  101.592461  1u4uo\n",
              "2       45.883483   52.449099  kZ6HO\n",
              "3      139.014608  109.922127  gCZGK\n",
              "4       84.004276   72.411847  rqJHx\n",
              "...           ...         ...    ...\n",
              "24995   40.797226  102.764169  hMnQH\n",
              "24996   87.144239   93.431823  KGq37\n",
              "24997   52.039812   64.098390  CKCjb\n",
              "24998  136.961454   83.764135  ANcQx\n",
              "24999  109.173206   86.558644  AarNF\n",
              "\n",
              "[25000 rows x 3 columns]"
            ],
            "text/html": [
              "\n",
              "  <div id=\"df-7381c5a6-22d2-4801-a1c6-1d3977dfb3fa\" class=\"colab-df-container\">\n",
              "    <div>\n",
              "<style scoped>\n",
              "    .dataframe tbody tr th:only-of-type {\n",
              "        vertical-align: middle;\n",
              "    }\n",
              "\n",
              "    .dataframe tbody tr th {\n",
              "        vertical-align: top;\n",
              "    }\n",
              "\n",
              "    .dataframe thead th {\n",
              "        text-align: right;\n",
              "    }\n",
              "</style>\n",
              "<table border=\"1\" class=\"dataframe\">\n",
              "  <thead>\n",
              "    <tr style=\"text-align: right;\">\n",
              "      <th></th>\n",
              "      <th>product_x</th>\n",
              "      <th>predicted</th>\n",
              "      <th>id</th>\n",
              "    </tr>\n",
              "  </thead>\n",
              "  <tbody>\n",
              "    <tr>\n",
              "      <th>0</th>\n",
              "      <td>117.441301</td>\n",
              "      <td>98.301916</td>\n",
              "      <td>sPjbT</td>\n",
              "    </tr>\n",
              "    <tr>\n",
              "      <th>1</th>\n",
              "      <td>47.841249</td>\n",
              "      <td>101.592461</td>\n",
              "      <td>1u4uo</td>\n",
              "    </tr>\n",
              "    <tr>\n",
              "      <th>2</th>\n",
              "      <td>45.883483</td>\n",
              "      <td>52.449099</td>\n",
              "      <td>kZ6HO</td>\n",
              "    </tr>\n",
              "    <tr>\n",
              "      <th>3</th>\n",
              "      <td>139.014608</td>\n",
              "      <td>109.922127</td>\n",
              "      <td>gCZGK</td>\n",
              "    </tr>\n",
              "    <tr>\n",
              "      <th>4</th>\n",
              "      <td>84.004276</td>\n",
              "      <td>72.411847</td>\n",
              "      <td>rqJHx</td>\n",
              "    </tr>\n",
              "    <tr>\n",
              "      <th>...</th>\n",
              "      <td>...</td>\n",
              "      <td>...</td>\n",
              "      <td>...</td>\n",
              "    </tr>\n",
              "    <tr>\n",
              "      <th>24995</th>\n",
              "      <td>40.797226</td>\n",
              "      <td>102.764169</td>\n",
              "      <td>hMnQH</td>\n",
              "    </tr>\n",
              "    <tr>\n",
              "      <th>24996</th>\n",
              "      <td>87.144239</td>\n",
              "      <td>93.431823</td>\n",
              "      <td>KGq37</td>\n",
              "    </tr>\n",
              "    <tr>\n",
              "      <th>24997</th>\n",
              "      <td>52.039812</td>\n",
              "      <td>64.098390</td>\n",
              "      <td>CKCjb</td>\n",
              "    </tr>\n",
              "    <tr>\n",
              "      <th>24998</th>\n",
              "      <td>136.961454</td>\n",
              "      <td>83.764135</td>\n",
              "      <td>ANcQx</td>\n",
              "    </tr>\n",
              "    <tr>\n",
              "      <th>24999</th>\n",
              "      <td>109.173206</td>\n",
              "      <td>86.558644</td>\n",
              "      <td>AarNF</td>\n",
              "    </tr>\n",
              "  </tbody>\n",
              "</table>\n",
              "<p>25000 rows × 3 columns</p>\n",
              "</div>\n",
              "    <div class=\"colab-df-buttons\">\n",
              "\n",
              "  <div class=\"colab-df-container\">\n",
              "    <button class=\"colab-df-convert\" onclick=\"convertToInteractive('df-7381c5a6-22d2-4801-a1c6-1d3977dfb3fa')\"\n",
              "            title=\"Convert this dataframe to an interactive table.\"\n",
              "            style=\"display:none;\">\n",
              "\n",
              "  <svg xmlns=\"http://www.w3.org/2000/svg\" height=\"24px\" viewBox=\"0 -960 960 960\">\n",
              "    <path d=\"M120-120v-720h720v720H120Zm60-500h600v-160H180v160Zm220 220h160v-160H400v160Zm0 220h160v-160H400v160ZM180-400h160v-160H180v160Zm440 0h160v-160H620v160ZM180-180h160v-160H180v160Zm440 0h160v-160H620v160Z\"/>\n",
              "  </svg>\n",
              "    </button>\n",
              "\n",
              "  <style>\n",
              "    .colab-df-container {\n",
              "      display:flex;\n",
              "      gap: 12px;\n",
              "    }\n",
              "\n",
              "    .colab-df-convert {\n",
              "      background-color: #E8F0FE;\n",
              "      border: none;\n",
              "      border-radius: 50%;\n",
              "      cursor: pointer;\n",
              "      display: none;\n",
              "      fill: #1967D2;\n",
              "      height: 32px;\n",
              "      padding: 0 0 0 0;\n",
              "      width: 32px;\n",
              "    }\n",
              "\n",
              "    .colab-df-convert:hover {\n",
              "      background-color: #E2EBFA;\n",
              "      box-shadow: 0px 1px 2px rgba(60, 64, 67, 0.3), 0px 1px 3px 1px rgba(60, 64, 67, 0.15);\n",
              "      fill: #174EA6;\n",
              "    }\n",
              "\n",
              "    .colab-df-buttons div {\n",
              "      margin-bottom: 4px;\n",
              "    }\n",
              "\n",
              "    [theme=dark] .colab-df-convert {\n",
              "      background-color: #3B4455;\n",
              "      fill: #D2E3FC;\n",
              "    }\n",
              "\n",
              "    [theme=dark] .colab-df-convert:hover {\n",
              "      background-color: #434B5C;\n",
              "      box-shadow: 0px 1px 3px 1px rgba(0, 0, 0, 0.15);\n",
              "      filter: drop-shadow(0px 1px 2px rgba(0, 0, 0, 0.3));\n",
              "      fill: #FFFFFF;\n",
              "    }\n",
              "  </style>\n",
              "\n",
              "    <script>\n",
              "      const buttonEl =\n",
              "        document.querySelector('#df-7381c5a6-22d2-4801-a1c6-1d3977dfb3fa button.colab-df-convert');\n",
              "      buttonEl.style.display =\n",
              "        google.colab.kernel.accessAllowed ? 'block' : 'none';\n",
              "\n",
              "      async function convertToInteractive(key) {\n",
              "        const element = document.querySelector('#df-7381c5a6-22d2-4801-a1c6-1d3977dfb3fa');\n",
              "        const dataTable =\n",
              "          await google.colab.kernel.invokeFunction('convertToInteractive',\n",
              "                                                    [key], {});\n",
              "        if (!dataTable) return;\n",
              "\n",
              "        const docLinkHtml = 'Like what you see? Visit the ' +\n",
              "          '<a target=\"_blank\" href=https://colab.research.google.com/notebooks/data_table.ipynb>data table notebook</a>'\n",
              "          + ' to learn more about interactive tables.';\n",
              "        element.innerHTML = '';\n",
              "        dataTable['output_type'] = 'display_data';\n",
              "        await google.colab.output.renderOutput(dataTable, element);\n",
              "        const docLink = document.createElement('div');\n",
              "        docLink.innerHTML = docLinkHtml;\n",
              "        element.appendChild(docLink);\n",
              "      }\n",
              "    </script>\n",
              "  </div>\n",
              "\n",
              "\n",
              "<div id=\"df-8fe25a43-7da8-4fec-abc4-b198eb0815b4\">\n",
              "  <button class=\"colab-df-quickchart\" onclick=\"quickchart('df-8fe25a43-7da8-4fec-abc4-b198eb0815b4')\"\n",
              "            title=\"Suggest charts\"\n",
              "            style=\"display:none;\">\n",
              "\n",
              "<svg xmlns=\"http://www.w3.org/2000/svg\" height=\"24px\"viewBox=\"0 0 24 24\"\n",
              "     width=\"24px\">\n",
              "    <g>\n",
              "        <path d=\"M19 3H5c-1.1 0-2 .9-2 2v14c0 1.1.9 2 2 2h14c1.1 0 2-.9 2-2V5c0-1.1-.9-2-2-2zM9 17H7v-7h2v7zm4 0h-2V7h2v10zm4 0h-2v-4h2v4z\"/>\n",
              "    </g>\n",
              "</svg>\n",
              "  </button>\n",
              "\n",
              "<style>\n",
              "  .colab-df-quickchart {\n",
              "      --bg-color: #E8F0FE;\n",
              "      --fill-color: #1967D2;\n",
              "      --hover-bg-color: #E2EBFA;\n",
              "      --hover-fill-color: #174EA6;\n",
              "      --disabled-fill-color: #AAA;\n",
              "      --disabled-bg-color: #DDD;\n",
              "  }\n",
              "\n",
              "  [theme=dark] .colab-df-quickchart {\n",
              "      --bg-color: #3B4455;\n",
              "      --fill-color: #D2E3FC;\n",
              "      --hover-bg-color: #434B5C;\n",
              "      --hover-fill-color: #FFFFFF;\n",
              "      --disabled-bg-color: #3B4455;\n",
              "      --disabled-fill-color: #666;\n",
              "  }\n",
              "\n",
              "  .colab-df-quickchart {\n",
              "    background-color: var(--bg-color);\n",
              "    border: none;\n",
              "    border-radius: 50%;\n",
              "    cursor: pointer;\n",
              "    display: none;\n",
              "    fill: var(--fill-color);\n",
              "    height: 32px;\n",
              "    padding: 0;\n",
              "    width: 32px;\n",
              "  }\n",
              "\n",
              "  .colab-df-quickchart:hover {\n",
              "    background-color: var(--hover-bg-color);\n",
              "    box-shadow: 0 1px 2px rgba(60, 64, 67, 0.3), 0 1px 3px 1px rgba(60, 64, 67, 0.15);\n",
              "    fill: var(--button-hover-fill-color);\n",
              "  }\n",
              "\n",
              "  .colab-df-quickchart-complete:disabled,\n",
              "  .colab-df-quickchart-complete:disabled:hover {\n",
              "    background-color: var(--disabled-bg-color);\n",
              "    fill: var(--disabled-fill-color);\n",
              "    box-shadow: none;\n",
              "  }\n",
              "\n",
              "  .colab-df-spinner {\n",
              "    border: 2px solid var(--fill-color);\n",
              "    border-color: transparent;\n",
              "    border-bottom-color: var(--fill-color);\n",
              "    animation:\n",
              "      spin 1s steps(1) infinite;\n",
              "  }\n",
              "\n",
              "  @keyframes spin {\n",
              "    0% {\n",
              "      border-color: transparent;\n",
              "      border-bottom-color: var(--fill-color);\n",
              "      border-left-color: var(--fill-color);\n",
              "    }\n",
              "    20% {\n",
              "      border-color: transparent;\n",
              "      border-left-color: var(--fill-color);\n",
              "      border-top-color: var(--fill-color);\n",
              "    }\n",
              "    30% {\n",
              "      border-color: transparent;\n",
              "      border-left-color: var(--fill-color);\n",
              "      border-top-color: var(--fill-color);\n",
              "      border-right-color: var(--fill-color);\n",
              "    }\n",
              "    40% {\n",
              "      border-color: transparent;\n",
              "      border-right-color: var(--fill-color);\n",
              "      border-top-color: var(--fill-color);\n",
              "    }\n",
              "    60% {\n",
              "      border-color: transparent;\n",
              "      border-right-color: var(--fill-color);\n",
              "    }\n",
              "    80% {\n",
              "      border-color: transparent;\n",
              "      border-right-color: var(--fill-color);\n",
              "      border-bottom-color: var(--fill-color);\n",
              "    }\n",
              "    90% {\n",
              "      border-color: transparent;\n",
              "      border-bottom-color: var(--fill-color);\n",
              "    }\n",
              "  }\n",
              "</style>\n",
              "\n",
              "  <script>\n",
              "    async function quickchart(key) {\n",
              "      const quickchartButtonEl =\n",
              "        document.querySelector('#' + key + ' button');\n",
              "      quickchartButtonEl.disabled = true;  // To prevent multiple clicks.\n",
              "      quickchartButtonEl.classList.add('colab-df-spinner');\n",
              "      try {\n",
              "        const charts = await google.colab.kernel.invokeFunction(\n",
              "            'suggestCharts', [key], {});\n",
              "      } catch (error) {\n",
              "        console.error('Error during call to suggestCharts:', error);\n",
              "      }\n",
              "      quickchartButtonEl.classList.remove('colab-df-spinner');\n",
              "      quickchartButtonEl.classList.add('colab-df-quickchart-complete');\n",
              "    }\n",
              "    (() => {\n",
              "      let quickchartButtonEl =\n",
              "        document.querySelector('#df-8fe25a43-7da8-4fec-abc4-b198eb0815b4 button');\n",
              "      quickchartButtonEl.style.display =\n",
              "        google.colab.kernel.accessAllowed ? 'block' : 'none';\n",
              "    })();\n",
              "  </script>\n",
              "</div>\n",
              "\n",
              "  <div id=\"id_88ce1cb7-ce83-4dad-bc10-1098bf28e740\">\n",
              "    <style>\n",
              "      .colab-df-generate {\n",
              "        background-color: #E8F0FE;\n",
              "        border: none;\n",
              "        border-radius: 50%;\n",
              "        cursor: pointer;\n",
              "        display: none;\n",
              "        fill: #1967D2;\n",
              "        height: 32px;\n",
              "        padding: 0 0 0 0;\n",
              "        width: 32px;\n",
              "      }\n",
              "\n",
              "      .colab-df-generate:hover {\n",
              "        background-color: #E2EBFA;\n",
              "        box-shadow: 0px 1px 2px rgba(60, 64, 67, 0.3), 0px 1px 3px 1px rgba(60, 64, 67, 0.15);\n",
              "        fill: #174EA6;\n",
              "      }\n",
              "\n",
              "      [theme=dark] .colab-df-generate {\n",
              "        background-color: #3B4455;\n",
              "        fill: #D2E3FC;\n",
              "      }\n",
              "\n",
              "      [theme=dark] .colab-df-generate:hover {\n",
              "        background-color: #434B5C;\n",
              "        box-shadow: 0px 1px 3px 1px rgba(0, 0, 0, 0.15);\n",
              "        filter: drop-shadow(0px 1px 2px rgba(0, 0, 0, 0.3));\n",
              "        fill: #FFFFFF;\n",
              "      }\n",
              "    </style>\n",
              "    <button class=\"colab-df-generate\" onclick=\"generateWithVariable('data2_final')\"\n",
              "            title=\"Generate code using this dataframe.\"\n",
              "            style=\"display:none;\">\n",
              "\n",
              "  <svg xmlns=\"http://www.w3.org/2000/svg\" height=\"24px\"viewBox=\"0 0 24 24\"\n",
              "       width=\"24px\">\n",
              "    <path d=\"M7,19H8.4L18.45,9,17,7.55,7,17.6ZM5,21V16.75L18.45,3.32a2,2,0,0,1,2.83,0l1.4,1.43a1.91,1.91,0,0,1,.58,1.4,1.91,1.91,0,0,1-.58,1.4L9.25,21ZM18.45,9,17,7.55Zm-12,3A5.31,5.31,0,0,0,4.9,8.1,5.31,5.31,0,0,0,1,6.5,5.31,5.31,0,0,0,4.9,4.9,5.31,5.31,0,0,0,6.5,1,5.31,5.31,0,0,0,8.1,4.9,5.31,5.31,0,0,0,12,6.5,5.46,5.46,0,0,0,6.5,12Z\"/>\n",
              "  </svg>\n",
              "    </button>\n",
              "    <script>\n",
              "      (() => {\n",
              "      const buttonEl =\n",
              "        document.querySelector('#id_88ce1cb7-ce83-4dad-bc10-1098bf28e740 button.colab-df-generate');\n",
              "      buttonEl.style.display =\n",
              "        google.colab.kernel.accessAllowed ? 'block' : 'none';\n",
              "\n",
              "      buttonEl.onclick = () => {\n",
              "        google.colab.notebook.generateWithVariable('data2_final');\n",
              "      }\n",
              "      })();\n",
              "    </script>\n",
              "  </div>\n",
              "\n",
              "    </div>\n",
              "  </div>\n"
            ],
            "application/vnd.google.colaboratory.intrinsic+json": {
              "type": "dataframe",
              "variable_name": "data2_final",
              "summary": "{\n  \"name\": \"data2_final\",\n  \"rows\": 25000,\n  \"fields\": [\n    {\n      \"column\": \"product_x\",\n      \"properties\": {\n        \"dtype\": \"number\",\n        \"std\": 44.78321990240217,\n        \"min\": 0.0193268852621888,\n        \"max\": 190.01172239678743,\n        \"num_unique_values\": 25000,\n        \"samples\": [\n          44.524832828190746,\n          126.35010631532838,\n          112.39349497112366\n        ],\n        \"semantic_type\": \"\",\n        \"description\": \"\"\n      }\n    },\n    {\n      \"column\": \"predicted\",\n      \"properties\": {\n        \"dtype\": \"number\",\n        \"std\": 19.92737542437759,\n        \"min\": 16.196848959506198,\n        \"max\": 170.5292093875723,\n        \"num_unique_values\": 25000,\n        \"samples\": [\n          76.94297517835275,\n          99.92564772549414,\n          92.98505057280316\n        ],\n        \"semantic_type\": \"\",\n        \"description\": \"\"\n      }\n    },\n    {\n      \"column\": \"id\",\n      \"properties\": {\n        \"dtype\": \"string\",\n        \"num_unique_values\": 25000,\n        \"samples\": [\n          \"a3bYc\",\n          \"WEKK5\",\n          \"Z2jCV\"\n        ],\n        \"semantic_type\": \"\",\n        \"description\": \"\"\n      }\n    }\n  ]\n}"
            }
          },
          "metadata": {},
          "execution_count": 16
        }
      ],
      "source": [
        "data2_final = results_2[2]\n",
        "data2_final"
      ]
    },
    {
      "cell_type": "code",
      "execution_count": 17,
      "metadata": {
        "colab": {
          "base_uri": "https://localhost:8080/"
        },
        "id": "qMdR5Z49jGwu",
        "outputId": "f1d72f79-3da2-46d7-d94c-c551b9b19a6c"
      },
      "outputs": [
        {
          "output_type": "stream",
          "name": "stdout",
          "text": [
            "O volume médio de reservas é de 94.77102387765939\n",
            "O REQM é de 40.14587231134218\n"
          ]
        }
      ],
      "source": [
        "print(f'O volume médio de reservas é de {results_2[3]}')\n",
        "print(f'O REQM é de {results_2[1]}')"
      ]
    },
    {
      "cell_type": "markdown",
      "metadata": {
        "id": "vZMZ2g_CV0Bm"
      },
      "source": [
        "# 3. Escolher os poços que têm os maiores valores estimados\n"
      ]
    },
    {
      "cell_type": "markdown",
      "metadata": {
        "id": "b6ilzoZpkXqk"
      },
      "source": [
        "### 3.1 Armazenar os valores necessários para os cálculos em variáveis separadas"
      ]
    },
    {
      "cell_type": "code",
      "execution_count": 18,
      "metadata": {
        "id": "PnzUUqC7lEl6"
      },
      "outputs": [],
      "source": [
        "investimento = 100000000\n",
        "pocos = 200\n",
        "limite = 500000\n",
        "unidades_limite = 111.1\n",
        "valor_barril = 4.5\n",
        "valor_unidade = 4500\n"
      ]
    },
    {
      "cell_type": "markdown",
      "metadata": {
        "id": "L1QjlmDUlbgK"
      },
      "source": [
        "### 3.2 Comparação do volume médio por região com os limites"
      ]
    },
    {
      "cell_type": "code",
      "execution_count": 19,
      "metadata": {
        "colab": {
          "base_uri": "https://localhost:8080/"
        },
        "id": "WJRfsVwwllKy",
        "outputId": "f009b5b2-ae54-4b31-b6cd-26b5117bb2ff"
      },
      "outputs": [
        {
          "output_type": "stream",
          "name": "stdout",
          "text": [
            "O volume médio de reservas da região 0 é de 92.3987999065777, \n",
            "o volume médio de reservas da região 1 é de 68.71287803913762, \n",
            "o volume médio de reservas da região 2 é de 94.77102387765939\n"
          ]
        }
      ],
      "source": [
        "# Região 0\n",
        "\n",
        "data0_media = data0_final['predicted'].mean()\n",
        "data1_media = results_1[3]\n",
        "data2_media = results_2[3]\n",
        "\n",
        "print(f'O volume médio de reservas da região 0 é de {data0_media}, \\no volume médio de reservas da região 1 é de {data1_media}, \\no volume médio de reservas da região 2 é de {data2_media}')"
      ]
    },
    {
      "cell_type": "markdown",
      "metadata": {
        "id": "SXKhu1gDmeSG"
      },
      "source": [
        "### 3.3 Forneça conclusões"
      ]
    },
    {
      "cell_type": "markdown",
      "metadata": {
        "id": "JnO12dKLmiXS"
      },
      "source": [
        "Nenhuma das três regiões possui uma média de unidades necessária para evitar prejuízos, quando calculado pela média de todas as predições (2.500 poços).\n"
      ]
    },
    {
      "cell_type": "markdown",
      "metadata": {
        "id": "qLzsAxv8V84a"
      },
      "source": [
        "# 4. Escolher a região com o maior lucro total para os poços selecionados\n"
      ]
    },
    {
      "cell_type": "markdown",
      "metadata": {
        "id": "-S29sLvnmqaO"
      },
      "source": [
        "### 4.1 Escolher os 200 poços com os valores mais altos previstos para cada uma das regiões\n"
      ]
    },
    {
      "cell_type": "code",
      "execution_count": 20,
      "metadata": {
        "id": "8zMps81h9-Pt"
      },
      "outputs": [],
      "source": [
        "def top200(data):\n",
        "    top200 = data.sort_values(by='predicted', ascending=False).iloc[:200].reset_index(drop=True)\n",
        "    return top200"
      ]
    },
    {
      "cell_type": "code",
      "execution_count": 21,
      "metadata": {
        "id": "4TdsXv9C-EXD"
      },
      "outputs": [],
      "source": [
        "reg_0_top200 = top200(data0_final)\n",
        "reg_1_top200 = top200(data1_final)\n",
        "reg_2_top200 = top200(data2_final)"
      ]
    },
    {
      "cell_type": "code",
      "execution_count": 22,
      "metadata": {
        "id": "6iCQd1Tg-JNl"
      },
      "outputs": [],
      "source": [
        "top_200_df = pd.DataFrame({'Região 0': reg_0_top200['predicted'], 'Região 1': reg_1_top200['predicted'], 'Região 2': reg_2_top200['predicted']})"
      ]
    },
    {
      "cell_type": "markdown",
      "metadata": {
        "id": "3Hr-9NZwn1EA"
      },
      "source": [
        "### 3.3 Calcule o lucro potencial dos melhores 200 poços por região."
      ]
    },
    {
      "cell_type": "code",
      "execution_count": 23,
      "metadata": {
        "id": "wPFypic0mPHV"
      },
      "outputs": [],
      "source": [
        "def lucro_por_região(data, valor_unidade):\n",
        "    lucro = []\n",
        "    for _, row in data.iterrows():\n",
        "        luc = row['predicted'] * valor_unidade\n",
        "        lucro.append(luc)\n",
        "    return lucro\n"
      ]
    },
    {
      "cell_type": "code",
      "execution_count": 24,
      "metadata": {
        "id": "UiC0VKLYlt5m"
      },
      "outputs": [],
      "source": [
        "regiao_0 = lucro_por_região(reg_0_top200, valor_unidade)\n",
        "regiao_1 = lucro_por_região(reg_1_top200, valor_unidade)\n",
        "regiao_2 = lucro_por_região(reg_2_top200, valor_unidade)"
      ]
    },
    {
      "cell_type": "code",
      "execution_count": 25,
      "metadata": {
        "colab": {
          "base_uri": "https://localhost:8080/"
        },
        "id": "H_VwLM8j8jbl",
        "outputId": "4ee564bf-55ad-4c1e-8c61-451c93977485"
      },
      "outputs": [
        {
          "output_type": "execute_result",
          "data": {
            "text/plain": [
              "(200, 200, 200)"
            ]
          },
          "metadata": {},
          "execution_count": 25
        }
      ],
      "source": [
        "len(regiao_0), len(regiao_1), len(regiao_2)"
      ]
    },
    {
      "cell_type": "code",
      "execution_count": 26,
      "metadata": {
        "colab": {
          "base_uri": "https://localhost:8080/",
          "height": 423
        },
        "id": "IfUCLSoRmjg9",
        "outputId": "8f9abebf-2fb4-43e6-c4a9-9b760a39cd11"
      },
      "outputs": [
        {
          "output_type": "execute_result",
          "data": {
            "text/plain": [
              "          Região 0       Região 1       Região 2\n",
              "0    794412.467126  629924.746213  767381.442244\n",
              "1    793235.294386  628653.615486  763529.995038\n",
              "2    779622.767428  628274.449800  743853.257174\n",
              "3    777612.184231  627816.457339  740762.530366\n",
              "4    777352.394998  627624.952638  737837.998979\n",
              "..             ...            ...            ...\n",
              "195  661286.937690  622927.521654  641742.708851\n",
              "196  661269.438402  622923.749578  641532.938553\n",
              "197  661263.673315  622919.195337  641162.375973\n",
              "198  661259.315693  622909.565248  640679.478318\n",
              "199  660937.261720  622907.141131  640361.213983\n",
              "\n",
              "[200 rows x 3 columns]"
            ],
            "text/html": [
              "\n",
              "  <div id=\"df-a3fb04ed-6844-4044-be87-96b715f62a52\" class=\"colab-df-container\">\n",
              "    <div>\n",
              "<style scoped>\n",
              "    .dataframe tbody tr th:only-of-type {\n",
              "        vertical-align: middle;\n",
              "    }\n",
              "\n",
              "    .dataframe tbody tr th {\n",
              "        vertical-align: top;\n",
              "    }\n",
              "\n",
              "    .dataframe thead th {\n",
              "        text-align: right;\n",
              "    }\n",
              "</style>\n",
              "<table border=\"1\" class=\"dataframe\">\n",
              "  <thead>\n",
              "    <tr style=\"text-align: right;\">\n",
              "      <th></th>\n",
              "      <th>Região 0</th>\n",
              "      <th>Região 1</th>\n",
              "      <th>Região 2</th>\n",
              "    </tr>\n",
              "  </thead>\n",
              "  <tbody>\n",
              "    <tr>\n",
              "      <th>0</th>\n",
              "      <td>794412.467126</td>\n",
              "      <td>629924.746213</td>\n",
              "      <td>767381.442244</td>\n",
              "    </tr>\n",
              "    <tr>\n",
              "      <th>1</th>\n",
              "      <td>793235.294386</td>\n",
              "      <td>628653.615486</td>\n",
              "      <td>763529.995038</td>\n",
              "    </tr>\n",
              "    <tr>\n",
              "      <th>2</th>\n",
              "      <td>779622.767428</td>\n",
              "      <td>628274.449800</td>\n",
              "      <td>743853.257174</td>\n",
              "    </tr>\n",
              "    <tr>\n",
              "      <th>3</th>\n",
              "      <td>777612.184231</td>\n",
              "      <td>627816.457339</td>\n",
              "      <td>740762.530366</td>\n",
              "    </tr>\n",
              "    <tr>\n",
              "      <th>4</th>\n",
              "      <td>777352.394998</td>\n",
              "      <td>627624.952638</td>\n",
              "      <td>737837.998979</td>\n",
              "    </tr>\n",
              "    <tr>\n",
              "      <th>...</th>\n",
              "      <td>...</td>\n",
              "      <td>...</td>\n",
              "      <td>...</td>\n",
              "    </tr>\n",
              "    <tr>\n",
              "      <th>195</th>\n",
              "      <td>661286.937690</td>\n",
              "      <td>622927.521654</td>\n",
              "      <td>641742.708851</td>\n",
              "    </tr>\n",
              "    <tr>\n",
              "      <th>196</th>\n",
              "      <td>661269.438402</td>\n",
              "      <td>622923.749578</td>\n",
              "      <td>641532.938553</td>\n",
              "    </tr>\n",
              "    <tr>\n",
              "      <th>197</th>\n",
              "      <td>661263.673315</td>\n",
              "      <td>622919.195337</td>\n",
              "      <td>641162.375973</td>\n",
              "    </tr>\n",
              "    <tr>\n",
              "      <th>198</th>\n",
              "      <td>661259.315693</td>\n",
              "      <td>622909.565248</td>\n",
              "      <td>640679.478318</td>\n",
              "    </tr>\n",
              "    <tr>\n",
              "      <th>199</th>\n",
              "      <td>660937.261720</td>\n",
              "      <td>622907.141131</td>\n",
              "      <td>640361.213983</td>\n",
              "    </tr>\n",
              "  </tbody>\n",
              "</table>\n",
              "<p>200 rows × 3 columns</p>\n",
              "</div>\n",
              "    <div class=\"colab-df-buttons\">\n",
              "\n",
              "  <div class=\"colab-df-container\">\n",
              "    <button class=\"colab-df-convert\" onclick=\"convertToInteractive('df-a3fb04ed-6844-4044-be87-96b715f62a52')\"\n",
              "            title=\"Convert this dataframe to an interactive table.\"\n",
              "            style=\"display:none;\">\n",
              "\n",
              "  <svg xmlns=\"http://www.w3.org/2000/svg\" height=\"24px\" viewBox=\"0 -960 960 960\">\n",
              "    <path d=\"M120-120v-720h720v720H120Zm60-500h600v-160H180v160Zm220 220h160v-160H400v160Zm0 220h160v-160H400v160ZM180-400h160v-160H180v160Zm440 0h160v-160H620v160ZM180-180h160v-160H180v160Zm440 0h160v-160H620v160Z\"/>\n",
              "  </svg>\n",
              "    </button>\n",
              "\n",
              "  <style>\n",
              "    .colab-df-container {\n",
              "      display:flex;\n",
              "      gap: 12px;\n",
              "    }\n",
              "\n",
              "    .colab-df-convert {\n",
              "      background-color: #E8F0FE;\n",
              "      border: none;\n",
              "      border-radius: 50%;\n",
              "      cursor: pointer;\n",
              "      display: none;\n",
              "      fill: #1967D2;\n",
              "      height: 32px;\n",
              "      padding: 0 0 0 0;\n",
              "      width: 32px;\n",
              "    }\n",
              "\n",
              "    .colab-df-convert:hover {\n",
              "      background-color: #E2EBFA;\n",
              "      box-shadow: 0px 1px 2px rgba(60, 64, 67, 0.3), 0px 1px 3px 1px rgba(60, 64, 67, 0.15);\n",
              "      fill: #174EA6;\n",
              "    }\n",
              "\n",
              "    .colab-df-buttons div {\n",
              "      margin-bottom: 4px;\n",
              "    }\n",
              "\n",
              "    [theme=dark] .colab-df-convert {\n",
              "      background-color: #3B4455;\n",
              "      fill: #D2E3FC;\n",
              "    }\n",
              "\n",
              "    [theme=dark] .colab-df-convert:hover {\n",
              "      background-color: #434B5C;\n",
              "      box-shadow: 0px 1px 3px 1px rgba(0, 0, 0, 0.15);\n",
              "      filter: drop-shadow(0px 1px 2px rgba(0, 0, 0, 0.3));\n",
              "      fill: #FFFFFF;\n",
              "    }\n",
              "  </style>\n",
              "\n",
              "    <script>\n",
              "      const buttonEl =\n",
              "        document.querySelector('#df-a3fb04ed-6844-4044-be87-96b715f62a52 button.colab-df-convert');\n",
              "      buttonEl.style.display =\n",
              "        google.colab.kernel.accessAllowed ? 'block' : 'none';\n",
              "\n",
              "      async function convertToInteractive(key) {\n",
              "        const element = document.querySelector('#df-a3fb04ed-6844-4044-be87-96b715f62a52');\n",
              "        const dataTable =\n",
              "          await google.colab.kernel.invokeFunction('convertToInteractive',\n",
              "                                                    [key], {});\n",
              "        if (!dataTable) return;\n",
              "\n",
              "        const docLinkHtml = 'Like what you see? Visit the ' +\n",
              "          '<a target=\"_blank\" href=https://colab.research.google.com/notebooks/data_table.ipynb>data table notebook</a>'\n",
              "          + ' to learn more about interactive tables.';\n",
              "        element.innerHTML = '';\n",
              "        dataTable['output_type'] = 'display_data';\n",
              "        await google.colab.output.renderOutput(dataTable, element);\n",
              "        const docLink = document.createElement('div');\n",
              "        docLink.innerHTML = docLinkHtml;\n",
              "        element.appendChild(docLink);\n",
              "      }\n",
              "    </script>\n",
              "  </div>\n",
              "\n",
              "\n",
              "<div id=\"df-8797406b-4696-44f0-aa59-c3b5adb51984\">\n",
              "  <button class=\"colab-df-quickchart\" onclick=\"quickchart('df-8797406b-4696-44f0-aa59-c3b5adb51984')\"\n",
              "            title=\"Suggest charts\"\n",
              "            style=\"display:none;\">\n",
              "\n",
              "<svg xmlns=\"http://www.w3.org/2000/svg\" height=\"24px\"viewBox=\"0 0 24 24\"\n",
              "     width=\"24px\">\n",
              "    <g>\n",
              "        <path d=\"M19 3H5c-1.1 0-2 .9-2 2v14c0 1.1.9 2 2 2h14c1.1 0 2-.9 2-2V5c0-1.1-.9-2-2-2zM9 17H7v-7h2v7zm4 0h-2V7h2v10zm4 0h-2v-4h2v4z\"/>\n",
              "    </g>\n",
              "</svg>\n",
              "  </button>\n",
              "\n",
              "<style>\n",
              "  .colab-df-quickchart {\n",
              "      --bg-color: #E8F0FE;\n",
              "      --fill-color: #1967D2;\n",
              "      --hover-bg-color: #E2EBFA;\n",
              "      --hover-fill-color: #174EA6;\n",
              "      --disabled-fill-color: #AAA;\n",
              "      --disabled-bg-color: #DDD;\n",
              "  }\n",
              "\n",
              "  [theme=dark] .colab-df-quickchart {\n",
              "      --bg-color: #3B4455;\n",
              "      --fill-color: #D2E3FC;\n",
              "      --hover-bg-color: #434B5C;\n",
              "      --hover-fill-color: #FFFFFF;\n",
              "      --disabled-bg-color: #3B4455;\n",
              "      --disabled-fill-color: #666;\n",
              "  }\n",
              "\n",
              "  .colab-df-quickchart {\n",
              "    background-color: var(--bg-color);\n",
              "    border: none;\n",
              "    border-radius: 50%;\n",
              "    cursor: pointer;\n",
              "    display: none;\n",
              "    fill: var(--fill-color);\n",
              "    height: 32px;\n",
              "    padding: 0;\n",
              "    width: 32px;\n",
              "  }\n",
              "\n",
              "  .colab-df-quickchart:hover {\n",
              "    background-color: var(--hover-bg-color);\n",
              "    box-shadow: 0 1px 2px rgba(60, 64, 67, 0.3), 0 1px 3px 1px rgba(60, 64, 67, 0.15);\n",
              "    fill: var(--button-hover-fill-color);\n",
              "  }\n",
              "\n",
              "  .colab-df-quickchart-complete:disabled,\n",
              "  .colab-df-quickchart-complete:disabled:hover {\n",
              "    background-color: var(--disabled-bg-color);\n",
              "    fill: var(--disabled-fill-color);\n",
              "    box-shadow: none;\n",
              "  }\n",
              "\n",
              "  .colab-df-spinner {\n",
              "    border: 2px solid var(--fill-color);\n",
              "    border-color: transparent;\n",
              "    border-bottom-color: var(--fill-color);\n",
              "    animation:\n",
              "      spin 1s steps(1) infinite;\n",
              "  }\n",
              "\n",
              "  @keyframes spin {\n",
              "    0% {\n",
              "      border-color: transparent;\n",
              "      border-bottom-color: var(--fill-color);\n",
              "      border-left-color: var(--fill-color);\n",
              "    }\n",
              "    20% {\n",
              "      border-color: transparent;\n",
              "      border-left-color: var(--fill-color);\n",
              "      border-top-color: var(--fill-color);\n",
              "    }\n",
              "    30% {\n",
              "      border-color: transparent;\n",
              "      border-left-color: var(--fill-color);\n",
              "      border-top-color: var(--fill-color);\n",
              "      border-right-color: var(--fill-color);\n",
              "    }\n",
              "    40% {\n",
              "      border-color: transparent;\n",
              "      border-right-color: var(--fill-color);\n",
              "      border-top-color: var(--fill-color);\n",
              "    }\n",
              "    60% {\n",
              "      border-color: transparent;\n",
              "      border-right-color: var(--fill-color);\n",
              "    }\n",
              "    80% {\n",
              "      border-color: transparent;\n",
              "      border-right-color: var(--fill-color);\n",
              "      border-bottom-color: var(--fill-color);\n",
              "    }\n",
              "    90% {\n",
              "      border-color: transparent;\n",
              "      border-bottom-color: var(--fill-color);\n",
              "    }\n",
              "  }\n",
              "</style>\n",
              "\n",
              "  <script>\n",
              "    async function quickchart(key) {\n",
              "      const quickchartButtonEl =\n",
              "        document.querySelector('#' + key + ' button');\n",
              "      quickchartButtonEl.disabled = true;  // To prevent multiple clicks.\n",
              "      quickchartButtonEl.classList.add('colab-df-spinner');\n",
              "      try {\n",
              "        const charts = await google.colab.kernel.invokeFunction(\n",
              "            'suggestCharts', [key], {});\n",
              "      } catch (error) {\n",
              "        console.error('Error during call to suggestCharts:', error);\n",
              "      }\n",
              "      quickchartButtonEl.classList.remove('colab-df-spinner');\n",
              "      quickchartButtonEl.classList.add('colab-df-quickchart-complete');\n",
              "    }\n",
              "    (() => {\n",
              "      let quickchartButtonEl =\n",
              "        document.querySelector('#df-8797406b-4696-44f0-aa59-c3b5adb51984 button');\n",
              "      quickchartButtonEl.style.display =\n",
              "        google.colab.kernel.accessAllowed ? 'block' : 'none';\n",
              "    })();\n",
              "  </script>\n",
              "</div>\n",
              "\n",
              "  <div id=\"id_a6955946-9809-47a2-b1b0-1f914ef488d1\">\n",
              "    <style>\n",
              "      .colab-df-generate {\n",
              "        background-color: #E8F0FE;\n",
              "        border: none;\n",
              "        border-radius: 50%;\n",
              "        cursor: pointer;\n",
              "        display: none;\n",
              "        fill: #1967D2;\n",
              "        height: 32px;\n",
              "        padding: 0 0 0 0;\n",
              "        width: 32px;\n",
              "      }\n",
              "\n",
              "      .colab-df-generate:hover {\n",
              "        background-color: #E2EBFA;\n",
              "        box-shadow: 0px 1px 2px rgba(60, 64, 67, 0.3), 0px 1px 3px 1px rgba(60, 64, 67, 0.15);\n",
              "        fill: #174EA6;\n",
              "      }\n",
              "\n",
              "      [theme=dark] .colab-df-generate {\n",
              "        background-color: #3B4455;\n",
              "        fill: #D2E3FC;\n",
              "      }\n",
              "\n",
              "      [theme=dark] .colab-df-generate:hover {\n",
              "        background-color: #434B5C;\n",
              "        box-shadow: 0px 1px 3px 1px rgba(0, 0, 0, 0.15);\n",
              "        filter: drop-shadow(0px 1px 2px rgba(0, 0, 0, 0.3));\n",
              "        fill: #FFFFFF;\n",
              "      }\n",
              "    </style>\n",
              "    <button class=\"colab-df-generate\" onclick=\"generateWithVariable('lucro')\"\n",
              "            title=\"Generate code using this dataframe.\"\n",
              "            style=\"display:none;\">\n",
              "\n",
              "  <svg xmlns=\"http://www.w3.org/2000/svg\" height=\"24px\"viewBox=\"0 0 24 24\"\n",
              "       width=\"24px\">\n",
              "    <path d=\"M7,19H8.4L18.45,9,17,7.55,7,17.6ZM5,21V16.75L18.45,3.32a2,2,0,0,1,2.83,0l1.4,1.43a1.91,1.91,0,0,1,.58,1.4,1.91,1.91,0,0,1-.58,1.4L9.25,21ZM18.45,9,17,7.55Zm-12,3A5.31,5.31,0,0,0,4.9,8.1,5.31,5.31,0,0,0,1,6.5,5.31,5.31,0,0,0,4.9,4.9,5.31,5.31,0,0,0,6.5,1,5.31,5.31,0,0,0,8.1,4.9,5.31,5.31,0,0,0,12,6.5,5.46,5.46,0,0,0,6.5,12Z\"/>\n",
              "  </svg>\n",
              "    </button>\n",
              "    <script>\n",
              "      (() => {\n",
              "      const buttonEl =\n",
              "        document.querySelector('#id_a6955946-9809-47a2-b1b0-1f914ef488d1 button.colab-df-generate');\n",
              "      buttonEl.style.display =\n",
              "        google.colab.kernel.accessAllowed ? 'block' : 'none';\n",
              "\n",
              "      buttonEl.onclick = () => {\n",
              "        google.colab.notebook.generateWithVariable('lucro');\n",
              "      }\n",
              "      })();\n",
              "    </script>\n",
              "  </div>\n",
              "\n",
              "    </div>\n",
              "  </div>\n"
            ],
            "application/vnd.google.colaboratory.intrinsic+json": {
              "type": "dataframe",
              "variable_name": "lucro",
              "summary": "{\n  \"name\": \"lucro\",\n  \"rows\": 200,\n  \"fields\": [\n    {\n      \"column\": \"Regi\\u00e3o 0\",\n      \"properties\": {\n        \"dtype\": \"number\",\n        \"std\": 29288.440271963995,\n        \"min\": 660937.261720154,\n        \"max\": 794412.4671258731,\n        \"num_unique_values\": 200,\n        \"samples\": [\n          689632.6332949537,\n          746584.9346083759,\n          724327.3076528076\n        ],\n        \"semantic_type\": \"\",\n        \"description\": \"\"\n      }\n    },\n    {\n      \"column\": \"Regi\\u00e3o 1\",\n      \"properties\": {\n        \"dtype\": \"number\",\n        \"std\": 1237.082771055002,\n        \"min\": 622907.1411307644,\n        \"max\": 629924.7462131011,\n        \"num_unique_values\": 200,\n        \"samples\": [\n          624091.6691816864,\n          626632.4441456397,\n          625451.4713419513\n        ],\n        \"semantic_type\": \"\",\n        \"description\": \"\"\n      }\n    },\n    {\n      \"column\": \"Regi\\u00e3o 2\",\n      \"properties\": {\n        \"dtype\": \"number\",\n        \"std\": 23812.97898273394,\n        \"min\": 640361.2139832418,\n        \"max\": 767381.4422440754,\n        \"num_unique_values\": 200,\n        \"samples\": [\n          662933.841214842,\n          704291.51520154,\n          690263.2913835308\n        ],\n        \"semantic_type\": \"\",\n        \"description\": \"\"\n      }\n    }\n  ]\n}"
            }
          },
          "metadata": {},
          "execution_count": 26
        }
      ],
      "source": [
        "lucro = pd.DataFrame({'Região 0': regiao_0, 'Região 1': regiao_1, 'Região 2': regiao_2})\n",
        "lucro"
      ]
    },
    {
      "cell_type": "code",
      "execution_count": 27,
      "metadata": {
        "colab": {
          "base_uri": "https://localhost:8080/"
        },
        "id": "JQRAkNYxA1AO",
        "outputId": "e3f28995-ebba-433d-ab9f-b5a5772357ee"
      },
      "outputs": [
        {
          "output_type": "stream",
          "name": "stdout",
          "text": [
            "O lucro potencial total da região 0 é de 138966584.79666147\n",
            "O lucro potencial total da região 1 é de 124869381.1499908\n",
            "O lucro potencial total da região 2 é de 133779815.13714948\n",
            "A região com o maior lucro potecial é a Região 0\n"
          ]
        }
      ],
      "source": [
        "total_0 = lucro['Região 0'].sum()\n",
        "total_1 = lucro['Região 1'].sum()\n",
        "total_2 = lucro['Região 2'].sum()\n",
        "print(f'O lucro potencial total da região 0 é de {total_0}')\n",
        "print(f'O lucro potencial total da região 1 é de {total_1}')\n",
        "print(f'O lucro potencial total da região 2 é de {total_2}')\n",
        "print(f'A região com o maior lucro potecial é a Região 0')"
      ]
    },
    {
      "cell_type": "code",
      "execution_count": 28,
      "metadata": {
        "colab": {
          "base_uri": "https://localhost:8080/",
          "height": 564
        },
        "id": "PvvV8L9lAJ-w",
        "outputId": "cb6bc96c-0d3c-4f79-f8bc-08ba26fb97ac"
      },
      "outputs": [
        {
          "output_type": "display_data",
          "data": {
            "text/plain": [
              "<Figure size 800x600 with 1 Axes>"
            ],
            "image/png": "[encoded data removed]"
          },
          "metadata": {}
        }
      ],
      "source": [
        "\n",
        "Região = ['Região 0', 'Região 1', 'Região 2']\n",
        "Lucro = [total_0, total_1, total_2]\n",
        "\n",
        "# Create the bar plot\n",
        "plt.figure(figsize=(8, 6))\n",
        "plt.bar(Região, Lucro)\n",
        "\n",
        "# Add labels and title\n",
        "plt.xlabel('Região')\n",
        "plt.ylabel('Lucro')\n",
        "plt.title('Lucro por Região')\n",
        "plt.grid(axis='y')\n",
        "\n",
        "plt.show()"
      ]
    },
    {
      "cell_type": "markdown",
      "metadata": {
        "id": "V7p3_ch3ssnW"
      },
      "source": [
        "# 5. Cáculo do risco"
      ]
    },
    {
      "cell_type": "markdown",
      "metadata": {
        "id": "sKxZ58jessj3"
      },
      "source": [
        "## 5.1 Bootstrapping com 1000 amostrar para encontrar a distribuição de lucros\n"
      ]
    },
    {
      "cell_type": "code",
      "execution_count": 29,
      "metadata": {
        "id": "IuHXbkjtuBY5"
      },
      "outputs": [],
      "source": [
        "def lucro_por_regiao(data, num_amostras=1000):\n",
        "    lucros = []\n",
        "    for _ in range(num_amostras):\n",
        "        amostra = data.sample(frac=1, replace=True)\n",
        "        lucro = (amostra['predicted'] * 4500).sum()\n",
        "        lucros.append(lucro)\n",
        "\n",
        "\n",
        "    return lucros"
      ]
    },
    {
      "cell_type": "code",
      "execution_count": 30,
      "metadata": {
        "id": "z9Bnjy9duDqa"
      },
      "outputs": [],
      "source": [
        "regiao_0_boot = lucro_por_regiao(data0_final)\n",
        "regiao_1_boot = lucro_por_regiao(data1_final)\n",
        "regiao_2_boot = lucro_por_regiao(data2_final)"
      ]
    },
    {
      "cell_type": "code",
      "execution_count": 31,
      "metadata": {
        "colab": {
          "base_uri": "https://localhost:8080/"
        },
        "id": "1yN-64Q6B0Jj",
        "outputId": "b430e8a0-76fd-4c93-ee9d-c2db8363a508"
      },
      "outputs": [
        {
          "output_type": "execute_result",
          "data": {
            "text/plain": [
              "(1000, 1000, 1000)"
            ]
          },
          "metadata": {},
          "execution_count": 31
        }
      ],
      "source": [
        "len(regiao_0_boot), len(regiao_1_boot), len(regiao_2_boot)"
      ]
    },
    {
      "cell_type": "code",
      "execution_count": 32,
      "metadata": {
        "colab": {
          "base_uri": "https://localhost:8080/",
          "height": 423
        },
        "id": "Dc7C3ornCCwp",
        "outputId": "2adf7274-e037-4cca-8b3a-5676921904a2"
      },
      "outputs": [
        {
          "output_type": "execute_result",
          "data": {
            "text/plain": [
              "         Região 0      Região 1      Região 2\n",
              "0    1.040238e+10  7.694631e+09  1.066318e+10\n",
              "1    1.039214e+10  7.700131e+09  1.064254e+10\n",
              "2    1.040948e+10  7.708979e+09  1.066405e+10\n",
              "3    1.037966e+10  7.712264e+09  1.067013e+10\n",
              "4    1.039828e+10  7.667733e+09  1.063276e+10\n",
              "..            ...           ...           ...\n",
              "995  1.041056e+10  7.723898e+09  1.066103e+10\n",
              "996  1.037747e+10  7.709878e+09  1.065690e+10\n",
              "997  1.040449e+10  7.686779e+09  1.068726e+10\n",
              "998  1.038891e+10  7.728795e+09  1.064935e+10\n",
              "999  1.036427e+10  7.712050e+09  1.065042e+10\n",
              "\n",
              "[1000 rows x 3 columns]"
            ],
            "text/html": [
              "\n",
              "  <div id=\"df-cfe5af86-1141-4224-894e-4c19ee3893dc\" class=\"colab-df-container\">\n",
              "    <div>\n",
              "<style scoped>\n",
              "    .dataframe tbody tr th:only-of-type {\n",
              "        vertical-align: middle;\n",
              "    }\n",
              "\n",
              "    .dataframe tbody tr th {\n",
              "        vertical-align: top;\n",
              "    }\n",
              "\n",
              "    .dataframe thead th {\n",
              "        text-align: right;\n",
              "    }\n",
              "</style>\n",
              "<table border=\"1\" class=\"dataframe\">\n",
              "  <thead>\n",
              "    <tr style=\"text-align: right;\">\n",
              "      <th></th>\n",
              "      <th>Região 0</th>\n",
              "      <th>Região 1</th>\n",
              "      <th>Região 2</th>\n",
              "    </tr>\n",
              "  </thead>\n",
              "  <tbody>\n",
              "    <tr>\n",
              "      <th>0</th>\n",
              "      <td>1.040238e+10</td>\n",
              "      <td>7.694631e+09</td>\n",
              "      <td>1.066318e+10</td>\n",
              "    </tr>\n",
              "    <tr>\n",
              "      <th>1</th>\n",
              "      <td>1.039214e+10</td>\n",
              "      <td>7.700131e+09</td>\n",
              "      <td>1.064254e+10</td>\n",
              "    </tr>\n",
              "    <tr>\n",
              "      <th>2</th>\n",
              "      <td>1.040948e+10</td>\n",
              "      <td>7.708979e+09</td>\n",
              "      <td>1.066405e+10</td>\n",
              "    </tr>\n",
              "    <tr>\n",
              "      <th>3</th>\n",
              "      <td>1.037966e+10</td>\n",
              "      <td>7.712264e+09</td>\n",
              "      <td>1.067013e+10</td>\n",
              "    </tr>\n",
              "    <tr>\n",
              "      <th>4</th>\n",
              "      <td>1.039828e+10</td>\n",
              "      <td>7.667733e+09</td>\n",
              "      <td>1.063276e+10</td>\n",
              "    </tr>\n",
              "    <tr>\n",
              "      <th>...</th>\n",
              "      <td>...</td>\n",
              "      <td>...</td>\n",
              "      <td>...</td>\n",
              "    </tr>\n",
              "    <tr>\n",
              "      <th>995</th>\n",
              "      <td>1.041056e+10</td>\n",
              "      <td>7.723898e+09</td>\n",
              "      <td>1.066103e+10</td>\n",
              "    </tr>\n",
              "    <tr>\n",
              "      <th>996</th>\n",
              "      <td>1.037747e+10</td>\n",
              "      <td>7.709878e+09</td>\n",
              "      <td>1.065690e+10</td>\n",
              "    </tr>\n",
              "    <tr>\n",
              "      <th>997</th>\n",
              "      <td>1.040449e+10</td>\n",
              "      <td>7.686779e+09</td>\n",
              "      <td>1.068726e+10</td>\n",
              "    </tr>\n",
              "    <tr>\n",
              "      <th>998</th>\n",
              "      <td>1.038891e+10</td>\n",
              "      <td>7.728795e+09</td>\n",
              "      <td>1.064935e+10</td>\n",
              "    </tr>\n",
              "    <tr>\n",
              "      <th>999</th>\n",
              "      <td>1.036427e+10</td>\n",
              "      <td>7.712050e+09</td>\n",
              "      <td>1.065042e+10</td>\n",
              "    </tr>\n",
              "  </tbody>\n",
              "</table>\n",
              "<p>1000 rows × 3 columns</p>\n",
              "</div>\n",
              "    <div class=\"colab-df-buttons\">\n",
              "\n",
              "  <div class=\"colab-df-container\">\n",
              "    <button class=\"colab-df-convert\" onclick=\"convertToInteractive('df-cfe5af86-1141-4224-894e-4c19ee3893dc')\"\n",
              "            title=\"Convert this dataframe to an interactive table.\"\n",
              "            style=\"display:none;\">\n",
              "\n",
              "  <svg xmlns=\"http://www.w3.org/2000/svg\" height=\"24px\" viewBox=\"0 -960 960 960\">\n",
              "    <path d=\"M120-120v-720h720v720H120Zm60-500h600v-160H180v160Zm220 220h160v-160H400v160Zm0 220h160v-160H400v160ZM180-400h160v-160H180v160Zm440 0h160v-160H620v160ZM180-180h160v-160H180v160Zm440 0h160v-160H620v160Z\"/>\n",
              "  </svg>\n",
              "    </button>\n",
              "\n",
              "  <style>\n",
              "    .colab-df-container {\n",
              "      display:flex;\n",
              "      gap: 12px;\n",
              "    }\n",
              "\n",
              "    .colab-df-convert {\n",
              "      background-color: #E8F0FE;\n",
              "      border: none;\n",
              "      border-radius: 50%;\n",
              "      cursor: pointer;\n",
              "      display: none;\n",
              "      fill: #1967D2;\n",
              "      height: 32px;\n",
              "      padding: 0 0 0 0;\n",
              "      width: 32px;\n",
              "    }\n",
              "\n",
              "    .colab-df-convert:hover {\n",
              "      background-color: #E2EBFA;\n",
              "      box-shadow: 0px 1px 2px rgba(60, 64, 67, 0.3), 0px 1px 3px 1px rgba(60, 64, 67, 0.15);\n",
              "      fill: #174EA6;\n",
              "    }\n",
              "\n",
              "    .colab-df-buttons div {\n",
              "      margin-bottom: 4px;\n",
              "    }\n",
              "\n",
              "    [theme=dark] .colab-df-convert {\n",
              "      background-color: #3B4455;\n",
              "      fill: #D2E3FC;\n",
              "    }\n",
              "\n",
              "    [theme=dark] .colab-df-convert:hover {\n",
              "      background-color: #434B5C;\n",
              "      box-shadow: 0px 1px 3px 1px rgba(0, 0, 0, 0.15);\n",
              "      filter: drop-shadow(0px 1px 2px rgba(0, 0, 0, 0.3));\n",
              "      fill: #FFFFFF;\n",
              "    }\n",
              "  </style>\n",
              "\n",
              "    <script>\n",
              "      const buttonEl =\n",
              "        document.querySelector('#df-cfe5af86-1141-4224-894e-4c19ee3893dc button.colab-df-convert');\n",
              "      buttonEl.style.display =\n",
              "        google.colab.kernel.accessAllowed ? 'block' : 'none';\n",
              "\n",
              "      async function convertToInteractive(key) {\n",
              "        const element = document.querySelector('#df-cfe5af86-1141-4224-894e-4c19ee3893dc');\n",
              "        const dataTable =\n",
              "          await google.colab.kernel.invokeFunction('convertToInteractive',\n",
              "                                                    [key], {});\n",
              "        if (!dataTable) return;\n",
              "\n",
              "        const docLinkHtml = 'Like what you see? Visit the ' +\n",
              "          '<a target=\"_blank\" href=https://colab.research.google.com/notebooks/data_table.ipynb>data table notebook</a>'\n",
              "          + ' to learn more about interactive tables.';\n",
              "        element.innerHTML = '';\n",
              "        dataTable['output_type'] = 'display_data';\n",
              "        await google.colab.output.renderOutput(dataTable, element);\n",
              "        const docLink = document.createElement('div');\n",
              "        docLink.innerHTML = docLinkHtml;\n",
              "        element.appendChild(docLink);\n",
              "      }\n",
              "    </script>\n",
              "  </div>\n",
              "\n",
              "\n",
              "<div id=\"df-00b32634-0185-429b-84c1-c229eae38645\">\n",
              "  <button class=\"colab-df-quickchart\" onclick=\"quickchart('df-00b32634-0185-429b-84c1-c229eae38645')\"\n",
              "            title=\"Suggest charts\"\n",
              "            style=\"display:none;\">\n",
              "\n",
              "<svg xmlns=\"http://www.w3.org/2000/svg\" height=\"24px\"viewBox=\"0 0 24 24\"\n",
              "     width=\"24px\">\n",
              "    <g>\n",
              "        <path d=\"M19 3H5c-1.1 0-2 .9-2 2v14c0 1.1.9 2 2 2h14c1.1 0 2-.9 2-2V5c0-1.1-.9-2-2-2zM9 17H7v-7h2v7zm4 0h-2V7h2v10zm4 0h-2v-4h2v4z\"/>\n",
              "    </g>\n",
              "</svg>\n",
              "  </button>\n",
              "\n",
              "<style>\n",
              "  .colab-df-quickchart {\n",
              "      --bg-color: #E8F0FE;\n",
              "      --fill-color: #1967D2;\n",
              "      --hover-bg-color: #E2EBFA;\n",
              "      --hover-fill-color: #174EA6;\n",
              "      --disabled-fill-color: #AAA;\n",
              "      --disabled-bg-color: #DDD;\n",
              "  }\n",
              "\n",
              "  [theme=dark] .colab-df-quickchart {\n",
              "      --bg-color: #3B4455;\n",
              "      --fill-color: #D2E3FC;\n",
              "      --hover-bg-color: #434B5C;\n",
              "      --hover-fill-color: #FFFFFF;\n",
              "      --disabled-bg-color: #3B4455;\n",
              "      --disabled-fill-color: #666;\n",
              "  }\n",
              "\n",
              "  .colab-df-quickchart {\n",
              "    background-color: var(--bg-color);\n",
              "    border: none;\n",
              "    border-radius: 50%;\n",
              "    cursor: pointer;\n",
              "    display: none;\n",
              "    fill: var(--fill-color);\n",
              "    height: 32px;\n",
              "    padding: 0;\n",
              "    width: 32px;\n",
              "  }\n",
              "\n",
              "  .colab-df-quickchart:hover {\n",
              "    background-color: var(--hover-bg-color);\n",
              "    box-shadow: 0 1px 2px rgba(60, 64, 67, 0.3), 0 1px 3px 1px rgba(60, 64, 67, 0.15);\n",
              "    fill: var(--button-hover-fill-color);\n",
              "  }\n",
              "\n",
              "  .colab-df-quickchart-complete:disabled,\n",
              "  .colab-df-quickchart-complete:disabled:hover {\n",
              "    background-color: var(--disabled-bg-color);\n",
              "    fill: var(--disabled-fill-color);\n",
              "    box-shadow: none;\n",
              "  }\n",
              "\n",
              "  .colab-df-spinner {\n",
              "    border: 2px solid var(--fill-color);\n",
              "    border-color: transparent;\n",
              "    border-bottom-color: var(--fill-color);\n",
              "    animation:\n",
              "      spin 1s steps(1) infinite;\n",
              "  }\n",
              "\n",
              "  @keyframes spin {\n",
              "    0% {\n",
              "      border-color: transparent;\n",
              "      border-bottom-color: var(--fill-color);\n",
              "      border-left-color: var(--fill-color);\n",
              "    }\n",
              "    20% {\n",
              "      border-color: transparent;\n",
              "      border-left-color: var(--fill-color);\n",
              "      border-top-color: var(--fill-color);\n",
              "    }\n",
              "    30% {\n",
              "      border-color: transparent;\n",
              "      border-left-color: var(--fill-color);\n",
              "      border-top-color: var(--fill-color);\n",
              "      border-right-color: var(--fill-color);\n",
              "    }\n",
              "    40% {\n",
              "      border-color: transparent;\n",
              "      border-right-color: var(--fill-color);\n",
              "      border-top-color: var(--fill-color);\n",
              "    }\n",
              "    60% {\n",
              "      border-color: transparent;\n",
              "      border-right-color: var(--fill-color);\n",
              "    }\n",
              "    80% {\n",
              "      border-color: transparent;\n",
              "      border-right-color: var(--fill-color);\n",
              "      border-bottom-color: var(--fill-color);\n",
              "    }\n",
              "    90% {\n",
              "      border-color: transparent;\n",
              "      border-bottom-color: var(--fill-color);\n",
              "    }\n",
              "  }\n",
              "</style>\n",
              "\n",
              "  <script>\n",
              "    async function quickchart(key) {\n",
              "      const quickchartButtonEl =\n",
              "        document.querySelector('#' + key + ' button');\n",
              "      quickchartButtonEl.disabled = true;  // To prevent multiple clicks.\n",
              "      quickchartButtonEl.classList.add('colab-df-spinner');\n",
              "      try {\n",
              "        const charts = await google.colab.kernel.invokeFunction(\n",
              "            'suggestCharts', [key], {});\n",
              "      } catch (error) {\n",
              "        console.error('Error during call to suggestCharts:', error);\n",
              "      }\n",
              "      quickchartButtonEl.classList.remove('colab-df-spinner');\n",
              "      quickchartButtonEl.classList.add('colab-df-quickchart-complete');\n",
              "    }\n",
              "    (() => {\n",
              "      let quickchartButtonEl =\n",
              "        document.querySelector('#df-00b32634-0185-429b-84c1-c229eae38645 button');\n",
              "      quickchartButtonEl.style.display =\n",
              "        google.colab.kernel.accessAllowed ? 'block' : 'none';\n",
              "    })();\n",
              "  </script>\n",
              "</div>\n",
              "\n",
              "  <div id=\"id_a0c2db53-3447-4343-b334-d128de7830b3\">\n",
              "    <style>\n",
              "      .colab-df-generate {\n",
              "        background-color: #E8F0FE;\n",
              "        border: none;\n",
              "        border-radius: 50%;\n",
              "        cursor: pointer;\n",
              "        display: none;\n",
              "        fill: #1967D2;\n",
              "        height: 32px;\n",
              "        padding: 0 0 0 0;\n",
              "        width: 32px;\n",
              "      }\n",
              "\n",
              "      .colab-df-generate:hover {\n",
              "        background-color: #E2EBFA;\n",
              "        box-shadow: 0px 1px 2px rgba(60, 64, 67, 0.3), 0px 1px 3px 1px rgba(60, 64, 67, 0.15);\n",
              "        fill: #174EA6;\n",
              "      }\n",
              "\n",
              "      [theme=dark] .colab-df-generate {\n",
              "        background-color: #3B4455;\n",
              "        fill: #D2E3FC;\n",
              "      }\n",
              "\n",
              "      [theme=dark] .colab-df-generate:hover {\n",
              "        background-color: #434B5C;\n",
              "        box-shadow: 0px 1px 3px 1px rgba(0, 0, 0, 0.15);\n",
              "        filter: drop-shadow(0px 1px 2px rgba(0, 0, 0, 0.3));\n",
              "        fill: #FFFFFF;\n",
              "      }\n",
              "    </style>\n",
              "    <button class=\"colab-df-generate\" onclick=\"generateWithVariable('lucro_bootstrapped')\"\n",
              "            title=\"Generate code using this dataframe.\"\n",
              "            style=\"display:none;\">\n",
              "\n",
              "  <svg xmlns=\"http://www.w3.org/2000/svg\" height=\"24px\"viewBox=\"0 0 24 24\"\n",
              "       width=\"24px\">\n",
              "    <path d=\"M7,19H8.4L18.45,9,17,7.55,7,17.6ZM5,21V16.75L18.45,3.32a2,2,0,0,1,2.83,0l1.4,1.43a1.91,1.91,0,0,1,.58,1.4,1.91,1.91,0,0,1-.58,1.4L9.25,21ZM18.45,9,17,7.55Zm-12,3A5.31,5.31,0,0,0,4.9,8.1,5.31,5.31,0,0,0,1,6.5,5.31,5.31,0,0,0,4.9,4.9,5.31,5.31,0,0,0,6.5,1,5.31,5.31,0,0,0,8.1,4.9,5.31,5.31,0,0,0,12,6.5,5.46,5.46,0,0,0,6.5,12Z\"/>\n",
              "  </svg>\n",
              "    </button>\n",
              "    <script>\n",
              "      (() => {\n",
              "      const buttonEl =\n",
              "        document.querySelector('#id_a0c2db53-3447-4343-b334-d128de7830b3 button.colab-df-generate');\n",
              "      buttonEl.style.display =\n",
              "        google.colab.kernel.accessAllowed ? 'block' : 'none';\n",
              "\n",
              "      buttonEl.onclick = () => {\n",
              "        google.colab.notebook.generateWithVariable('lucro_bootstrapped');\n",
              "      }\n",
              "      })();\n",
              "    </script>\n",
              "  </div>\n",
              "\n",
              "    </div>\n",
              "  </div>\n"
            ],
            "application/vnd.google.colaboratory.intrinsic+json": {
              "type": "dataframe",
              "variable_name": "lucro_bootstrapped",
              "summary": "{\n  \"name\": \"lucro_bootstrapped\",\n  \"rows\": 1000,\n  \"fields\": [\n    {\n      \"column\": \"Regi\\u00e3o 0\",\n      \"properties\": {\n        \"dtype\": \"number\",\n        \"std\": 16910350.62463155,\n        \"min\": 10346795914.941622,\n        \"max\": 10449391738.10917,\n        \"num_unique_values\": 1000,\n        \"samples\": [\n          10384729962.842192,\n          10396197138.951975,\n          10417385062.949226\n        ],\n        \"semantic_type\": \"\",\n        \"description\": \"\"\n      }\n    },\n    {\n      \"column\": \"Regi\\u00e3o 1\",\n      \"properties\": {\n        \"dtype\": \"number\",\n        \"std\": 32121683.2892487,\n        \"min\": 7627703936.687886,\n        \"max\": 7838100321.880434,\n        \"num_unique_values\": 1000,\n        \"samples\": [\n          7755561483.183313,\n          7785401308.154302,\n          7745085452.665201\n        ],\n        \"semantic_type\": \"\",\n        \"description\": \"\"\n      }\n    },\n    {\n      \"column\": \"Regi\\u00e3o 2\",\n      \"properties\": {\n        \"dtype\": \"number\",\n        \"std\": 14134446.524646135,\n        \"min\": 10608207393.559416,\n        \"max\": 10708394649.055607,\n        \"num_unique_values\": 1000,\n        \"samples\": [\n          10681319311.996775,\n          10638607883.537674,\n          10677078112.603865\n        ],\n        \"semantic_type\": \"\",\n        \"description\": \"\"\n      }\n    }\n  ]\n}"
            }
          },
          "metadata": {},
          "execution_count": 32
        }
      ],
      "source": [
        "lucro_bootstrapped = pd.DataFrame({'Região 0': regiao_0_boot, 'Região 1': regiao_1_boot, 'Região 2': regiao_2_boot})\n",
        "lucro_bootstrapped"
      ]
    },
    {
      "cell_type": "code",
      "execution_count": 33,
      "metadata": {
        "colab": {
          "base_uri": "https://localhost:8080/"
        },
        "id": "VZVrfBAdEtni",
        "outputId": "dcc31ed1-3b41-4816-b1b9-54fa2756446a"
      },
      "outputs": [
        {
          "output_type": "stream",
          "name": "stdout",
          "text": [
            "O lucro potencial total da região 0 é de 10395509062817.582, \n",
            "o lucro potencial total da região 1 é de 7729609188173.836, \n",
            "o lucro potencial total da região 2 é de 10661705437494.354\n"
          ]
        }
      ],
      "source": [
        "total_0_boot = lucro_bootstrapped['Região 0'].sum()\n",
        "total_1_boot = lucro_bootstrapped['Região 1'].sum()\n",
        "total_2_boot = lucro_bootstrapped['Região 2'].sum()\n",
        "print(f'O lucro potencial total da região 0 é de {total_0_boot}, \\no lucro potencial total da região 1 é de {total_1_boot}, \\no lucro potencial total da região 2 é de {total_2_boot}')\n"
      ]
    },
    {
      "cell_type": "markdown",
      "metadata": {
        "id": "eyBGhDAZsshp"
      },
      "source": [
        "## 5.2 Lucro médio, intervalo de confiança 95% e risco de prejuízo. Prejuízo é um lucro negativo, calcular como probabilidade e depois expressar como porcentagem"
      ]
    },
    {
      "cell_type": "code",
      "execution_count": 34,
      "metadata": {
        "colab": {
          "base_uri": "https://localhost:8080/"
        },
        "id": "cVtnIXqNCj6K",
        "outputId": "328d27b0-6526-4d60-81a4-672d4262d782"
      },
      "outputs": [
        {
          "output_type": "stream",
          "name": "stdout",
          "text": [
            "                                                            Região 0  \\\n",
            "Lucro médio                                               154.412252   \n",
            "Intervalo de Confiança 95%  [153.51443804201674, 155.31258729218123]   \n",
            "Risco de Prejuízo (%)                                            0.0   \n",
            "\n",
            "                                                            Região 1  \\\n",
            "Lucro médio                                               138.742507   \n",
            "Intervalo de Confiança 95%  [138.70717070620017, 138.78054977226276]   \n",
            "Risco de Prejuízo (%)                                            0.0   \n",
            "\n",
            "                                                            Região 2  \n",
            "Lucro médio                                                148.63518  \n",
            "Intervalo de Confiança 95%  [147.92031444153778, 149.41813221485586]  \n",
            "Risco de Prejuízo (%)                                            0.0  \n"
          ]
        }
      ],
      "source": [
        "def estatisticas_regiao(data, n_bootstrap=1000):\n",
        "    bootstrap_means = []\n",
        "    for _ in range(n_bootstrap):\n",
        "        sample = np.random.choice(data, size=len(data), replace=True)\n",
        "        bootstrap_means.append(sample.mean())\n",
        "\n",
        "    lucro_medio = np.mean(bootstrap_means)\n",
        "    intervalo_de_confianca = np.percentile(bootstrap_means, [2.5, 97.5])\n",
        "    risco_de_prejuizo = (np.array(bootstrap_means) < 0).mean() * 100\n",
        "\n",
        "    return lucro_medio, intervalo_de_confianca, risco_de_prejuizo\n",
        "\n",
        "\n",
        "results = {}\n",
        "for region, profits in top_200_df.items():\n",
        "    lucro_medio, intervalo_de_confianca, risco_de_prejuizo = estatisticas_regiao(profits)\n",
        "    results[region] = {\n",
        "        'Lucro médio': lucro_medio,\n",
        "        'Intervalo de Confiança 95%': intervalo_de_confianca,\n",
        "        'Risco de Prejuízo (%)': risco_de_prejuizo\n",
        "    }\n",
        "\n",
        "\n",
        "results_df = pd.DataFrame(results)\n",
        "print(results_df)\n",
        "\n",
        "\n"
      ]
    },
    {
      "cell_type": "code",
      "execution_count": 40,
      "metadata": {
        "id": "EOgyJQjJugpa"
      },
      "outputs": [],
      "source": [
        "def train_and_evaluate_model(data):\n",
        "    features = data.drop(columns=[\"id\", \"product\"], axis=1)\n",
        "    target = data[\"product\"]\n",
        "\n",
        "    features_train,features_valid,target_train,target_valid = train_test_split(\n",
        "        features,\n",
        "        target,\n",
        "        test_size= 0.25\n",
        "    )\n",
        "\n",
        "    model = LinearRegression()\n",
        "    model.fit(features_train,target_train)\n",
        "    predict_date = model.predict(features_valid)\n",
        "\n",
        "\n",
        "    rmse = root_mean_squared_error(target_valid, predict_date)\n",
        "\n",
        "\n",
        "    mean_reserve= predict_date.mean()\n",
        "\n",
        "    output= pd.DataFrame(dict(predicted_value=predict_date, real_value=target_valid))\n",
        "    return output"
      ]
    },
    {
      "cell_type": "code",
      "execution_count": 41,
      "metadata": {
        "id": "n0XoTvEAugpa"
      },
      "outputs": [],
      "source": [
        "regions = [\"region_0\", \"region_1\", \"region_2\"]\n",
        "datas = [data0, data1, data2]\n",
        "predict_region = {}\n",
        "\n",
        "for data, region in zip(datas, regions):\n",
        "    predict_region[region] = train_and_evaluate_model(data)"
      ]
    },
    {
      "cell_type": "code",
      "execution_count": 43,
      "metadata": {
        "id": "z39xEQqYugpa"
      },
      "outputs": [],
      "source": [
        "def calculate_profit(df):\n",
        "    best_wells = df.sort_values(by=\"predicted_value\", ascending=False)['real_value'].head(200)\n",
        "    total_volume = best_wells.sum()\n",
        "    potential_profit = (total_volume * revenue_per_product_unit) - development_cost\n",
        "    return potential_profit"
      ]
    },
    {
      "cell_type": "code",
      "execution_count": 44,
      "metadata": {
        "id": "hTBixuGzugpa"
      },
      "outputs": [],
      "source": [
        "revenue_per_product_unit = 4500\n",
        "development_cost = 100000000"
      ]
    },
    {
      "cell_type": "code",
      "execution_count": 45,
      "metadata": {
        "id": "DzR_cG8Hugpa"
      },
      "outputs": [],
      "source": [
        "def calculate_bootstrap(\n",
        "    data,\n",
        "    revenue_per_barrel=revenue_per_product_unit,\n",
        "    development_cost_per_well=development_cost,\n",
        "    total_samples=1000,\n",
        "    sample_size=500\n",
        "):\n",
        "    profits = []\n",
        "    for _ in range(total_samples):\n",
        "        sampled_data = data.sample(n=sample_size, replace=True)\n",
        "        profit = calculate_profit(sampled_data)\n",
        "        profits.append(profit)\n",
        "    return pd.Series(profits)"
      ]
    },
    {
      "cell_type": "code",
      "execution_count": 46,
      "metadata": {
        "id": "-elMlWcFugpb"
      },
      "outputs": [],
      "source": [
        "region_0_results = calculate_bootstrap(\n",
        "    predict_region['region_0']\n",
        ")"
      ]
    },
    {
      "cell_type": "code",
      "execution_count": 47,
      "metadata": {
        "colab": {
          "base_uri": "https://localhost:8080/"
        },
        "id": "bm2yDl6Xugpb",
        "outputId": "5345e413-8a2a-4677-e509-6bccc8a7dbe4"
      },
      "outputs": [
        {
          "output_type": "execute_result",
          "data": {
            "text/plain": [
              "0.041"
            ]
          },
          "metadata": {},
          "execution_count": 47
        }
      ],
      "source": [
        "loss_risk = ((region_0_results < 0).mean())\n",
        "loss_risk\n"
      ]
    },
    {
      "cell_type": "code",
      "execution_count": 48,
      "metadata": {
        "colab": {
          "base_uri": "https://localhost:8080/"
        },
        "id": "l7JI_hxIugpb",
        "outputId": "0e69308f-0f95-4762-964e-e4a13685a3f2"
      },
      "outputs": [
        {
          "output_type": "execute_result",
          "data": {
            "text/plain": [
              "{'region_0':        predicted_value  real_value\n",
              " 74837        69.587645   63.305947\n",
              " 66993       125.861035  103.117870\n",
              " 80197       132.268900   65.984560\n",
              " 94447        63.615485   77.378297\n",
              " 34337        47.266105   56.220561\n",
              " ...                ...         ...\n",
              " 48477       122.066051   77.056451\n",
              " 78496        82.743840   85.873169\n",
              " 80458        82.621500   36.624368\n",
              " 70010        84.859320   67.210244\n",
              " 53156        75.339960  117.941262\n",
              " \n",
              " [25000 rows x 2 columns],\n",
              " 'region_1':        predicted_value  real_value\n",
              " 61720         3.373984    3.179103\n",
              " 81484        54.274370   53.906522\n",
              " 14336        82.890725   84.038886\n",
              " 11170        53.652377   53.906522\n",
              " 26526        53.319023   53.906522\n",
              " ...                ...         ...\n",
              " 47348        54.581089   53.906522\n",
              " 12238        30.058582   30.132364\n",
              " 98264       108.300309  107.813044\n",
              " 27926        83.789002   84.038886\n",
              " 77767       138.336346  137.945408\n",
              " \n",
              " [25000 rows x 2 columns],\n",
              " 'region_2':        predicted_value  real_value\n",
              " 16417       112.788962  127.246951\n",
              " 4203         62.190502   92.826686\n",
              " 64946        76.690018  133.661972\n",
              " 69820        76.634813   91.844794\n",
              " 31470        85.661066   19.729688\n",
              " ...                ...         ...\n",
              " 78424        53.181182   59.292129\n",
              " 45467        93.427984   55.415508\n",
              " 90590        88.914493   84.002027\n",
              " 80557        89.980462   91.174742\n",
              " 13439       120.053423  105.916749\n",
              " \n",
              " [25000 rows x 2 columns]}"
            ]
          },
          "metadata": {},
          "execution_count": 48
        }
      ],
      "source": [
        "predict_region"
      ]
    },
    {
      "cell_type": "code",
      "execution_count": 49,
      "metadata": {
        "id": "D1e-oU_wugpb"
      },
      "outputs": [],
      "source": [
        "def calculate_profit(df):\n",
        "    best_wells = df.sort_values(by=\"predicted_value\", ascending=False)['real_value'].head(200)\n",
        "    total_volume = best_wells.sum()\n",
        "    potential_profit = (total_volume * revenue_per_product_unit) - development_cost\n",
        "    return potential_profit"
      ]
    },
    {
      "cell_type": "code",
      "execution_count": 50,
      "metadata": {
        "colab": {
          "base_uri": "https://localhost:8080/"
        },
        "id": "H5dnF7qAugpb",
        "outputId": "86d81b2c-edec-44b6-cd31-00585026f482"
      },
      "outputs": [
        {
          "output_type": "stream",
          "name": "stdout",
          "text": [
            "Lucros total: 24150866.966815114\n",
            "\n",
            "\n",
            "Bootstrap\n",
            " 0      6.959319e+05\n",
            "1      1.174871e+06\n",
            "2      5.668809e+06\n",
            "3      1.944283e+06\n",
            "4      4.827245e+06\n",
            "           ...     \n",
            "995    3.036512e+06\n",
            "996    3.278469e+06\n",
            "997    3.828315e+06\n",
            "998    4.784327e+06\n",
            "999    3.114883e+06\n",
            "Length: 1000, dtype: float64\n",
            "\n",
            "\n",
            "Resultados região 1\n",
            " 0      6.318175e+06\n",
            "1      5.405081e+06\n",
            "2      3.692720e+06\n",
            "3      3.286555e+06\n",
            "4      7.323946e+06\n",
            "           ...     \n",
            "995    4.134961e+06\n",
            "996    8.115750e+06\n",
            "997    7.373706e+06\n",
            "998    8.151204e+06\n",
            "999    1.180954e+05\n",
            "Length: 1000, dtype: float64\n",
            "\n",
            "\n",
            "Risco de perda = 0.009\n"
          ]
        }
      ],
      "source": [
        "# Data1\n",
        "\n",
        "print(\"Lucros total:\", calculate_profit(predict_region['region_1']))\n",
        "print(\"\\n\")\n",
        "print('Bootstrap\\n',calculate_bootstrap(predict_region['region_1']))\n",
        "region_1_results = calculate_bootstrap(\n",
        "    predict_region['region_1']\n",
        ")\n",
        "loss_risk = ((region_1_results < 0).mean())\n",
        "print(\"\\n\")\n",
        "print(f'Resultados região 1\\n {region_1_results}')\n",
        "print(\"\\n\")\n",
        "print(f'Risco de perda = {loss_risk}')\n"
      ]
    },
    {
      "cell_type": "code",
      "execution_count": 51,
      "metadata": {
        "colab": {
          "base_uri": "https://localhost:8080/"
        },
        "id": "DmCWamzXugpb",
        "outputId": "003f9296-e7f6-4d59-f350-f73f0dcc0e70"
      },
      "outputs": [
        {
          "output_type": "stream",
          "name": "stdout",
          "text": [
            "Lucros total: 26839077.81805873\n",
            "\n",
            "\n",
            "Bootstrap\n",
            " 0     -9.484701e+05\n",
            "1      1.702364e+06\n",
            "2      7.824739e+06\n",
            "3      8.209325e+06\n",
            "4      5.542148e+06\n",
            "           ...     \n",
            "995    8.193426e+06\n",
            "996    4.239942e+06\n",
            "997    2.236030e+06\n",
            "998    2.601372e+06\n",
            "999    1.509811e+06\n",
            "Length: 1000, dtype: float64\n",
            "\n",
            "\n",
            "Resultados região 2\n",
            " 0      4.775589e+06\n",
            "1      3.617698e+06\n",
            "2      6.433152e+06\n",
            "3      1.816262e+06\n",
            "4      2.113131e+06\n",
            "           ...     \n",
            "995    8.738888e+06\n",
            "996    5.603212e+06\n",
            "997    5.027128e+06\n",
            "998    3.556782e+06\n",
            "999    2.932912e+06\n",
            "Length: 1000, dtype: float64\n",
            "\n",
            "\n",
            "Risco de perda = 0.096\n"
          ]
        }
      ],
      "source": [
        "print(\"Lucros total:\", calculate_profit(predict_region['region_2']))\n",
        "print(\"\\n\")\n",
        "print('Bootstrap\\n',calculate_bootstrap(predict_region['region_2']))\n",
        "region_2_results = calculate_bootstrap(\n",
        "    predict_region['region_2']\n",
        ")\n",
        "loss_risk = ((region_2_results < 0).mean())\n",
        "print(\"\\n\")\n",
        "print(f'Resultados região 2\\n {region_2_results}')\n",
        "print(\"\\n\")\n",
        "print(f'Risco de perda = {loss_risk}')"
      ]
    },
    {
      "cell_type": "markdown",
      "metadata": {
        "id": "tdSmi3_Qssfo"
      },
      "source": [
        "\n",
        "## 5.3 Conclusões: sugerir uma região para desenvolvimento de poços de petróleo e justificativa. A escolha corresponde à anterior?"
      ]
    },
    {
      "cell_type": "markdown",
      "metadata": {
        "id": "6L1zOwd1Fsjw"
      },
      "source": [
        "Nenhuma das três regiões apresentou risco de prejuízos quando avaliados os melhores 200 poços de cada uma delas e aplicada a técnica de bootstrapping.\n",
        "\n",
        "A melhor região onde deveriam ser aplicados os recursos é a Região 0, uma vez que seu potencial de produção/lucro é o mais elevado."
      ]
    }
  ],
  "metadata": {
    "ExecuteTimeLog": [
      {
        "duration": 5265,
        "start_time": "2024-07-11T14:27:07.419Z"
      },
      {
        "duration": 3216,
        "start_time": "2024-07-11T14:27:12.692Z"
      },
      {
        "duration": 15,
        "start_time": "2024-07-11T14:27:15.911Z"
      },
      {
        "duration": 73,
        "start_time": "2024-07-11T14:27:15.932Z"
      },
      {
        "duration": 98,
        "start_time": "2024-07-11T14:27:16.010Z"
      },
      {
        "duration": 10,
        "start_time": "2024-07-11T14:27:16.113Z"
      },
      {
        "duration": 11,
        "start_time": "2024-07-11T14:27:16.127Z"
      },
      {
        "duration": 75,
        "start_time": "2024-07-11T14:27:16.141Z"
      },
      {
        "duration": 83,
        "start_time": "2024-07-11T14:27:16.219Z"
      },
      {
        "duration": 4,
        "start_time": "2024-07-11T14:27:16.306Z"
      },
      {
        "duration": 89,
        "start_time": "2024-07-11T14:27:16.314Z"
      },
      {
        "duration": 26,
        "start_time": "2024-07-11T14:27:16.406Z"
      },
      {
        "duration": 9,
        "start_time": "2024-07-11T14:27:16.438Z"
      },
      {
        "duration": 5,
        "start_time": "2024-07-11T14:27:16.514Z"
      },
      {
        "duration": 8,
        "start_time": "2024-07-11T14:27:16.522Z"
      },
      {
        "duration": 5,
        "start_time": "2024-07-11T14:27:16.533Z"
      },
      {
        "duration": 20,
        "start_time": "2024-07-11T14:27:16.541Z"
      },
      {
        "duration": 40,
        "start_time": "2024-07-11T14:27:16.564Z"
      },
      {
        "duration": 4,
        "start_time": "2024-07-11T14:27:16.612Z"
      },
      {
        "duration": 75,
        "start_time": "2024-07-11T14:27:16.619Z"
      },
      {
        "duration": 19,
        "start_time": "2024-07-11T14:27:16.707Z"
      },
      {
        "duration": 20,
        "start_time": "2024-07-11T14:27:16.730Z"
      },
      {
        "duration": 444,
        "start_time": "2024-07-11T14:27:16.753Z"
      },
      {
        "duration": 0,
        "start_time": "2024-07-11T14:27:17.200Z"
      },
      {
        "duration": 0,
        "start_time": "2024-07-11T14:27:17.201Z"
      },
      {
        "duration": 0,
        "start_time": "2024-07-11T14:27:17.202Z"
      },
      {
        "duration": 0,
        "start_time": "2024-07-11T14:27:17.204Z"
      },
      {
        "duration": 0,
        "start_time": "2024-07-11T14:27:17.207Z"
      },
      {
        "duration": 0,
        "start_time": "2024-07-11T14:27:17.208Z"
      },
      {
        "duration": 0,
        "start_time": "2024-07-11T14:27:17.209Z"
      },
      {
        "duration": 0,
        "start_time": "2024-07-11T14:27:17.210Z"
      },
      {
        "duration": 0,
        "start_time": "2024-07-11T14:27:17.212Z"
      },
      {
        "duration": 0,
        "start_time": "2024-07-11T14:27:17.213Z"
      },
      {
        "duration": 0,
        "start_time": "2024-07-11T14:27:17.214Z"
      },
      {
        "duration": 0,
        "start_time": "2024-07-11T14:27:17.216Z"
      },
      {
        "duration": 0,
        "start_time": "2024-07-11T14:27:17.217Z"
      },
      {
        "duration": 26,
        "start_time": "2024-07-11T14:27:49.495Z"
      },
      {
        "duration": 63,
        "start_time": "2024-07-11T14:28:21.329Z"
      },
      {
        "duration": 13,
        "start_time": "2024-07-11T14:28:40.489Z"
      },
      {
        "duration": 61,
        "start_time": "2024-07-11T14:28:50.493Z"
      },
      {
        "duration": 5,
        "start_time": "2024-07-11T14:30:36.935Z"
      },
      {
        "duration": 111,
        "start_time": "2024-07-11T14:30:53.866Z"
      },
      {
        "duration": 5,
        "start_time": "2024-07-11T14:31:00.945Z"
      },
      {
        "duration": 79,
        "start_time": "2024-07-11T14:31:03.193Z"
      },
      {
        "duration": 5,
        "start_time": "2024-07-11T14:32:10.717Z"
      },
      {
        "duration": 72,
        "start_time": "2024-07-11T14:32:12.424Z"
      },
      {
        "duration": 24,
        "start_time": "2024-07-11T14:32:57.478Z"
      },
      {
        "duration": 75,
        "start_time": "2024-07-11T14:33:00.998Z"
      },
      {
        "duration": 72,
        "start_time": "2024-07-11T14:33:14.769Z"
      },
      {
        "duration": 6,
        "start_time": "2024-07-11T14:35:07.452Z"
      },
      {
        "duration": 25,
        "start_time": "2024-07-11T14:35:09.906Z"
      },
      {
        "duration": 126,
        "start_time": "2024-07-11T14:35:42.394Z"
      },
      {
        "duration": 5,
        "start_time": "2024-07-11T14:35:45.283Z"
      },
      {
        "duration": 28,
        "start_time": "2024-07-11T14:35:47.180Z"
      },
      {
        "duration": 3,
        "start_time": "2024-07-11T14:37:58.660Z"
      },
      {
        "duration": 26,
        "start_time": "2024-07-11T14:38:00.165Z"
      },
      {
        "duration": 3,
        "start_time": "2024-07-11T14:38:41.861Z"
      },
      {
        "duration": 5,
        "start_time": "2024-07-11T14:38:43.638Z"
      },
      {
        "duration": 843,
        "start_time": "2024-07-11T14:38:45.809Z"
      },
      {
        "duration": 13,
        "start_time": "2024-07-11T14:38:50.509Z"
      },
      {
        "duration": 10,
        "start_time": "2024-07-11T14:39:00.687Z"
      },
      {
        "duration": 15,
        "start_time": "2024-07-11T14:39:58.049Z"
      },
      {
        "duration": 24,
        "start_time": "2024-07-11T14:43:40.355Z"
      },
      {
        "duration": 22,
        "start_time": "2024-07-11T14:45:38.845Z"
      },
      {
        "duration": 34,
        "start_time": "2024-07-11T14:45:47.210Z"
      },
      {
        "duration": 45,
        "start_time": "2024-07-11T14:46:15.258Z"
      },
      {
        "duration": 24,
        "start_time": "2024-07-11T14:46:33.549Z"
      },
      {
        "duration": 27,
        "start_time": "2024-07-11T14:46:48.109Z"
      },
      {
        "duration": 11,
        "start_time": "2024-07-11T14:46:53.968Z"
      },
      {
        "duration": 976,
        "start_time": "2024-07-11T14:47:27.250Z"
      },
      {
        "duration": 829,
        "start_time": "2024-07-11T14:47:59.307Z"
      },
      {
        "duration": 7,
        "start_time": "2024-07-11T14:48:15.703Z"
      },
      {
        "duration": 22,
        "start_time": "2024-07-11T14:48:56.456Z"
      },
      {
        "duration": 16,
        "start_time": "2024-07-11T14:49:05.876Z"
      },
      {
        "duration": 42,
        "start_time": "2024-07-11T14:50:22.156Z"
      },
      {
        "duration": 7,
        "start_time": "2024-07-11T14:51:37.043Z"
      },
      {
        "duration": 5,
        "start_time": "2024-07-11T14:51:45.527Z"
      },
      {
        "duration": 4,
        "start_time": "2024-07-11T14:52:12.835Z"
      },
      {
        "duration": 24,
        "start_time": "2024-07-11T14:52:20.181Z"
      },
      {
        "duration": 50,
        "start_time": "2024-07-11T14:52:36.387Z"
      },
      {
        "duration": 4,
        "start_time": "2024-07-11T14:52:50.233Z"
      },
      {
        "duration": 34,
        "start_time": "2024-07-11T14:52:51.831Z"
      },
      {
        "duration": 15,
        "start_time": "2024-07-11T14:59:16.205Z"
      },
      {
        "duration": 11,
        "start_time": "2024-07-11T14:59:21.008Z"
      },
      {
        "duration": 24,
        "start_time": "2024-07-11T14:59:46.843Z"
      },
      {
        "duration": 36,
        "start_time": "2024-07-11T14:59:58.354Z"
      },
      {
        "duration": 31,
        "start_time": "2024-07-11T15:01:38.172Z"
      },
      {
        "duration": 27,
        "start_time": "2024-07-11T15:07:55.658Z"
      },
      {
        "duration": 17,
        "start_time": "2024-07-11T15:09:06.888Z"
      },
      {
        "duration": 27,
        "start_time": "2024-07-11T15:10:10.556Z"
      },
      {
        "duration": 26,
        "start_time": "2024-07-11T15:10:24.942Z"
      },
      {
        "duration": 26,
        "start_time": "2024-07-11T15:11:19.248Z"
      },
      {
        "duration": 4,
        "start_time": "2024-07-11T15:13:23.530Z"
      },
      {
        "duration": 11,
        "start_time": "2024-07-11T15:14:05.221Z"
      },
      {
        "duration": 831,
        "start_time": "2024-07-11T15:14:34.905Z"
      },
      {
        "duration": 1684,
        "start_time": "2024-07-11T15:14:55.832Z"
      },
      {
        "duration": 1679,
        "start_time": "2024-07-11T15:14:58.703Z"
      },
      {
        "duration": 1675,
        "start_time": "2024-07-11T15:17:05.846Z"
      },
      {
        "duration": 1653,
        "start_time": "2024-07-11T15:18:44.143Z"
      },
      {
        "duration": 1641,
        "start_time": "2024-07-11T15:18:56.969Z"
      },
      {
        "duration": 1645,
        "start_time": "2024-07-11T15:19:19.866Z"
      },
      {
        "duration": 1640,
        "start_time": "2024-07-11T15:19:51.176Z"
      },
      {
        "duration": 1678,
        "start_time": "2024-07-11T15:20:09.036Z"
      },
      {
        "duration": 7,
        "start_time": "2024-07-11T15:20:37.306Z"
      },
      {
        "duration": 1646,
        "start_time": "2024-07-11T15:20:40.798Z"
      },
      {
        "duration": 6,
        "start_time": "2024-07-11T15:20:58.512Z"
      },
      {
        "duration": 1651,
        "start_time": "2024-07-11T15:21:03.523Z"
      },
      {
        "duration": 1682,
        "start_time": "2024-07-11T15:21:54.757Z"
      },
      {
        "duration": 1837,
        "start_time": "2024-07-11T15:22:12.121Z"
      },
      {
        "duration": 1695,
        "start_time": "2024-07-11T15:23:01.363Z"
      },
      {
        "duration": 1679,
        "start_time": "2024-07-11T15:23:17.988Z"
      },
      {
        "duration": 7,
        "start_time": "2024-07-11T15:23:29.190Z"
      },
      {
        "duration": 1686,
        "start_time": "2024-07-11T15:23:39.077Z"
      },
      {
        "duration": 1967,
        "start_time": "2024-07-11T15:23:46.784Z"
      },
      {
        "duration": 1678,
        "start_time": "2024-07-11T15:24:05.227Z"
      },
      {
        "duration": 1664,
        "start_time": "2024-07-11T15:25:03.018Z"
      }
    ],
    "colab": {
      "provenance": []
    },
    "kernelspec": {
      "display_name": "Python [conda env:modern_ts]",
      "language": "python",
      "name": "conda-env-modern_ts-py"
    },
    "language_info": {
      "codemirror_mode": {
        "name": "ipython",
        "version": 3
      },
      "file_extension": ".py",
      "mimetype": "text/x-python",
      "name": "python",
      "nbconvert_exporter": "python",
      "pygments_lexer": "ipython3",
      "version": "3.9.0"
    },
    "toc": {
      "base_numbering": 1,
      "nav_menu": {},
      "number_sections": true,
      "sideBar": true,
      "skip_h1_title": true,
      "title_cell": "Table of Contents",
      "title_sidebar": "Contents",
      "toc_cell": false,
      "toc_position": {},
      "toc_section_display": true,
      "toc_window_display": false
    }
  },
  "nbformat": 4,
  "nbformat_minor": 0
}