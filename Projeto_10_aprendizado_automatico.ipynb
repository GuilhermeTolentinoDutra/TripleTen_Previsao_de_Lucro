{
 "cells": [
  {
   "cell_type": "markdown",
   "metadata": {
    "id": "_WVl6AW1WB8Q"
   },
   "source": [
    "# Importação das Bibliotecas Necessárias"
   ]
  },
  {
   "cell_type": "code",
   "execution_count": 2,
   "metadata": {
    "id": "PynhQCSEVnNa"
   },
   "outputs": [],
   "source": [
    "import pandas as pd\n",
    "import numpy as np\n",
    "import matplotlib.pyplot as plt\n",
    "import seaborn as sns\n",
    "\n",
    "from sklearn.model_selection import train_test_split\n",
    "from sklearn.linear_model import LinearRegression\n",
    "from sklearn.metrics import mean_squared_error\n",
    "\n",
    "from scipy import stats as st"
   ]
  },
  {
   "cell_type": "markdown",
   "metadata": {
    "id": "Dlr0j7JVVqBv"
   },
   "source": [
    "# 1. Ler os arquivos\n"
   ]
  },
  {
   "cell_type": "code",
   "execution_count": 4,
   "metadata": {
    "id": "z-GuRclnbB8A"
   },
   "outputs": [],
   "source": [
    "data0 = pd.read_csv('./datasets/geo_data_0.csv')\n",
    "data1 = pd.read_csv('../datasets/geo_data_1.csv')\n",
    "data2 = pd.read_csv('./datasets/geo_data_2.csv')"
   ]
  },
  {
   "cell_type": "code",
   "execution_count": 5,
   "metadata": {},
   "outputs": [
    {
     "name": "stdout",
     "output_type": "stream",
     "text": [
      "Info:\n",
      "<class 'pandas.core.frame.DataFrame'>\n",
      "RangeIndex: 100000 entries, 0 to 99999\n",
      "Data columns (total 5 columns):\n",
      " #   Column   Non-Null Count   Dtype  \n",
      "---  ------   --------------   -----  \n",
      " 0   id       100000 non-null  object \n",
      " 1   f0       100000 non-null  float64\n",
      " 2   f1       100000 non-null  float64\n",
      " 3   f2       100000 non-null  float64\n",
      " 4   product  100000 non-null  float64\n",
      "dtypes: float64(4), object(1)\n",
      "memory usage: 3.8+ MB\n",
      "\n",
      "\n",
      "Shape:\n",
      "(100000, 5)\n",
      "\n",
      "\n",
      "Valores nulos:\n",
      "id         0\n",
      "f0         0\n",
      "f1         0\n",
      "f2         0\n",
      "product    0\n",
      "dtype: int64\n",
      "\n",
      "\n",
      "Linhas duplicadas:\n",
      "0\n",
      "\n",
      "\n"
     ]
    }
   ],
   "source": [
    "def analise_inicial(df):\n",
    "    print(\"Info:\")\n",
    "    df.info()\n",
    "    print(\"\\n\")\n",
    "\n",
    "    print(\"Shape:\")\n",
    "    print(df.shape)\n",
    "    print(\"\\n\")\n",
    "\n",
    "    print(\"Valores nulos:\")\n",
    "    print(df.isna().sum())\n",
    "    print(\"\\n\")\n",
    "\n",
    "    print(\"Linhas duplicadas:\")\n",
    "    print(df.duplicated().sum())\n",
    "    print(\"\\n\")\n",
    "\n",
    "# Data0\n",
    "analise_inicial(data0)"
   ]
  },
  {
   "cell_type": "code",
   "execution_count": 6,
   "metadata": {},
   "outputs": [
    {
     "name": "stdout",
     "output_type": "stream",
     "text": [
      "Info:\n",
      "<class 'pandas.core.frame.DataFrame'>\n",
      "RangeIndex: 100000 entries, 0 to 99999\n",
      "Data columns (total 5 columns):\n",
      " #   Column   Non-Null Count   Dtype  \n",
      "---  ------   --------------   -----  \n",
      " 0   id       100000 non-null  object \n",
      " 1   f0       100000 non-null  float64\n",
      " 2   f1       100000 non-null  float64\n",
      " 3   f2       100000 non-null  float64\n",
      " 4   product  100000 non-null  float64\n",
      "dtypes: float64(4), object(1)\n",
      "memory usage: 3.8+ MB\n",
      "\n",
      "\n",
      "Shape:\n",
      "(100000, 5)\n",
      "\n",
      "\n",
      "Valores nulos:\n",
      "id         0\n",
      "f0         0\n",
      "f1         0\n",
      "f2         0\n",
      "product    0\n",
      "dtype: int64\n",
      "\n",
      "\n",
      "Linhas duplicadas:\n",
      "0\n",
      "\n",
      "\n"
     ]
    }
   ],
   "source": [
    "# Data1\n",
    "analise_inicial(data1)"
   ]
  },
  {
   "cell_type": "code",
   "execution_count": 7,
   "metadata": {},
   "outputs": [
    {
     "name": "stdout",
     "output_type": "stream",
     "text": [
      "Info:\n",
      "<class 'pandas.core.frame.DataFrame'>\n",
      "RangeIndex: 100000 entries, 0 to 99999\n",
      "Data columns (total 5 columns):\n",
      " #   Column   Non-Null Count   Dtype  \n",
      "---  ------   --------------   -----  \n",
      " 0   id       100000 non-null  object \n",
      " 1   f0       100000 non-null  float64\n",
      " 2   f1       100000 non-null  float64\n",
      " 3   f2       100000 non-null  float64\n",
      " 4   product  100000 non-null  float64\n",
      "dtypes: float64(4), object(1)\n",
      "memory usage: 3.8+ MB\n",
      "\n",
      "\n",
      "Shape:\n",
      "(100000, 5)\n",
      "\n",
      "\n",
      "Valores nulos:\n",
      "id         0\n",
      "f0         0\n",
      "f1         0\n",
      "f2         0\n",
      "product    0\n",
      "dtype: int64\n",
      "\n",
      "\n",
      "Linhas duplicadas:\n",
      "0\n",
      "\n",
      "\n"
     ]
    }
   ],
   "source": [
    "# Data2\n",
    "analise_inicial(data2)"
   ]
  },
  {
   "cell_type": "markdown",
   "metadata": {},
   "source": [
    "Em nenhum dos dataframes há linhas duplicadas ou valores nulos. Todos eles são íntegros."
   ]
  },
  {
   "cell_type": "markdown",
   "metadata": {
    "id": "aIBofL2tVut4"
   },
   "source": [
    "# 2. Construir modelo para predizer o volume de reservas nos poços"
   ]
  },
  {
   "cell_type": "markdown",
   "metadata": {
    "id": "j8FgiEDIfKnD"
   },
   "source": [
    "## 2.1 Conjunto de dados data0"
   ]
  },
  {
   "cell_type": "code",
   "execution_count": 11,
   "metadata": {
    "id": "l6rdsEDTb-hY"
   },
   "outputs": [],
   "source": [
    "X = data0.drop(columns=['id', 'product'])\n",
    "y = data0['product']"
   ]
  },
  {
   "cell_type": "code",
   "execution_count": 12,
   "metadata": {
    "id": "blnzCKbNX3x7"
   },
   "outputs": [],
   "source": [
    "model = LinearRegression()\n",
    "\n",
    "X_train, X_test, y_train, y_test = train_test_split(X, y, test_size=0.25, random_state=42)\n",
    "\n",
    "model.fit(X_train, y_train)\n",
    "\n",
    "y_pred = model.predict(X_test)\n",
    "mse = mean_squared_error(y_test, y_pred)\n",
    "rmse = np.sqrt(mse)\n",
    "y_pred_mean = y_pred.mean()"
   ]
  },
  {
   "cell_type": "code",
   "execution_count": 13,
   "metadata": {
    "colab": {
     "base_uri": "https://localhost:8080/",
     "height": 423
    },
    "id": "7uv9pe7_X3uf",
    "outputId": "10647b70-e675-462c-b95d-6bdb005f2947"
   },
   "outputs": [
    {
     "data": {
      "text/html": [
       "<div>\n",
       "<style scoped>\n",
       "    .dataframe tbody tr th:only-of-type {\n",
       "        vertical-align: middle;\n",
       "    }\n",
       "\n",
       "    .dataframe tbody tr th {\n",
       "        vertical-align: top;\n",
       "    }\n",
       "\n",
       "    .dataframe thead th {\n",
       "        text-align: right;\n",
       "    }\n",
       "</style>\n",
       "<table border=\"1\" class=\"dataframe\">\n",
       "  <thead>\n",
       "    <tr style=\"text-align: right;\">\n",
       "      <th></th>\n",
       "      <th>product_x</th>\n",
       "      <th>predicted</th>\n",
       "      <th>id</th>\n",
       "    </tr>\n",
       "  </thead>\n",
       "  <tbody>\n",
       "    <tr>\n",
       "      <th>0</th>\n",
       "      <td>122.073350</td>\n",
       "      <td>101.901017</td>\n",
       "      <td>7C6bA</td>\n",
       "    </tr>\n",
       "    <tr>\n",
       "      <th>1</th>\n",
       "      <td>48.738540</td>\n",
       "      <td>78.217774</td>\n",
       "      <td>dVxsn</td>\n",
       "    </tr>\n",
       "    <tr>\n",
       "      <th>2</th>\n",
       "      <td>131.338088</td>\n",
       "      <td>115.266901</td>\n",
       "      <td>1Gm3l</td>\n",
       "    </tr>\n",
       "    <tr>\n",
       "      <th>3</th>\n",
       "      <td>88.327757</td>\n",
       "      <td>105.618618</td>\n",
       "      <td>Nzg1t</td>\n",
       "    </tr>\n",
       "    <tr>\n",
       "      <th>4</th>\n",
       "      <td>36.959266</td>\n",
       "      <td>97.980185</td>\n",
       "      <td>Z7b4F</td>\n",
       "    </tr>\n",
       "    <tr>\n",
       "      <th>...</th>\n",
       "      <td>...</td>\n",
       "      <td>...</td>\n",
       "      <td>...</td>\n",
       "    </tr>\n",
       "    <tr>\n",
       "      <th>24995</th>\n",
       "      <td>148.821520</td>\n",
       "      <td>105.076959</td>\n",
       "      <td>pXFCs</td>\n",
       "    </tr>\n",
       "    <tr>\n",
       "      <th>24996</th>\n",
       "      <td>123.454003</td>\n",
       "      <td>74.768176</td>\n",
       "      <td>tf6nq</td>\n",
       "    </tr>\n",
       "    <tr>\n",
       "      <th>24997</th>\n",
       "      <td>91.945213</td>\n",
       "      <td>82.544397</td>\n",
       "      <td>pv8T0</td>\n",
       "    </tr>\n",
       "    <tr>\n",
       "      <th>24998</th>\n",
       "      <td>149.295563</td>\n",
       "      <td>81.826689</td>\n",
       "      <td>nol4A</td>\n",
       "    </tr>\n",
       "    <tr>\n",
       "      <th>24999</th>\n",
       "      <td>57.244039</td>\n",
       "      <td>93.121062</td>\n",
       "      <td>MUye1</td>\n",
       "    </tr>\n",
       "  </tbody>\n",
       "</table>\n",
       "<p>25000 rows × 3 columns</p>\n",
       "</div>"
      ],
      "text/plain": [
       "        product_x   predicted     id\n",
       "0      122.073350  101.901017  7C6bA\n",
       "1       48.738540   78.217774  dVxsn\n",
       "2      131.338088  115.266901  1Gm3l\n",
       "3       88.327757  105.618618  Nzg1t\n",
       "4       36.959266   97.980185  Z7b4F\n",
       "...           ...         ...    ...\n",
       "24995  148.821520  105.076959  pXFCs\n",
       "24996  123.454003   74.768176  tf6nq\n",
       "24997   91.945213   82.544397  pv8T0\n",
       "24998  149.295563   81.826689  nol4A\n",
       "24999   57.244039   93.121062  MUye1\n",
       "\n",
       "[25000 rows x 3 columns]"
      ]
     },
     "execution_count": 13,
     "metadata": {},
     "output_type": "execute_result"
    }
   ],
   "source": [
    "data0_inter = pd.DataFrame({'product': y_test, 'predicted': y_pred})\n",
    "data0_final = data0_inter.merge(data0, left_index=True, right_index=True).drop(columns=['f0','f1','f2','product_y']).reset_index(drop=True)\n",
    "data0_final"
   ]
  },
  {
   "cell_type": "code",
   "execution_count": 14,
   "metadata": {
    "colab": {
     "base_uri": "https://localhost:8080/"
    },
    "id": "IAPs9BX2hABM",
    "outputId": "6abe4cd7-bb5b-4425-a957-16c622c81897"
   },
   "outputs": [
    {
     "name": "stdout",
     "output_type": "stream",
     "text": [
      "A predição de volume médio é de 92.3987999065777. \n",
      "O REQM é de 37.75660035026169.\n"
     ]
    }
   ],
   "source": [
    "print(f'A predição de volume médio é de {y_pred_mean}. \\nO REQM é de {rmse}.')"
   ]
  },
  {
   "cell_type": "markdown",
   "metadata": {
    "id": "ds_Y8lnGfQph"
   },
   "source": [
    "## Criação da função"
   ]
  },
  {
   "cell_type": "code",
   "execution_count": 16,
   "metadata": {
    "id": "j7oG5uXhX3sJ"
   },
   "outputs": [],
   "source": [
    "def oil_prediction(data):\n",
    "    X = data.drop(columns=['id','product'])\n",
    "    y = data['product']\n",
    "\n",
    "    X_train, X_test, y_train, y_test = train_test_split(X, y, test_size=0.25, random_state=42)\n",
    "\n",
    "    model = LinearRegression()\n",
    "    model.fit(X_train, y_train)\n",
    "\n",
    "    y_pred = model.predict(X_test)\n",
    "\n",
    "    mse = mean_squared_error(y_test, y_pred)\n",
    "    rmse = np.sqrt(mse)\n",
    "\n",
    "    df_data = pd.DataFrame({'product': y_test, 'predicted': y_pred})\n",
    "\n",
    "    data_final = df_data.merge(data, left_index=True, right_index=True).drop(columns=['f0','f1','f2','product_y']).reset_index(drop=True)\n",
    "\n",
    "    vol_med = df_data['predicted'].mean()\n",
    "\n",
    "    return y_pred, rmse, data_final, vol_med"
   ]
  },
  {
   "cell_type": "code",
   "execution_count": 17,
   "metadata": {
    "id": "RN-K8YyOgBLU"
   },
   "outputs": [],
   "source": [
    "results_1 = oil_prediction(data1)"
   ]
  },
  {
   "cell_type": "code",
   "execution_count": 18,
   "metadata": {
    "colab": {
     "base_uri": "https://localhost:8080/",
     "height": 423
    },
    "id": "SsJwK5lLgOij",
    "outputId": "c1709bda-a965-4c90-d6a4-34d7b024ae1a"
   },
   "outputs": [
    {
     "data": {
      "text/html": [
       "<div>\n",
       "<style scoped>\n",
       "    .dataframe tbody tr th:only-of-type {\n",
       "        vertical-align: middle;\n",
       "    }\n",
       "\n",
       "    .dataframe tbody tr th {\n",
       "        vertical-align: top;\n",
       "    }\n",
       "\n",
       "    .dataframe thead th {\n",
       "        text-align: right;\n",
       "    }\n",
       "</style>\n",
       "<table border=\"1\" class=\"dataframe\">\n",
       "  <thead>\n",
       "    <tr style=\"text-align: right;\">\n",
       "      <th></th>\n",
       "      <th>product_x</th>\n",
       "      <th>predicted</th>\n",
       "      <th>id</th>\n",
       "    </tr>\n",
       "  </thead>\n",
       "  <tbody>\n",
       "    <tr>\n",
       "      <th>0</th>\n",
       "      <td>0.000000</td>\n",
       "      <td>0.844738</td>\n",
       "      <td>fYVDK</td>\n",
       "    </tr>\n",
       "    <tr>\n",
       "      <th>1</th>\n",
       "      <td>53.906522</td>\n",
       "      <td>52.921612</td>\n",
       "      <td>3SQcq</td>\n",
       "    </tr>\n",
       "    <tr>\n",
       "      <th>2</th>\n",
       "      <td>134.766305</td>\n",
       "      <td>135.110385</td>\n",
       "      <td>hQ1gJ</td>\n",
       "    </tr>\n",
       "    <tr>\n",
       "      <th>3</th>\n",
       "      <td>107.813044</td>\n",
       "      <td>109.494863</td>\n",
       "      <td>Y4vux</td>\n",
       "    </tr>\n",
       "    <tr>\n",
       "      <th>4</th>\n",
       "      <td>0.000000</td>\n",
       "      <td>-0.047292</td>\n",
       "      <td>H1NUw</td>\n",
       "    </tr>\n",
       "    <tr>\n",
       "      <th>...</th>\n",
       "      <td>...</td>\n",
       "      <td>...</td>\n",
       "      <td>...</td>\n",
       "    </tr>\n",
       "    <tr>\n",
       "      <th>24995</th>\n",
       "      <td>107.813044</td>\n",
       "      <td>108.351600</td>\n",
       "      <td>Vn3pL</td>\n",
       "    </tr>\n",
       "    <tr>\n",
       "      <th>24996</th>\n",
       "      <td>53.906522</td>\n",
       "      <td>53.604049</td>\n",
       "      <td>zZe7H</td>\n",
       "    </tr>\n",
       "    <tr>\n",
       "      <th>24997</th>\n",
       "      <td>26.953261</td>\n",
       "      <td>26.708734</td>\n",
       "      <td>iefIy</td>\n",
       "    </tr>\n",
       "    <tr>\n",
       "      <th>24998</th>\n",
       "      <td>110.992147</td>\n",
       "      <td>109.823087</td>\n",
       "      <td>CFT5B</td>\n",
       "    </tr>\n",
       "    <tr>\n",
       "      <th>24999</th>\n",
       "      <td>134.766305</td>\n",
       "      <td>135.448780</td>\n",
       "      <td>cQudG</td>\n",
       "    </tr>\n",
       "  </tbody>\n",
       "</table>\n",
       "<p>25000 rows × 3 columns</p>\n",
       "</div>"
      ],
      "text/plain": [
       "        product_x   predicted     id\n",
       "0        0.000000    0.844738  fYVDK\n",
       "1       53.906522   52.921612  3SQcq\n",
       "2      134.766305  135.110385  hQ1gJ\n",
       "3      107.813044  109.494863  Y4vux\n",
       "4        0.000000   -0.047292  H1NUw\n",
       "...           ...         ...    ...\n",
       "24995  107.813044  108.351600  Vn3pL\n",
       "24996   53.906522   53.604049  zZe7H\n",
       "24997   26.953261   26.708734  iefIy\n",
       "24998  110.992147  109.823087  CFT5B\n",
       "24999  134.766305  135.448780  cQudG\n",
       "\n",
       "[25000 rows x 3 columns]"
      ]
     },
     "execution_count": 18,
     "metadata": {},
     "output_type": "execute_result"
    }
   ],
   "source": [
    "data1_final = results_1[2]\n",
    "data1_final"
   ]
  },
  {
   "cell_type": "code",
   "execution_count": 19,
   "metadata": {
    "colab": {
     "base_uri": "https://localhost:8080/"
    },
    "id": "LY4e52_Cgsas",
    "outputId": "d2793cd9-5100-4369-9e1f-92eaefb6a2de"
   },
   "outputs": [
    {
     "name": "stdout",
     "output_type": "stream",
     "text": [
      "O volume médio de reservas é de 68.71287803913762\n",
      "O REQM é de 0.8902801001028758\n"
     ]
    }
   ],
   "source": [
    "print(f'O volume médio de reservas é de {results_1[3]}')\n",
    "print(f'O REQM é de {results_1[1]}')"
   ]
  },
  {
   "cell_type": "markdown",
   "metadata": {
    "id": "LIRixdKLhGRJ"
   },
   "source": [
    "## Conjunto de dados data2"
   ]
  },
  {
   "cell_type": "code",
   "execution_count": 21,
   "metadata": {
    "id": "KoEzX4WMhF2s"
   },
   "outputs": [],
   "source": [
    "results_2 = oil_prediction(data2)"
   ]
  },
  {
   "cell_type": "code",
   "execution_count": 22,
   "metadata": {
    "colab": {
     "base_uri": "https://localhost:8080/",
     "height": 423
    },
    "id": "-r8Wn2qvj81u",
    "outputId": "95d6cdd1-b43c-4bd1-a466-253acbf10968"
   },
   "outputs": [
    {
     "data": {
      "text/html": [
       "<div>\n",
       "<style scoped>\n",
       "    .dataframe tbody tr th:only-of-type {\n",
       "        vertical-align: middle;\n",
       "    }\n",
       "\n",
       "    .dataframe tbody tr th {\n",
       "        vertical-align: top;\n",
       "    }\n",
       "\n",
       "    .dataframe thead th {\n",
       "        text-align: right;\n",
       "    }\n",
       "</style>\n",
       "<table border=\"1\" class=\"dataframe\">\n",
       "  <thead>\n",
       "    <tr style=\"text-align: right;\">\n",
       "      <th></th>\n",
       "      <th>product_x</th>\n",
       "      <th>predicted</th>\n",
       "      <th>id</th>\n",
       "    </tr>\n",
       "  </thead>\n",
       "  <tbody>\n",
       "    <tr>\n",
       "      <th>0</th>\n",
       "      <td>117.441301</td>\n",
       "      <td>98.301916</td>\n",
       "      <td>sPjbT</td>\n",
       "    </tr>\n",
       "    <tr>\n",
       "      <th>1</th>\n",
       "      <td>47.841249</td>\n",
       "      <td>101.592461</td>\n",
       "      <td>1u4uo</td>\n",
       "    </tr>\n",
       "    <tr>\n",
       "      <th>2</th>\n",
       "      <td>45.883483</td>\n",
       "      <td>52.449099</td>\n",
       "      <td>kZ6HO</td>\n",
       "    </tr>\n",
       "    <tr>\n",
       "      <th>3</th>\n",
       "      <td>139.014608</td>\n",
       "      <td>109.922127</td>\n",
       "      <td>gCZGK</td>\n",
       "    </tr>\n",
       "    <tr>\n",
       "      <th>4</th>\n",
       "      <td>84.004276</td>\n",
       "      <td>72.411847</td>\n",
       "      <td>rqJHx</td>\n",
       "    </tr>\n",
       "    <tr>\n",
       "      <th>...</th>\n",
       "      <td>...</td>\n",
       "      <td>...</td>\n",
       "      <td>...</td>\n",
       "    </tr>\n",
       "    <tr>\n",
       "      <th>24995</th>\n",
       "      <td>40.797226</td>\n",
       "      <td>102.764169</td>\n",
       "      <td>hMnQH</td>\n",
       "    </tr>\n",
       "    <tr>\n",
       "      <th>24996</th>\n",
       "      <td>87.144239</td>\n",
       "      <td>93.431823</td>\n",
       "      <td>KGq37</td>\n",
       "    </tr>\n",
       "    <tr>\n",
       "      <th>24997</th>\n",
       "      <td>52.039812</td>\n",
       "      <td>64.098390</td>\n",
       "      <td>CKCjb</td>\n",
       "    </tr>\n",
       "    <tr>\n",
       "      <th>24998</th>\n",
       "      <td>136.961454</td>\n",
       "      <td>83.764135</td>\n",
       "      <td>ANcQx</td>\n",
       "    </tr>\n",
       "    <tr>\n",
       "      <th>24999</th>\n",
       "      <td>109.173206</td>\n",
       "      <td>86.558644</td>\n",
       "      <td>AarNF</td>\n",
       "    </tr>\n",
       "  </tbody>\n",
       "</table>\n",
       "<p>25000 rows × 3 columns</p>\n",
       "</div>"
      ],
      "text/plain": [
       "        product_x   predicted     id\n",
       "0      117.441301   98.301916  sPjbT\n",
       "1       47.841249  101.592461  1u4uo\n",
       "2       45.883483   52.449099  kZ6HO\n",
       "3      139.014608  109.922127  gCZGK\n",
       "4       84.004276   72.411847  rqJHx\n",
       "...           ...         ...    ...\n",
       "24995   40.797226  102.764169  hMnQH\n",
       "24996   87.144239   93.431823  KGq37\n",
       "24997   52.039812   64.098390  CKCjb\n",
       "24998  136.961454   83.764135  ANcQx\n",
       "24999  109.173206   86.558644  AarNF\n",
       "\n",
       "[25000 rows x 3 columns]"
      ]
     },
     "execution_count": 22,
     "metadata": {},
     "output_type": "execute_result"
    }
   ],
   "source": [
    "data2_final = results_2[2]\n",
    "data2_final"
   ]
  },
  {
   "cell_type": "code",
   "execution_count": 23,
   "metadata": {
    "colab": {
     "base_uri": "https://localhost:8080/"
    },
    "id": "qMdR5Z49jGwu",
    "outputId": "f582100c-d01c-4f32-9d5f-ec30bd4be067"
   },
   "outputs": [
    {
     "name": "stdout",
     "output_type": "stream",
     "text": [
      "O volume médio de reservas é de 94.77102387765936\n",
      "O REQM é de 40.14587231134218\n"
     ]
    }
   ],
   "source": [
    "print(f'O volume médio de reservas é de {results_2[3]}')\n",
    "print(f'O REQM é de {results_2[1]}')"
   ]
  },
  {
   "cell_type": "markdown",
   "metadata": {
    "id": "vZMZ2g_CV0Bm"
   },
   "source": [
    "# 3. Escolher os poços que têm os maiores valores estimados\n"
   ]
  },
  {
   "cell_type": "markdown",
   "metadata": {
    "id": "b6ilzoZpkXqk"
   },
   "source": [
    "### 3.1 Armazenar os valores necessários para os cálculos em variáveis separadas"
   ]
  },
  {
   "cell_type": "code",
   "execution_count": 26,
   "metadata": {
    "id": "PnzUUqC7lEl6"
   },
   "outputs": [],
   "source": [
    "investimento = 100000000\n",
    "pocos = 200\n",
    "limite = 500000\n",
    "unidades_limite = 111.1\n",
    "valor_barril = 4.5\n",
    "valor_unidade = 4500\n"
   ]
  },
  {
   "cell_type": "markdown",
   "metadata": {
    "id": "L1QjlmDUlbgK"
   },
   "source": [
    "### 3.2 Comparação do volume médio por região com os limites"
   ]
  },
  {
   "cell_type": "code",
   "execution_count": 28,
   "metadata": {
    "colab": {
     "base_uri": "https://localhost:8080/"
    },
    "id": "WJRfsVwwllKy",
    "outputId": "019524d4-d6d0-40be-d939-f52211f10f62"
   },
   "outputs": [
    {
     "name": "stdout",
     "output_type": "stream",
     "text": [
      "O volume médio de reservas da região 0 é de 92.3987999065777, \n",
      "o volume médio de reservas da região 1 é de 68.71287803913762, \n",
      "o volume médio de reservas da região 2 é de 94.77102387765936\n"
     ]
    }
   ],
   "source": [
    "# Região 0\n",
    "\n",
    "data0_media = data0_final['predicted'].mean()\n",
    "data1_media = results_1[3]\n",
    "data2_media = results_2[3]\n",
    "\n",
    "print(f'O volume médio de reservas da região 0 é de {data0_media}, \\no volume médio de reservas da região 1 é de {data1_media}, \\no volume médio de reservas da região 2 é de {data2_media}')"
   ]
  },
  {
   "cell_type": "markdown",
   "metadata": {
    "id": "SXKhu1gDmeSG"
   },
   "source": [
    "### 3.3 Forneça conclusões"
   ]
  },
  {
   "cell_type": "markdown",
   "metadata": {
    "id": "JnO12dKLmiXS"
   },
   "source": [
    "Nenhuma das três regiões possui uma média de unidades necessária para evitar prejuízos, quando calculado pela média de todas as predições (2.500 poços).\n"
   ]
  },
  {
   "cell_type": "markdown",
   "metadata": {
    "id": "qLzsAxv8V84a"
   },
   "source": [
    "# 4. Escolher a região com o maior lucro total para os poços selecionados\n"
   ]
  },
  {
   "cell_type": "markdown",
   "metadata": {
    "id": "-S29sLvnmqaO"
   },
   "source": [
    "### 4.1 Escolher os 200 poços com os valores mais altos previstos para cada uma das regiões\n"
   ]
  },
  {
   "cell_type": "code",
   "execution_count": 33,
   "metadata": {
    "id": "8zMps81h9-Pt"
   },
   "outputs": [],
   "source": [
    "def top200(data):\n",
    "    top200 = data.sort_values(by='predicted', ascending=False).iloc[:200].reset_index(drop=True)\n",
    "    return top200"
   ]
  },
  {
   "cell_type": "code",
   "execution_count": 34,
   "metadata": {
    "id": "4TdsXv9C-EXD"
   },
   "outputs": [],
   "source": [
    "reg_0_top200 = top200(data0_final)\n",
    "reg_1_top200 = top200(data1_final)\n",
    "reg_2_top200 = top200(data2_final)"
   ]
  },
  {
   "cell_type": "code",
   "execution_count": 35,
   "metadata": {
    "id": "6iCQd1Tg-JNl"
   },
   "outputs": [],
   "source": [
    "top_200_df = pd.DataFrame({'Região 0': reg_0_top200['predicted'], 'Região 1': reg_1_top200['predicted'], 'Região 2': reg_2_top200['predicted']})"
   ]
  },
  {
   "cell_type": "markdown",
   "metadata": {
    "id": "3Hr-9NZwn1EA"
   },
   "source": [
    "### 3.3 Calcule o lucro potencial dos melhores 200 poços por região."
   ]
  },
  {
   "cell_type": "code",
   "execution_count": 37,
   "metadata": {
    "id": "wPFypic0mPHV"
   },
   "outputs": [],
   "source": [
    "def lucro_por_região(data, valor_unidade):\n",
    "    lucro = []\n",
    "    for _, row in data.iterrows():\n",
    "        luc = row['predicted'] * valor_unidade\n",
    "        lucro.append(luc)\n",
    "    return lucro\n"
   ]
  },
  {
   "cell_type": "code",
   "execution_count": 38,
   "metadata": {
    "id": "UiC0VKLYlt5m"
   },
   "outputs": [],
   "source": [
    "regiao_0 = lucro_por_região(reg_0_top200, valor_unidade)\n",
    "regiao_1 = lucro_por_região(reg_1_top200, valor_unidade)\n",
    "regiao_2 = lucro_por_região(reg_2_top200, valor_unidade)"
   ]
  },
  {
   "cell_type": "code",
   "execution_count": 39,
   "metadata": {
    "colab": {
     "base_uri": "https://localhost:8080/"
    },
    "id": "H_VwLM8j8jbl",
    "outputId": "ec59def7-413f-4e6f-901c-89808aecdb43"
   },
   "outputs": [
    {
     "data": {
      "text/plain": [
       "(200, 200, 200)"
      ]
     },
     "execution_count": 39,
     "metadata": {},
     "output_type": "execute_result"
    }
   ],
   "source": [
    "len(regiao_0), len(regiao_1), len(regiao_2)"
   ]
  },
  {
   "cell_type": "code",
   "execution_count": 40,
   "metadata": {
    "colab": {
     "base_uri": "https://localhost:8080/",
     "height": 423
    },
    "id": "IfUCLSoRmjg9",
    "outputId": "e5d83cd1-e281-4a73-dc5e-58d3d83fd8b5"
   },
   "outputs": [
    {
     "data": {
      "text/html": [
       "<div>\n",
       "<style scoped>\n",
       "    .dataframe tbody tr th:only-of-type {\n",
       "        vertical-align: middle;\n",
       "    }\n",
       "\n",
       "    .dataframe tbody tr th {\n",
       "        vertical-align: top;\n",
       "    }\n",
       "\n",
       "    .dataframe thead th {\n",
       "        text-align: right;\n",
       "    }\n",
       "</style>\n",
       "<table border=\"1\" class=\"dataframe\">\n",
       "  <thead>\n",
       "    <tr style=\"text-align: right;\">\n",
       "      <th></th>\n",
       "      <th>Região 0</th>\n",
       "      <th>Região 1</th>\n",
       "      <th>Região 2</th>\n",
       "    </tr>\n",
       "  </thead>\n",
       "  <tbody>\n",
       "    <tr>\n",
       "      <th>0</th>\n",
       "      <td>794412.467126</td>\n",
       "      <td>629924.746213</td>\n",
       "      <td>767381.442244</td>\n",
       "    </tr>\n",
       "    <tr>\n",
       "      <th>1</th>\n",
       "      <td>793235.294386</td>\n",
       "      <td>628653.615486</td>\n",
       "      <td>763529.995038</td>\n",
       "    </tr>\n",
       "    <tr>\n",
       "      <th>2</th>\n",
       "      <td>779622.767428</td>\n",
       "      <td>628274.449800</td>\n",
       "      <td>743853.257174</td>\n",
       "    </tr>\n",
       "    <tr>\n",
       "      <th>3</th>\n",
       "      <td>777612.184231</td>\n",
       "      <td>627816.457339</td>\n",
       "      <td>740762.530366</td>\n",
       "    </tr>\n",
       "    <tr>\n",
       "      <th>4</th>\n",
       "      <td>777352.394998</td>\n",
       "      <td>627624.952638</td>\n",
       "      <td>737837.998979</td>\n",
       "    </tr>\n",
       "    <tr>\n",
       "      <th>...</th>\n",
       "      <td>...</td>\n",
       "      <td>...</td>\n",
       "      <td>...</td>\n",
       "    </tr>\n",
       "    <tr>\n",
       "      <th>195</th>\n",
       "      <td>661286.937690</td>\n",
       "      <td>622927.521654</td>\n",
       "      <td>641742.708851</td>\n",
       "    </tr>\n",
       "    <tr>\n",
       "      <th>196</th>\n",
       "      <td>661269.438402</td>\n",
       "      <td>622923.749578</td>\n",
       "      <td>641532.938553</td>\n",
       "    </tr>\n",
       "    <tr>\n",
       "      <th>197</th>\n",
       "      <td>661263.673315</td>\n",
       "      <td>622919.195337</td>\n",
       "      <td>641162.375973</td>\n",
       "    </tr>\n",
       "    <tr>\n",
       "      <th>198</th>\n",
       "      <td>661259.315693</td>\n",
       "      <td>622909.565248</td>\n",
       "      <td>640679.478318</td>\n",
       "    </tr>\n",
       "    <tr>\n",
       "      <th>199</th>\n",
       "      <td>660937.261720</td>\n",
       "      <td>622907.141131</td>\n",
       "      <td>640361.213983</td>\n",
       "    </tr>\n",
       "  </tbody>\n",
       "</table>\n",
       "<p>200 rows × 3 columns</p>\n",
       "</div>"
      ],
      "text/plain": [
       "          Região 0       Região 1       Região 2\n",
       "0    794412.467126  629924.746213  767381.442244\n",
       "1    793235.294386  628653.615486  763529.995038\n",
       "2    779622.767428  628274.449800  743853.257174\n",
       "3    777612.184231  627816.457339  740762.530366\n",
       "4    777352.394998  627624.952638  737837.998979\n",
       "..             ...            ...            ...\n",
       "195  661286.937690  622927.521654  641742.708851\n",
       "196  661269.438402  622923.749578  641532.938553\n",
       "197  661263.673315  622919.195337  641162.375973\n",
       "198  661259.315693  622909.565248  640679.478318\n",
       "199  660937.261720  622907.141131  640361.213983\n",
       "\n",
       "[200 rows x 3 columns]"
      ]
     },
     "execution_count": 40,
     "metadata": {},
     "output_type": "execute_result"
    }
   ],
   "source": [
    "lucro = pd.DataFrame({'Região 0': regiao_0, 'Região 1': regiao_1, 'Região 2': regiao_2})\n",
    "lucro"
   ]
  },
  {
   "cell_type": "code",
   "execution_count": 61,
   "metadata": {
    "colab": {
     "base_uri": "https://localhost:8080/"
    },
    "id": "JQRAkNYxA1AO",
    "outputId": "fcaa1227-3a49-49fe-e020-a1a711737d41"
   },
   "outputs": [
    {
     "name": "stdout",
     "output_type": "stream",
     "text": [
      "O lucro potencial total da região 0 é de 138966584.79666126\n",
      "O lucro potencial total da região 1 é de 124869381.1499898\n",
      "O lucro potencial total da região 2 é de 133779815.13714898\n",
      "A região com o maior lucro potecial é a Região 0\n"
     ]
    }
   ],
   "source": [
    "total_0 = lucro['Região 0'].sum()\n",
    "total_1 = lucro['Região 1'].sum()\n",
    "total_2 = lucro['Região 2'].sum()\n",
    "print(f'O lucro potencial total da região 0 é de {total_0}')\n",
    "print(f'O lucro potencial total da região 1 é de {total_1}')\n",
    "print(f'O lucro potencial total da região 2 é de {total_2}')\n",
    "print(f'A região com o maior lucro potecial é a Região 0')"
   ]
  },
  {
   "cell_type": "code",
   "execution_count": 63,
   "metadata": {
    "colab": {
     "base_uri": "https://localhost:8080/",
     "height": 564
    },
    "id": "PvvV8L9lAJ-w",
    "outputId": "bf7505e8-c002-4974-8967-2cc3420cf67b"
   },
   "outputs": [
    {
     "data": {
      "image/png": "[encoded data removed]",
      "text/plain": [
       "<Figure size 800x600 with 1 Axes>"
      ]
     },
     "metadata": {},
     "output_type": "display_data"
    }
   ],
   "source": [
    "\n",
    "Região = ['Região 0', 'Região 1', 'Região 2']\n",
    "Lucro = [total_0, total_1, total_2]\n",
    "\n",
    "# Create the bar plot\n",
    "plt.figure(figsize=(8, 6))\n",
    "plt.bar(Região, Lucro)\n",
    "\n",
    "# Add labels and title\n",
    "plt.xlabel('Região')\n",
    "plt.ylabel('Lucro')\n",
    "plt.title('Lucro por Região')\n",
    "plt.grid(axis='y')\n",
    "\n",
    "plt.show()"
   ]
  },
  {
   "cell_type": "markdown",
   "metadata": {
    "id": "V7p3_ch3ssnW"
   },
   "source": [
    "# 5. Cáculo do risco"
   ]
  },
  {
   "cell_type": "markdown",
   "metadata": {
    "id": "sKxZ58jessj3"
   },
   "source": [
    "## 5.1 Bootstrapping com 1000 amostrar para encontrar a distribuição de lucros\n"
   ]
  },
  {
   "cell_type": "code",
   "execution_count": 65,
   "metadata": {
    "id": "IuHXbkjtuBY5"
   },
   "outputs": [],
   "source": [
    "def lucro_por_regiao(data, num_amostras=1000):\n",
    "    lucros = []\n",
    "    for _ in range(num_amostras):\n",
    "        amostra = data.sample(frac=1, replace=True)\n",
    "        lucro = (amostra['predicted'] * 4500).sum()\n",
    "        lucros.append(lucro)\n",
    "\n",
    "\n",
    "    return lucros"
   ]
  },
  {
   "cell_type": "code",
   "execution_count": 66,
   "metadata": {
    "id": "z9Bnjy9duDqa"
   },
   "outputs": [],
   "source": [
    "regiao_0_boot = lucro_por_regiao(data0_final)\n",
    "regiao_1_boot = lucro_por_regiao(data1_final)\n",
    "regiao_2_boot = lucro_por_regiao(data2_final)"
   ]
  },
  {
   "cell_type": "code",
   "execution_count": 67,
   "metadata": {
    "colab": {
     "base_uri": "https://localhost:8080/"
    },
    "id": "1yN-64Q6B0Jj",
    "outputId": "4d83f706-dcf9-4843-e397-8e2f14e0c608"
   },
   "outputs": [
    {
     "data": {
      "text/plain": [
       "(1000, 1000, 1000)"
      ]
     },
     "execution_count": 67,
     "metadata": {},
     "output_type": "execute_result"
    }
   ],
   "source": [
    "len(regiao_0_boot), len(regiao_1_boot), len(regiao_2_boot)"
   ]
  },
  {
   "cell_type": "code",
   "execution_count": 68,
   "metadata": {
    "colab": {
     "base_uri": "https://localhost:8080/",
     "height": 423
    },
    "id": "Dc7C3ornCCwp",
    "outputId": "d24631f4-8c2e-4089-94ab-2f85e3bafb6f"
   },
   "outputs": [
    {
     "data": {
      "text/html": [
       "<div>\n",
       "<style scoped>\n",
       "    .dataframe tbody tr th:only-of-type {\n",
       "        vertical-align: middle;\n",
       "    }\n",
       "\n",
       "    .dataframe tbody tr th {\n",
       "        vertical-align: top;\n",
       "    }\n",
       "\n",
       "    .dataframe thead th {\n",
       "        text-align: right;\n",
       "    }\n",
       "</style>\n",
       "<table border=\"1\" class=\"dataframe\">\n",
       "  <thead>\n",
       "    <tr style=\"text-align: right;\">\n",
       "      <th></th>\n",
       "      <th>Região 0</th>\n",
       "      <th>Região 1</th>\n",
       "      <th>Região 2</th>\n",
       "    </tr>\n",
       "  </thead>\n",
       "  <tbody>\n",
       "    <tr>\n",
       "      <th>0</th>\n",
       "      <td>1.039819e+10</td>\n",
       "      <td>7.716869e+09</td>\n",
       "      <td>1.065612e+10</td>\n",
       "    </tr>\n",
       "    <tr>\n",
       "      <th>1</th>\n",
       "      <td>1.038562e+10</td>\n",
       "      <td>7.700867e+09</td>\n",
       "      <td>1.067336e+10</td>\n",
       "    </tr>\n",
       "    <tr>\n",
       "      <th>2</th>\n",
       "      <td>1.039829e+10</td>\n",
       "      <td>7.827340e+09</td>\n",
       "      <td>1.068581e+10</td>\n",
       "    </tr>\n",
       "    <tr>\n",
       "      <th>3</th>\n",
       "      <td>1.039252e+10</td>\n",
       "      <td>7.654098e+09</td>\n",
       "      <td>1.066848e+10</td>\n",
       "    </tr>\n",
       "    <tr>\n",
       "      <th>4</th>\n",
       "      <td>1.042820e+10</td>\n",
       "      <td>7.748097e+09</td>\n",
       "      <td>1.067021e+10</td>\n",
       "    </tr>\n",
       "    <tr>\n",
       "      <th>...</th>\n",
       "      <td>...</td>\n",
       "      <td>...</td>\n",
       "      <td>...</td>\n",
       "    </tr>\n",
       "    <tr>\n",
       "      <th>995</th>\n",
       "      <td>1.040173e+10</td>\n",
       "      <td>7.709202e+09</td>\n",
       "      <td>1.069242e+10</td>\n",
       "    </tr>\n",
       "    <tr>\n",
       "      <th>996</th>\n",
       "      <td>1.037144e+10</td>\n",
       "      <td>7.725178e+09</td>\n",
       "      <td>1.065579e+10</td>\n",
       "    </tr>\n",
       "    <tr>\n",
       "      <th>997</th>\n",
       "      <td>1.038800e+10</td>\n",
       "      <td>7.689968e+09</td>\n",
       "      <td>1.067687e+10</td>\n",
       "    </tr>\n",
       "    <tr>\n",
       "      <th>998</th>\n",
       "      <td>1.037158e+10</td>\n",
       "      <td>7.734790e+09</td>\n",
       "      <td>1.069384e+10</td>\n",
       "    </tr>\n",
       "    <tr>\n",
       "      <th>999</th>\n",
       "      <td>1.036575e+10</td>\n",
       "      <td>7.764518e+09</td>\n",
       "      <td>1.068061e+10</td>\n",
       "    </tr>\n",
       "  </tbody>\n",
       "</table>\n",
       "<p>1000 rows × 3 columns</p>\n",
       "</div>"
      ],
      "text/plain": [
       "         Região 0      Região 1      Região 2\n",
       "0    1.039819e+10  7.716869e+09  1.065612e+10\n",
       "1    1.038562e+10  7.700867e+09  1.067336e+10\n",
       "2    1.039829e+10  7.827340e+09  1.068581e+10\n",
       "3    1.039252e+10  7.654098e+09  1.066848e+10\n",
       "4    1.042820e+10  7.748097e+09  1.067021e+10\n",
       "..            ...           ...           ...\n",
       "995  1.040173e+10  7.709202e+09  1.069242e+10\n",
       "996  1.037144e+10  7.725178e+09  1.065579e+10\n",
       "997  1.038800e+10  7.689968e+09  1.067687e+10\n",
       "998  1.037158e+10  7.734790e+09  1.069384e+10\n",
       "999  1.036575e+10  7.764518e+09  1.068061e+10\n",
       "\n",
       "[1000 rows x 3 columns]"
      ]
     },
     "execution_count": 68,
     "metadata": {},
     "output_type": "execute_result"
    }
   ],
   "source": [
    "lucro_bootstrapped = pd.DataFrame({'Região 0': regiao_0_boot, 'Região 1': regiao_1_boot, 'Região 2': regiao_2_boot})\n",
    "lucro_bootstrapped"
   ]
  },
  {
   "cell_type": "code",
   "execution_count": 69,
   "metadata": {
    "colab": {
     "base_uri": "https://localhost:8080/"
    },
    "id": "VZVrfBAdEtni",
    "outputId": "ea5eb0d8-8b39-4828-e49c-ed80b3432961"
   },
   "outputs": [
    {
     "name": "stdout",
     "output_type": "stream",
     "text": [
      "O lucro potencial total da região 0 é de 10394937177106.934, \n",
      "o lucro potencial total da região 1 é de 7729849466257.492, \n",
      "o lucro potencial total da região 2 é de 10661558137825.828\n"
     ]
    }
   ],
   "source": [
    "total_0_boot = lucro_bootstrapped['Região 0'].sum()\n",
    "total_1_boot = lucro_bootstrapped['Região 1'].sum()\n",
    "total_2_boot = lucro_bootstrapped['Região 2'].sum()\n",
    "print(f'O lucro potencial total da região 0 é de {total_0_boot}, \\no lucro potencial total da região 1 é de {total_1_boot}, \\no lucro potencial total da região 2 é de {total_2_boot}')\n"
   ]
  },
  {
   "cell_type": "markdown",
   "metadata": {
    "id": "eyBGhDAZsshp"
   },
   "source": [
    "## 5.2 Lucro médio, intervalo de confiança 95% e risco de prejuízo. Prejuízo é um lucro negativo, calcular como probabilidade e depois expressar como porcentagem"
   ]
  },
  {
   "cell_type": "code",
   "execution_count": 71,
   "metadata": {
    "colab": {
     "base_uri": "https://localhost:8080/"
    },
    "id": "cVtnIXqNCj6K",
    "outputId": "91185da3-84e1-45ca-a4e9-d9d3df82bb25"
   },
   "outputs": [
    {
     "name": "stdout",
     "output_type": "stream",
     "text": [
      "                                                           Região 0  \\\n",
      "Lucro médio                                              154.406135   \n",
      "Intervalo de Confiança 95%  [153.5697215431774, 155.23554565035295]   \n",
      "Risco de Prejuízo (%)                                           0.0   \n",
      "\n",
      "                                                           Região 1  \\\n",
      "Lucro médio                                              138.742666   \n",
      "Intervalo de Confiança 95%  [138.7041406401779, 138.78197749364088]   \n",
      "Risco de Prejuízo (%)                                           0.0   \n",
      "\n",
      "                                                           Região 2  \n",
      "Lucro médio                                              148.652022  \n",
      "Intervalo de Confiança 95%  [147.92941986451427, 149.4517763062803]  \n",
      "Risco de Prejuízo (%)                                           0.0  \n"
     ]
    }
   ],
   "source": [
    "def estatisticas_regiao(data, n_bootstrap=1000):\n",
    "    bootstrap_means = []\n",
    "    for _ in range(n_bootstrap):\n",
    "        sample = np.random.choice(data, size=len(data), replace=True)\n",
    "        bootstrap_means.append(sample.mean())\n",
    "\n",
    "    lucro_medio = np.mean(bootstrap_means)\n",
    "    intervalo_de_confianca = np.percentile(bootstrap_means, [2.5, 97.5])\n",
    "    risco_de_prejuizo = (np.array(bootstrap_means) < 0).mean() * 100\n",
    "\n",
    "    return lucro_medio, intervalo_de_confianca, risco_de_prejuizo\n",
    "\n",
    "\n",
    "results = {}\n",
    "for region, profits in top_200_df.items():\n",
    "    lucro_medio, intervalo_de_confianca, risco_de_prejuizo = estatisticas_regiao(profits)\n",
    "    results[region] = {\n",
    "        'Lucro médio': lucro_medio,\n",
    "        'Intervalo de Confiança 95%': intervalo_de_confianca,\n",
    "        'Risco de Prejuízo (%)': risco_de_prejuizo\n",
    "    }\n",
    "\n",
    "\n",
    "results_df = pd.DataFrame(results)\n",
    "print(results_df)\n",
    "\n",
    "\n"
   ]
  },
  {
   "cell_type": "code",
   "execution_count": 86,
   "metadata": {},
   "outputs": [],
   "source": [
    "def train_and_evaluate_model(data):\n",
    "    features = data.drop(columns=[\"id\", \"product\"], axis=1)\n",
    "    target = data[\"product\"]         \n",
    "\n",
    "    features_train,features_valid,target_train,target_valid = train_test_split(\n",
    "        features,\n",
    "        target,\n",
    "        test_size= 0.25\n",
    "    )\n",
    "    \n",
    "    model = LinearRegression()\n",
    "    model.fit(features_train,target_train)\n",
    "    predict_date = model.predict(features_valid) \n",
    "\n",
    "\n",
    "    rmse = root_mean_squared_error(target_valid, predict_date,squared=False)\n",
    "\n",
    "\n",
    "    mean_reserve= predict_date.mean()\n",
    "    \n",
    "    output= pd.DataFrame(dict(predicted_value=predict_date, real_value=target_valid))\n",
    "    return output"
   ]
  },
  {
   "cell_type": "code",
   "execution_count": 88,
   "metadata": {},
   "outputs": [
    {
     "ename": "NameError",
     "evalue": "name 'root_mean_squared_error' is not defined",
     "output_type": "error",
     "traceback": [
      "\u001b[1;31m---------------------------------------------------------------------------\u001b[0m",
      "\u001b[1;31mNameError\u001b[0m                                 Traceback (most recent call last)",
      "Cell \u001b[1;32mIn[88], line 6\u001b[0m\n\u001b[0;32m      3\u001b[0m predict_region \u001b[38;5;241m=\u001b[39m {}\n\u001b[0;32m      5\u001b[0m \u001b[38;5;28;01mfor\u001b[39;00m data, region \u001b[38;5;129;01min\u001b[39;00m \u001b[38;5;28mzip\u001b[39m(datas, regions): \n\u001b[1;32m----> 6\u001b[0m     predict_region[region] \u001b[38;5;241m=\u001b[39m \u001b[43mtrain_and_evaluate_model\u001b[49m\u001b[43m(\u001b[49m\u001b[43mdata\u001b[49m\u001b[43m)\u001b[49m  \n",
      "Cell \u001b[1;32mIn[86], line 16\u001b[0m, in \u001b[0;36mtrain_and_evaluate_model\u001b[1;34m(data)\u001b[0m\n\u001b[0;32m     12\u001b[0m model\u001b[38;5;241m.\u001b[39mfit(features_train,target_train)\n\u001b[0;32m     13\u001b[0m predict_date \u001b[38;5;241m=\u001b[39m model\u001b[38;5;241m.\u001b[39mpredict(features_valid) \n\u001b[1;32m---> 16\u001b[0m rmse \u001b[38;5;241m=\u001b[39m \u001b[43mroot_mean_squared_error\u001b[49m(target_valid, predict_date,squared\u001b[38;5;241m=\u001b[39m\u001b[38;5;28;01mFalse\u001b[39;00m)\n\u001b[0;32m     19\u001b[0m mean_reserve\u001b[38;5;241m=\u001b[39m predict_date\u001b[38;5;241m.\u001b[39mmean()\n\u001b[0;32m     21\u001b[0m output\u001b[38;5;241m=\u001b[39m pd\u001b[38;5;241m.\u001b[39mDataFrame(\u001b[38;5;28mdict\u001b[39m(predicted_value\u001b[38;5;241m=\u001b[39mpredict_date, real_value\u001b[38;5;241m=\u001b[39mtarget_valid))\n",
      "\u001b[1;31mNameError\u001b[0m: name 'root_mean_squared_error' is not defined"
     ]
    }
   ],
   "source": [
    "regions = [\"region_0\", \"region_1\", \"region_2\"]\n",
    "datas = [data0, data1, data2]\n",
    "predict_region = {}\n",
    "        \n",
    "for data, region in zip(datas, regions): \n",
    "    predict_region[region] = train_and_evaluate_model(data)  "
   ]
  },
  {
   "cell_type": "code",
   "execution_count": 90,
   "metadata": {},
   "outputs": [],
   "source": [
    "def calculate_profit(df):\n",
    "    best_wells = df.sort_values(by=\"predicted_value\", ascending=False)['real_value'].head(200) \n",
    "    total_volume = best_wells.sum() \n",
    "    potential_profit = (total_volume * revenue_per_product_unit) - development_cost\n",
    "    return potential_profit"
   ]
  },
  {
   "cell_type": "code",
   "execution_count": 92,
   "metadata": {},
   "outputs": [],
   "source": [
    "revenue_per_product_unit = 4500\n",
    "development_cost = 100000000"
   ]
  },
  {
   "cell_type": "code",
   "execution_count": 94,
   "metadata": {},
   "outputs": [],
   "source": [
    "def calculate_bootstrap(\n",
    "    data, \n",
    "    revenue_per_barrel=revenue_per_product_unit, \n",
    "    development_cost_per_well=development_cost, \n",
    "    total_samples=1000, \n",
    "    sample_size=500\n",
    "):\n",
    "    profits = []\n",
    "    for _ in range(total_samples):\n",
    "        sampled_data = data.sample(n=sample_size, replace=True)\n",
    "        profit = calculate_profit(sampled_data)\n",
    "        profits.append(profit)\n",
    "    return pd.Series(profits)"
   ]
  },
  {
   "cell_type": "code",
   "execution_count": 96,
   "metadata": {},
   "outputs": [
    {
     "ename": "KeyError",
     "evalue": "'region_0'",
     "output_type": "error",
     "traceback": [
      "\u001b[1;31m---------------------------------------------------------------------------\u001b[0m",
      "\u001b[1;31mKeyError\u001b[0m                                  Traceback (most recent call last)",
      "Cell \u001b[1;32mIn[96], line 2\u001b[0m\n\u001b[0;32m      1\u001b[0m region_0_results \u001b[38;5;241m=\u001b[39m calculate_bootstrap(\n\u001b[1;32m----> 2\u001b[0m     \u001b[43mpredict_region\u001b[49m\u001b[43m[\u001b[49m\u001b[38;5;124;43m'\u001b[39;49m\u001b[38;5;124;43mregion_0\u001b[39;49m\u001b[38;5;124;43m'\u001b[39;49m\u001b[43m]\u001b[49m\n\u001b[0;32m      3\u001b[0m )\n",
      "\u001b[1;31mKeyError\u001b[0m: 'region_0'"
     ]
    }
   ],
   "source": [
    "region_0_results = calculate_bootstrap(\n",
    "    predict_region['region_0']\n",
    ")"
   ]
  },
  {
   "cell_type": "code",
   "execution_count": 98,
   "metadata": {},
   "outputs": [
    {
     "ename": "NameError",
     "evalue": "name 'region_0_results' is not defined",
     "output_type": "error",
     "traceback": [
      "\u001b[1;31m---------------------------------------------------------------------------\u001b[0m",
      "\u001b[1;31mNameError\u001b[0m                                 Traceback (most recent call last)",
      "Cell \u001b[1;32mIn[98], line 1\u001b[0m\n\u001b[1;32m----> 1\u001b[0m loss_risk \u001b[38;5;241m=\u001b[39m ((\u001b[43mregion_0_results\u001b[49m \u001b[38;5;241m<\u001b[39m \u001b[38;5;241m0\u001b[39m)\u001b[38;5;241m.\u001b[39mmean()) \n\u001b[0;32m      2\u001b[0m loss_risk\n",
      "\u001b[1;31mNameError\u001b[0m: name 'region_0_results' is not defined"
     ]
    }
   ],
   "source": [
    "loss_risk = ((region_0_results < 0).mean()) \n",
    "loss_risk\n"
   ]
  },
  {
   "cell_type": "code",
   "execution_count": null,
   "metadata": {},
   "outputs": [],
   "source": [
    "predict_region"
   ]
  },
  {
   "cell_type": "code",
   "execution_count": null,
   "metadata": {},
   "outputs": [],
   "source": [
    "def calculate_profit(df):\n",
    "    best_wells = df.sort_values(by=\"predicted_value\", ascending=False)['real_value'].head(200) \n",
    "    total_volume = best_wells.sum() \n",
    "    potential_profit = (total_volume * revenue_per_product_unit) - development_cost\n",
    "    return potential_profit"
   ]
  },
  {
   "cell_type": "code",
   "execution_count": null,
   "metadata": {},
   "outputs": [],
   "source": [
    "# Data1\n",
    "\n",
    "print(\"Lucros total:\", calculate_profit(predict_region['region_1']))\n",
    "print(\"\\n\")\n",
    "print('Bootstrap\\n',calculate_bootstrap(predict_region['region_1']))\n",
    "region_1_results = calculate_bootstrap(\n",
    "    predict_region['region_1']\n",
    ")\n",
    "loss_risk = ((region_1_results < 0).mean())\n",
    "print(\"\\n\")\n",
    "print(f'Resultados região 1\\n {region_1_results}')\n",
    "print(\"\\n\")\n",
    "print(f'Risco de perda = {loss_risk}')\n"
   ]
  },
  {
   "cell_type": "code",
   "execution_count": null,
   "metadata": {},
   "outputs": [],
   "source": [
    "print(\"Lucros total:\", calculate_profit(predict_region['region_2']))\n",
    "print(\"\\n\")\n",
    "print('Bootstrap\\n',calculate_bootstrap(predict_region['region_2']))\n",
    "region_2_results = calculate_bootstrap(\n",
    "    predict_region['region_2']\n",
    ")\n",
    "loss_risk = ((region_2_results < 0).mean())\n",
    "print(\"\\n\")\n",
    "print(f'Resultados região 2\\n {region_2_results}')\n",
    "print(\"\\n\")\n",
    "print(f'Risco de perda = {loss_risk}')"
   ]
  },
  {
   "cell_type": "markdown",
   "metadata": {
    "id": "tdSmi3_Qssfo"
   },
   "source": [
    "\n",
    "## 5.3 Conclusões: sugerir uma região para desenvolvimento de poços de petróleo e justificativa. A escolha corresponde à anterior?"
   ]
  },
  {
   "cell_type": "markdown",
   "metadata": {
    "id": "6L1zOwd1Fsjw"
   },
   "source": [
    "Nenhuma das três regiões apresentou risco de prejuízos quando avaliados os melhores 200 poços de cada uma delas e aplicada a técnica de bootstrapping.\n",
    "\n",
    "A melhor região onde deveriam ser aplicados os recursos é a Região 0, uma vez que seu potencial de produção/lucro é o mais elevado."
   ]
  },
  {
   "cell_type": "code",
   "execution_count": null,
   "metadata": {},
   "outputs": [],
   "source": []
  }
 ],
 "metadata": {
  "ExecuteTimeLog": [
   {
    "duration": 5265,
    "start_time": "2024-07-11T14:27:07.419Z"
   },
   {
    "duration": 3216,
    "start_time": "2024-07-11T14:27:12.692Z"
   },
   {
    "duration": 15,
    "start_time": "2024-07-11T14:27:15.911Z"
   },
   {
    "duration": 73,
    "start_time": "2024-07-11T14:27:15.932Z"
   },
   {
    "duration": 98,
    "start_time": "2024-07-11T14:27:16.010Z"
   },
   {
    "duration": 10,
    "start_time": "2024-07-11T14:27:16.113Z"
   },
   {
    "duration": 11,
    "start_time": "2024-07-11T14:27:16.127Z"
   },
   {
    "duration": 75,
    "start_time": "2024-07-11T14:27:16.141Z"
   },
   {
    "duration": 83,
    "start_time": "2024-07-11T14:27:16.219Z"
   },
   {
    "duration": 4,
    "start_time": "2024-07-11T14:27:16.306Z"
   },
   {
    "duration": 89,
    "start_time": "2024-07-11T14:27:16.314Z"
   },
   {
    "duration": 26,
    "start_time": "2024-07-11T14:27:16.406Z"
   },
   {
    "duration": 9,
    "start_time": "2024-07-11T14:27:16.438Z"
   },
   {
    "duration": 5,
    "start_time": "2024-07-11T14:27:16.514Z"
   },
   {
    "duration": 8,
    "start_time": "2024-07-11T14:27:16.522Z"
   },
   {
    "duration": 5,
    "start_time": "2024-07-11T14:27:16.533Z"
   },
   {
    "duration": 20,
    "start_time": "2024-07-11T14:27:16.541Z"
   },
   {
    "duration": 40,
    "start_time": "2024-07-11T14:27:16.564Z"
   },
   {
    "duration": 4,
    "start_time": "2024-07-11T14:27:16.612Z"
   },
   {
    "duration": 75,
    "start_time": "2024-07-11T14:27:16.619Z"
   },
   {
    "duration": 19,
    "start_time": "2024-07-11T14:27:16.707Z"
   },
   {
    "duration": 20,
    "start_time": "2024-07-11T14:27:16.730Z"
   },
   {
    "duration": 444,
    "start_time": "2024-07-11T14:27:16.753Z"
   },
   {
    "duration": 0,
    "start_time": "2024-07-11T14:27:17.200Z"
   },
   {
    "duration": 0,
    "start_time": "2024-07-11T14:27:17.201Z"
   },
   {
    "duration": 0,
    "start_time": "2024-07-11T14:27:17.202Z"
   },
   {
    "duration": 0,
    "start_time": "2024-07-11T14:27:17.204Z"
   },
   {
    "duration": 0,
    "start_time": "2024-07-11T14:27:17.207Z"
   },
   {
    "duration": 0,
    "start_time": "2024-07-11T14:27:17.208Z"
   },
   {
    "duration": 0,
    "start_time": "2024-07-11T14:27:17.209Z"
   },
   {
    "duration": 0,
    "start_time": "2024-07-11T14:27:17.210Z"
   },
   {
    "duration": 0,
    "start_time": "2024-07-11T14:27:17.212Z"
   },
   {
    "duration": 0,
    "start_time": "2024-07-11T14:27:17.213Z"
   },
   {
    "duration": 0,
    "start_time": "2024-07-11T14:27:17.214Z"
   },
   {
    "duration": 0,
    "start_time": "2024-07-11T14:27:17.216Z"
   },
   {
    "duration": 0,
    "start_time": "2024-07-11T14:27:17.217Z"
   },
   {
    "duration": 26,
    "start_time": "2024-07-11T14:27:49.495Z"
   },
   {
    "duration": 63,
    "start_time": "2024-07-11T14:28:21.329Z"
   },
   {
    "duration": 13,
    "start_time": "2024-07-11T14:28:40.489Z"
   },
   {
    "duration": 61,
    "start_time": "2024-07-11T14:28:50.493Z"
   },
   {
    "duration": 5,
    "start_time": "2024-07-11T14:30:36.935Z"
   },
   {
    "duration": 111,
    "start_time": "2024-07-11T14:30:53.866Z"
   },
   {
    "duration": 5,
    "start_time": "2024-07-11T14:31:00.945Z"
   },
   {
    "duration": 79,
    "start_time": "2024-07-11T14:31:03.193Z"
   },
   {
    "duration": 5,
    "start_time": "2024-07-11T14:32:10.717Z"
   },
   {
    "duration": 72,
    "start_time": "2024-07-11T14:32:12.424Z"
   },
   {
    "duration": 24,
    "start_time": "2024-07-11T14:32:57.478Z"
   },
   {
    "duration": 75,
    "start_time": "2024-07-11T14:33:00.998Z"
   },
   {
    "duration": 72,
    "start_time": "2024-07-11T14:33:14.769Z"
   },
   {
    "duration": 6,
    "start_time": "2024-07-11T14:35:07.452Z"
   },
   {
    "duration": 25,
    "start_time": "2024-07-11T14:35:09.906Z"
   },
   {
    "duration": 126,
    "start_time": "2024-07-11T14:35:42.394Z"
   },
   {
    "duration": 5,
    "start_time": "2024-07-11T14:35:45.283Z"
   },
   {
    "duration": 28,
    "start_time": "2024-07-11T14:35:47.180Z"
   },
   {
    "duration": 3,
    "start_time": "2024-07-11T14:37:58.660Z"
   },
   {
    "duration": 26,
    "start_time": "2024-07-11T14:38:00.165Z"
   },
   {
    "duration": 3,
    "start_time": "2024-07-11T14:38:41.861Z"
   },
   {
    "duration": 5,
    "start_time": "2024-07-11T14:38:43.638Z"
   },
   {
    "duration": 843,
    "start_time": "2024-07-11T14:38:45.809Z"
   },
   {
    "duration": 13,
    "start_time": "2024-07-11T14:38:50.509Z"
   },
   {
    "duration": 10,
    "start_time": "2024-07-11T14:39:00.687Z"
   },
   {
    "duration": 15,
    "start_time": "2024-07-11T14:39:58.049Z"
   },
   {
    "duration": 24,
    "start_time": "2024-07-11T14:43:40.355Z"
   },
   {
    "duration": 22,
    "start_time": "2024-07-11T14:45:38.845Z"
   },
   {
    "duration": 34,
    "start_time": "2024-07-11T14:45:47.210Z"
   },
   {
    "duration": 45,
    "start_time": "2024-07-11T14:46:15.258Z"
   },
   {
    "duration": 24,
    "start_time": "2024-07-11T14:46:33.549Z"
   },
   {
    "duration": 27,
    "start_time": "2024-07-11T14:46:48.109Z"
   },
   {
    "duration": 11,
    "start_time": "2024-07-11T14:46:53.968Z"
   },
   {
    "duration": 976,
    "start_time": "2024-07-11T14:47:27.250Z"
   },
   {
    "duration": 829,
    "start_time": "2024-07-11T14:47:59.307Z"
   },
   {
    "duration": 7,
    "start_time": "2024-07-11T14:48:15.703Z"
   },
   {
    "duration": 22,
    "start_time": "2024-07-11T14:48:56.456Z"
   },
   {
    "duration": 16,
    "start_time": "2024-07-11T14:49:05.876Z"
   },
   {
    "duration": 42,
    "start_time": "2024-07-11T14:50:22.156Z"
   },
   {
    "duration": 7,
    "start_time": "2024-07-11T14:51:37.043Z"
   },
   {
    "duration": 5,
    "start_time": "2024-07-11T14:51:45.527Z"
   },
   {
    "duration": 4,
    "start_time": "2024-07-11T14:52:12.835Z"
   },
   {
    "duration": 24,
    "start_time": "2024-07-11T14:52:20.181Z"
   },
   {
    "duration": 50,
    "start_time": "2024-07-11T14:52:36.387Z"
   },
   {
    "duration": 4,
    "start_time": "2024-07-11T14:52:50.233Z"
   },
   {
    "duration": 34,
    "start_time": "2024-07-11T14:52:51.831Z"
   },
   {
    "duration": 15,
    "start_time": "2024-07-11T14:59:16.205Z"
   },
   {
    "duration": 11,
    "start_time": "2024-07-11T14:59:21.008Z"
   },
   {
    "duration": 24,
    "start_time": "2024-07-11T14:59:46.843Z"
   },
   {
    "duration": 36,
    "start_time": "2024-07-11T14:59:58.354Z"
   },
   {
    "duration": 31,
    "start_time": "2024-07-11T15:01:38.172Z"
   },
   {
    "duration": 27,
    "start_time": "2024-07-11T15:07:55.658Z"
   },
   {
    "duration": 17,
    "start_time": "2024-07-11T15:09:06.888Z"
   },
   {
    "duration": 27,
    "start_time": "2024-07-11T15:10:10.556Z"
   },
   {
    "duration": 26,
    "start_time": "2024-07-11T15:10:24.942Z"
   },
   {
    "duration": 26,
    "start_time": "2024-07-11T15:11:19.248Z"
   },
   {
    "duration": 4,
    "start_time": "2024-07-11T15:13:23.530Z"
   },
   {
    "duration": 11,
    "start_time": "2024-07-11T15:14:05.221Z"
   },
   {
    "duration": 831,
    "start_time": "2024-07-11T15:14:34.905Z"
   },
   {
    "duration": 1684,
    "start_time": "2024-07-11T15:14:55.832Z"
   },
   {
    "duration": 1679,
    "start_time": "2024-07-11T15:14:58.703Z"
   },
   {
    "duration": 1675,
    "start_time": "2024-07-11T15:17:05.846Z"
   },
   {
    "duration": 1653,
    "start_time": "2024-07-11T15:18:44.143Z"
   },
   {
    "duration": 1641,
    "start_time": "2024-07-11T15:18:56.969Z"
   },
   {
    "duration": 1645,
    "start_time": "2024-07-11T15:19:19.866Z"
   },
   {
    "duration": 1640,
    "start_time": "2024-07-11T15:19:51.176Z"
   },
   {
    "duration": 1678,
    "start_time": "2024-07-11T15:20:09.036Z"
   },
   {
    "duration": 7,
    "start_time": "2024-07-11T15:20:37.306Z"
   },
   {
    "duration": 1646,
    "start_time": "2024-07-11T15:20:40.798Z"
   },
   {
    "duration": 6,
    "start_time": "2024-07-11T15:20:58.512Z"
   },
   {
    "duration": 1651,
    "start_time": "2024-07-11T15:21:03.523Z"
   },
   {
    "duration": 1682,
    "start_time": "2024-07-11T15:21:54.757Z"
   },
   {
    "duration": 1837,
    "start_time": "2024-07-11T15:22:12.121Z"
   },
   {
    "duration": 1695,
    "start_time": "2024-07-11T15:23:01.363Z"
   },
   {
    "duration": 1679,
    "start_time": "2024-07-11T15:23:17.988Z"
   },
   {
    "duration": 7,
    "start_time": "2024-07-11T15:23:29.190Z"
   },
   {
    "duration": 1686,
    "start_time": "2024-07-11T15:23:39.077Z"
   },
   {
    "duration": 1967,
    "start_time": "2024-07-11T15:23:46.784Z"
   },
   {
    "duration": 1678,
    "start_time": "2024-07-11T15:24:05.227Z"
   },
   {
    "duration": 1664,
    "start_time": "2024-07-11T15:25:03.018Z"
   }
  ],
  "colab": {
   "provenance": []
  },
  "kernelspec": {
   "display_name": "Python [conda env:modern_ts]",
   "language": "python",
   "name": "conda-env-modern_ts-py"
  },
  "language_info": {
   "codemirror_mode": {
    "name": "ipython",
    "version": 3
   },
   "file_extension": ".py",
   "mimetype": "text/x-python",
   "name": "python",
   "nbconvert_exporter": "python",
   "pygments_lexer": "ipython3",
   "version": "3.9.0"
  },
  "toc": {
   "base_numbering": 1,
   "nav_menu": {},
   "number_sections": true,
   "sideBar": true,
   "skip_h1_title": true,
   "title_cell": "Table of Contents",
   "title_sidebar": "Contents",
   "toc_cell": false,
   "toc_position": {},
   "toc_section_display": true,
   "toc_window_display": false
  }
 },
 "nbformat": 4,
 "nbformat_minor": 4
}
